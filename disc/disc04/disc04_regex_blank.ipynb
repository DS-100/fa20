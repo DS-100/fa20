{
 "cells": [
  {
   "cell_type": "markdown",
   "metadata": {},
   "source": [
    "# Discussion 4 Regex Supplemental Notebook"
   ]
  },
  {
   "cell_type": "code",
   "execution_count": null,
   "metadata": {},
   "outputs": [],
   "source": [
    "import re\n",
    "import pandas as pd"
   ]
  },
  {
   "cell_type": "code",
   "execution_count": null,
   "metadata": {},
   "outputs": [],
   "source": [
    "class NotStringError(Exception):\n",
    "    pass\n",
    "\n",
    "def find_matches(text_list, regex):\n",
    "    # This function finds the parts of each string in text_list which matches the regex\n",
    "    if not isinstance(text_list, list):\n",
    "        text_list = [text_list]\n",
    "    \n",
    "    for i, text in enumerate(text_list):\n",
    "        if not isinstance(text, str):\n",
    "             raise NotStringError(f'The {i}th item is not a string.')\n",
    "    \n",
    "    matches = [re.search(regex, text) for text in text_list]\n",
    "        \n",
    "    return [None if match is None else match[0] for match in matches]\n"
   ]
  },
  {
   "cell_type": "markdown",
   "metadata": {},
   "source": [
    "## Question 1\n",
    "\n",
    "Which strings contain a match for the following regular expression, \"1+1$\"?\n",
    "\n",
    "Remember: \"+\" matches preceding literal or sub-expression *one* or more times and \"$\" matches the position at the end of a string."
   ]
  },
  {
   "cell_type": "code",
   "execution_count": null,
   "metadata": {},
   "outputs": [],
   "source": [
    "texts = ['What is 1+1?', 'Make a wish at 11:11', '111 Ways to Succeed']\n",
    "regex10 = r''\n",
    "find_matches(texts, regex10)"
   ]
  },
  {
   "cell_type": "markdown",
   "metadata": {},
   "source": [
    "## Question 2\n",
    "\n",
    "Given the text in the cell below, \n",
    "    \n",
    "Which of the following matches exactly to the email addresses (including angle brackets)?"
   ]
  },
  {
   "cell_type": "code",
   "execution_count": null,
   "metadata": {},
   "outputs": [],
   "source": [
    "records = [\n",
    "    '<record> Josh Hug <hug@cs.berkeley.edu> Faculty </record>',\n",
    "    '<record> Manana Hakobyan <manana.hakobyan@berkeley.eud> TA </record>'\n",
    "]\n",
    "regex5 = r'<.*@.*>'\n",
    "regex6 = r'<[^<]*@[^>]*>'\n",
    "regex7 = r'<.*@\\w+\\..*>'"
   ]
  },
  {
   "cell_type": "code",
   "execution_count": null,
   "metadata": {},
   "outputs": [],
   "source": [
    "find_matches(records, ...)"
   ]
  },
  {
   "cell_type": "markdown",
   "metadata": {},
   "source": [
    "## Question 3\n",
    "For each pattern specify the starting and ending position of the first match in the string. The index starts at zero and we are using closed intervals (both endpoints are included).\n",
    "\n",
    "|    .      | abcdefg | abcs! | ab abc | abc, 123 |\n",
    "|-----------|---------|-------|--------|----------|\n",
    "| abc*      | [0,2]   |   .   |    .   |    .     |\n",
    "| [^\\s]+    |    .    |   .   |    .   |    .     |\n",
    "| ab.* c    |    .    |   .   |    .   |    .     |\n",
    "| [a-z1,9]+ |    .    |   .   |    .   |    .     |\n",
    "\n",
    "Note: Try using the <https://regex101.com/> tool to understand more about regular expressions!"
   ]
  },
  {
   "cell_type": "code",
   "execution_count": null,
   "metadata": {},
   "outputs": [],
   "source": [
    "# Save all of our strings and regex expressions as string objects.\n",
    "string1 = 'abcdefg'\n",
    "string2 = 'abcs!'\n",
    "string3 = 'ab abc'\n",
    "string4 = 'abc, 123'\n",
    "regex1 = 'abc*'\n",
    "regex2 = '[^\\s]+'\n",
    "regex3 = 'ab.*c'\n",
    "regex4 = '[a-z1,9]+'"
   ]
  },
  {
   "cell_type": "code",
   "execution_count": null,
   "metadata": {},
   "outputs": [],
   "source": [
    "q3data = [[find_matches(string1,regex1),find_matches(string2,regex1),find_matches(string3,regex1),find_matches(string4,regex1)],\n",
    "           [find_matches(string1,regex2),find_matches(string2,regex2),find_matches(string3,regex2),find_matches(string4,regex2)],\n",
    "           [find_matches(string1,regex3),find_matches(string2,regex3),find_matches(string3,regex3),find_matches(string4,regex3)],\n",
    "           [find_matches(string1,regex4),find_matches(string2,regex4),find_matches(string3,regex4),find_matches(string4,regex4)]]\n",
    "\n",
    "q3table = pd.DataFrame(q3data, columns = [string1, string2, string3, string4], index = [regex1, regex2, regex3, regex4])\n",
    "\n",
    "q3table\n",
    "\n",
    "# Need to query the original strings to get index start and end positions"
   ]
  },
  {
   "cell_type": "markdown",
   "metadata": {},
   "source": [
    "## Question 4\n",
    "\n",
    "Write a regular expression that matches strings (including the empty strings) that only contain lowercase letters and numbers."
   ]
  },
  {
   "cell_type": "code",
   "execution_count": null,
   "metadata": {},
   "outputs": [],
   "source": [
    "regex11 = ''\n",
    "string6 = ['adsf04RTS!','asdfa342','RA43','adsfa!']\n",
    "find_matches(string6,regex11)"
   ]
  },
  {
   "cell_type": "markdown",
   "metadata": {},
   "source": [
    "## Question 5\n",
    "\n",
    "Write a regular expression that matches strings that contain exactly 5 vowels.\n",
    "\n",
    "Remember: \n",
    "- `^` matches the position at the beginning of a string (unless used for negation as in \"[^]\").\n",
    "- `*` matches the preceding literal or sub-expression zero or more times.\n",
    "- `[ ]` matches any one of the characters inside of the brackets.\n",
    "- `{ }` indicates the {minimum, maximum} number of matches.\n",
    "- `$` matches the position at the end of a string.\n",
    "\n"
   ]
  },
  {
   "cell_type": "code",
   "execution_count": null,
   "metadata": {},
   "outputs": [],
   "source": [
    "regex8 = ''\n",
    "string5 = ['fabulous', 'berkeley', 'go uc berkeley', 'GO UC Berkeley', 'vowels are fun', 'vowels are great']\n",
    "find_matches(string5,regex8)"
   ]
  },
  {
   "cell_type": "markdown",
   "metadata": {},
   "source": [
    "## Question 6\n",
    "\n",
    "Given that `address` is a string, use `re.sub` to replace all vowels with a lowercase letter \"o\". For example \"123 Orange Street\" would be changed to \"123 orango Stroot\"."
   ]
  },
  {
   "cell_type": "code",
   "execution_count": null,
   "metadata": {},
   "outputs": [],
   "source": [
    "address = \"123 Orange Street\"\n",
    "regex12 = r\"\"\n",
    "re.sub(regex12, \"o\", address)"
   ]
  },
  {
   "cell_type": "markdown",
   "metadata": {},
   "source": [
    "## Question 7\n",
    "\n",
    "Given that `sometext` is a string, use `re.sub` to replace all clusters of non-vowel characters with a single period. For example `a big moon, between us...` would be changed to `a.i.oo.e.ee.u.`."
   ]
  },
  {
   "cell_type": "code",
   "execution_count": null,
   "metadata": {},
   "outputs": [],
   "source": [
    "sometext = \"a big moon, between us...\"\n",
    "regex9 = r\"\"\n",
    "re.sub(regex9, \".\", sometext)"
   ]
  },
  {
   "cell_type": "markdown",
   "metadata": {},
   "source": [
    "## Question 8\n",
    "\n",
    "Given `sometext = \"I've got 10 eggs, 20 gooses, and 30 giants.\"`, use `re.findall` to extract all the items and quantities from the string. The result should look like `['10 eggs', '20 gooses', '30 giants']`. You may assume that a space separates quantity and type, and that each item ends in s."
   ]
  },
  {
   "cell_type": "code",
   "execution_count": null,
   "metadata": {},
   "outputs": [],
   "source": [
    "sometext = \"I've got 10 eggs, 20 gooses, and 30 giants.\"\n",
    "regex13 = r\"\"\n",
    "re.findall(regex13, sometext)"
   ]
  },
  {
   "cell_type": "markdown",
   "metadata": {},
   "source": [
    "## Question 9\n",
    "\n",
    "Given the following text in variable `log`:\n",
    "\n",
    "Fill in the regular expression in the variable `pattern` below so that after it executes, day is 26, month is Jan, and year is 2014."
   ]
  },
  {
   "cell_type": "code",
   "execution_count": null,
   "metadata": {},
   "outputs": [],
   "source": [
    "log = '169.237.46.168 - - [26/Jan/2014:10:47:58 -0800] \"GET /stat141/Winter04/ HTTP/1.1\" 200 2585 \"http://anson.ucdavis.edu/courses/\"'\n",
    "pattern = r\"\"\n",
    "matches = re.findall(pattern, log)\n",
    "day, month, year = matches[0]\n",
    "[day, month, year]"
   ]
  }
 ],
 "metadata": {
  "kernelspec": {
   "display_name": "Python 3",
   "language": "python",
   "name": "python3"
  },
  "language_info": {
   "codemirror_mode": {
    "name": "ipython",
    "version": 3
   },
   "file_extension": ".py",
   "mimetype": "text/x-python",
   "name": "python",
   "nbconvert_exporter": "python",
   "pygments_lexer": "ipython3",
   "version": "3.7.4"
  }
 },
 "nbformat": 4,
 "nbformat_minor": 4
}
