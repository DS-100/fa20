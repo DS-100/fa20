{
 "cells": [
  {
   "cell_type": "markdown",
   "metadata": {},
   "source": [
    "# Lecture 13 – Data 100, Fall 2020\n",
    "\n",
    "**by Suraj Rampure**"
   ]
  },
  {
   "cell_type": "code",
   "execution_count": null,
   "metadata": {},
   "outputs": [],
   "source": [
    "import pandas as pd\n",
    "import numpy as np\n",
    "import matplotlib.pyplot as plt\n",
    "import sklearn.linear_model as lm\n",
    "\n",
    "import plotly.express as px\n",
    "import plotly.graph_objects as go\n",
    "\n",
    "import seaborn as sns"
   ]
  },
  {
   "cell_type": "code",
   "execution_count": null,
   "metadata": {},
   "outputs": [],
   "source": [
    "nba = pd.read_csv('nba18-19.csv')"
   ]
  },
  {
   "cell_type": "code",
   "execution_count": null,
   "metadata": {
    "scrolled": true
   },
   "outputs": [],
   "source": [
    "nba"
   ]
  },
  {
   "cell_type": "markdown",
   "metadata": {},
   "source": [
    "## Recap from Lecture 12"
   ]
  },
  {
   "cell_type": "markdown",
   "metadata": {},
   "source": [
    "In the last lecture, we used this magical package `sklearn` to determine the optimal value of $\\hat{\\theta}$ for a linear model that uses `AST` and `3PA` to predict `PTS`. (The usage of `sklearn` will be covered in the next lecture.)\n",
    "\n",
    "Note: We didn't actually cover this part in the video, but it was in the notebook."
   ]
  },
  {
   "cell_type": "code",
   "execution_count": null,
   "metadata": {},
   "outputs": [],
   "source": [
    "model = lm.LinearRegression(fit_intercept = True)\n",
    "\n",
    "model.fit(nba[['AST', '3PA']], nba['PTS']);"
   ]
  },
  {
   "cell_type": "markdown",
   "metadata": {},
   "source": [
    "We then looked at the values of the coefficients:"
   ]
  },
  {
   "cell_type": "code",
   "execution_count": null,
   "metadata": {},
   "outputs": [],
   "source": [
    "model.coef_"
   ]
  },
  {
   "cell_type": "code",
   "execution_count": null,
   "metadata": {},
   "outputs": [],
   "source": [
    "model.intercept_"
   ]
  },
  {
   "cell_type": "markdown",
   "metadata": {},
   "source": [
    "This meant our model was of the form\n",
    "\n",
    "$$\\text{predicted PTS} = 2.1563 + 1.6407 \\cdot \\text{AST} + 1.2576 \\cdot \\text{3PA}$$"
   ]
  },
  {
   "cell_type": "markdown",
   "metadata": {},
   "source": [
    "## Using `np.linalg.inv` to solve for optimal $\\hat{\\theta}$"
   ]
  },
  {
   "cell_type": "markdown",
   "metadata": {},
   "source": [
    "We will now use what we know about the solution to the normal equations to determine $\\hat{\\theta}$ on our own, by hand. We know that for the ordinary least squares model,\n",
    "\n",
    "$$\\hat{\\theta} = (\\mathbb{X}^T\\mathbb{X})^{-1} \\mathbb{X}^T\\mathbb{Y}$$"
   ]
  },
  {
   "cell_type": "code",
   "execution_count": null,
   "metadata": {},
   "outputs": [],
   "source": [
    "X = nba[['AST', '3PA']]\n",
    "y = nba['PTS']"
   ]
  },
  {
   "cell_type": "code",
   "execution_count": null,
   "metadata": {},
   "outputs": [],
   "source": [
    "X.shape"
   ]
  },
  {
   "cell_type": "markdown",
   "metadata": {},
   "source": [
    "Here, our design matrix $\\mathbb{X}$ only has two columns. But, in order to incorporate the intercept term (i.e. $\\theta_0$), we need to include a column that contains all 1s. This is referred to as the \"intercept\" or \"bias\" column. (`sklearn` handled this for us, because we set `fit_intercept = True`. This is actually the default behavior in `sklearn`.)"
   ]
  },
  {
   "cell_type": "code",
   "execution_count": null,
   "metadata": {},
   "outputs": [],
   "source": [
    "X.loc[:, 'bias'] = 1\n",
    "\n",
    "# This line reorders our columns so that column i corresponds to theta_i.\n",
    "# By default, newly added columns to go to the end of a DataFrame.\n",
    "# This is not at all necessary; it just makes our resulting theta vector follow a nice order.\n",
    "X = X[['bias', 'AST', '3PA']]"
   ]
  },
  {
   "cell_type": "code",
   "execution_count": null,
   "metadata": {},
   "outputs": [],
   "source": [
    "X"
   ]
  },
  {
   "cell_type": "code",
   "execution_count": null,
   "metadata": {},
   "outputs": [],
   "source": [
    "def least_squares(X, y):\n",
    "    return np.linalg.inv(X.T @ X) @ X.T @ y"
   ]
  },
  {
   "cell_type": "code",
   "execution_count": null,
   "metadata": {},
   "outputs": [],
   "source": [
    "theta = least_squares(X, y)"
   ]
  },
  {
   "cell_type": "code",
   "execution_count": null,
   "metadata": {},
   "outputs": [],
   "source": [
    "theta"
   ]
  },
  {
   "cell_type": "markdown",
   "metadata": {},
   "source": [
    "Here, `theta[0] = 2.156`. Since the first column of `X` is the intercept column, this means that $\\theta_0 = 2.1563$. Similarly, we have $\\theta_1 = 1.6407$ and $\\theta_2 = 1.2576$. These are the exact same coefficients that `sklearn` found for us!"
   ]
  },
  {
   "cell_type": "markdown",
   "metadata": {},
   "source": [
    "## Residual plots"
   ]
  },
  {
   "cell_type": "markdown",
   "metadata": {},
   "source": [
    "For the simple linear case, let's revisit Anscombe's quartet."
   ]
  },
  {
   "cell_type": "code",
   "execution_count": null,
   "metadata": {},
   "outputs": [],
   "source": [
    "ans = sns.load_dataset('anscombe')"
   ]
  },
  {
   "cell_type": "code",
   "execution_count": null,
   "metadata": {},
   "outputs": [],
   "source": [
    "ans1 = ans[ans['dataset'] == 'I']\n",
    "ans2 = ans[ans['dataset'] == 'II']"
   ]
  },
  {
   "cell_type": "markdown",
   "metadata": {},
   "source": [
    "Dataset 1 appears to have a linear trend between $x$ and $y$:"
   ]
  },
  {
   "cell_type": "code",
   "execution_count": null,
   "metadata": {},
   "outputs": [],
   "source": [
    "plt.scatter(ans1['x'], ans1['y']);"
   ]
  },
  {
   "cell_type": "markdown",
   "metadata": {},
   "source": [
    "While dataset 2 does not:"
   ]
  },
  {
   "cell_type": "code",
   "execution_count": null,
   "metadata": {},
   "outputs": [],
   "source": [
    "plt.scatter(ans2['x'], ans2['y']);"
   ]
  },
  {
   "cell_type": "markdown",
   "metadata": {},
   "source": [
    "Let's fit simple linear regression models to both datasets, and look at residual plots of residual vs. $x$."
   ]
  },
  {
   "cell_type": "code",
   "execution_count": null,
   "metadata": {},
   "outputs": [],
   "source": [
    "slr_ans_1 = lm.LinearRegression()\n",
    "slr_ans_1.fit(ans1[['x']], ans1['y'])\n",
    "y_pred_ans_1 = slr_ans_1.predict(ans1[['x']])\n",
    "residual_ans_1 = ans1['y'] - y_pred_ans_1"
   ]
  },
  {
   "cell_type": "code",
   "execution_count": null,
   "metadata": {},
   "outputs": [],
   "source": [
    "plt.scatter(ans1['x'], residual_ans_1, color = 'red');\n",
    "plt.plot([4, 14], [0, 0], color = 'black')\n",
    "plt.xlabel(r'$x$')\n",
    "plt.ylabel('residual');\n",
    "plt.title(r'Residual vs. $x$ for dataset 1');"
   ]
  },
  {
   "cell_type": "markdown",
   "metadata": {},
   "source": [
    "For dataset 1, it appears that the residuals are generally equally spread out, and that there is no trend. This indicates that our linear model was a good fit here. (It is also true that the \"positive\" and \"negative\" residuals cancel out, but this is true even when our fit isn't good.)"
   ]
  },
  {
   "cell_type": "code",
   "execution_count": null,
   "metadata": {},
   "outputs": [],
   "source": [
    "slr_ans_2 = lm.LinearRegression()\n",
    "slr_ans_2.fit(ans2[['x']], ans2['y'])\n",
    "y_pred_ans_2 = slr_ans_2.predict(ans2[['x']])\n",
    "residual_ans_2 = ans2['y'] - y_pred_ans_2"
   ]
  },
  {
   "cell_type": "code",
   "execution_count": null,
   "metadata": {},
   "outputs": [],
   "source": [
    "plt.scatter(ans2['x'], residual_ans_2, color = 'red');\n",
    "plt.plot([4, 14], [0, 0], color = 'black')\n",
    "plt.xlabel(r'$x$')\n",
    "plt.ylabel('residual');\n",
    "plt.title(r'Residual vs. $x$ for dataset 2');"
   ]
  },
  {
   "cell_type": "markdown",
   "metadata": {},
   "source": [
    "The fit does not appear to be as good here. While the positive and negative residuals cancel out, there is a clear trend – the underlying data has a quadratic relationship, and the residuals reflect that. We'd likely need to increase the complexity of our model here.\n",
    "\n",
    "As mentioned above, the residuals in both sum to zero, but this is true of any linear model with an intercept term, as discussed in lecture."
   ]
  },
  {
   "cell_type": "code",
   "execution_count": null,
   "metadata": {},
   "outputs": [],
   "source": [
    "residual_ans_1.sum()"
   ]
  },
  {
   "cell_type": "code",
   "execution_count": null,
   "metadata": {},
   "outputs": [],
   "source": [
    "residual_ans_2.sum()"
   ]
  },
  {
   "cell_type": "markdown",
   "metadata": {},
   "source": [
    "For the multiple linear regression case, let's go back to the `nba` data. Let's once again use `AST` and `3PA` to predict `PTS`."
   ]
  },
  {
   "cell_type": "code",
   "execution_count": null,
   "metadata": {},
   "outputs": [],
   "source": [
    "nba_model = lm.LinearRegression()\n",
    "nba_model.fit(nba[['AST', '3PA']], nba['PTS'])\n",
    "pts_pred = nba_model.predict(nba[['AST', '3PA']])\n",
    "residual_nba = nba['PTS'] - pts_pred"
   ]
  },
  {
   "cell_type": "code",
   "execution_count": null,
   "metadata": {},
   "outputs": [],
   "source": [
    "fig = go.Figure()\n",
    "\n",
    "data_scatter = go.Scatter(x = pts_pred, y = residual_nba,\n",
    "                         mode = 'markers',\n",
    "                         marker = dict(color = 'red', size = 8), name = 'residuals vs. fitted values')\n",
    "\n",
    "fig.add_trace(data_scatter)\n",
    "fig.add_trace(go.Scatter(x = [0, 35], y = [0, 0], name = 'residuals = 0', marker = dict(color = 'black')))\n",
    "fig.update_layout(margin=dict(l=0, r=0, t=0, b=0), \n",
    "                  height=400,\n",
    "                 xaxis_title=r\"Fitted Values\",\n",
    "                 yaxis_title=\"Residuals\")\n",
    "\n",
    "fig"
   ]
  },
  {
   "cell_type": "markdown",
   "metadata": {},
   "source": [
    "There isn't a clear pattern, but there seems to be uneven spread."
   ]
  }
 ],
 "metadata": {
  "kernelspec": {
   "display_name": "Python 3",
   "language": "python",
   "name": "python3"
  },
  "language_info": {
   "codemirror_mode": {
    "name": "ipython",
    "version": 3
   },
   "file_extension": ".py",
   "mimetype": "text/x-python",
   "name": "python",
   "nbconvert_exporter": "python",
   "pygments_lexer": "ipython3",
   "version": "3.7.4"
  }
 },
 "nbformat": 4,
 "nbformat_minor": 2
}
