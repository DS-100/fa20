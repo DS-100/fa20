{
 "cells": [
  {
   "cell_type": "markdown",
   "metadata": {},
   "source": [
    "# Lecture 20: Decision Trees – Data 100, Fall 2020\n",
    "\n",
    "**by Josh Hug**"
   ]
  },
  {
   "cell_type": "code",
   "execution_count": null,
   "metadata": {},
   "outputs": [],
   "source": [
    "import seaborn as sns\n",
    "import pandas as pd\n",
    "sns.set(font_scale=1.5)\n",
    "import matplotlib.pyplot as plt\n",
    "import numpy as np\n",
    "from sklearn import linear_model\n",
    "from sklearn.metrics import mean_squared_error\n",
    "from sklearn.metrics import mean_absolute_error\n",
    "from sklearn.linear_model import LinearRegression\n",
    "from sklearn.preprocessing import PolynomialFeatures\n",
    "from sklearn.preprocessing import StandardScaler\n",
    "\n",
    "from sklearn.pipeline import Pipeline"
   ]
  },
  {
   "cell_type": "code",
   "execution_count": null,
   "metadata": {},
   "outputs": [],
   "source": [
    "# set numpy random seed so that this notebook is deterministic\n",
    "np.random.seed(23)"
   ]
  },
  {
   "cell_type": "markdown",
   "metadata": {},
   "source": [
    "## Linear Classification"
   ]
  },
  {
   "cell_type": "code",
   "execution_count": null,
   "metadata": {
    "scrolled": false
   },
   "outputs": [],
   "source": [
    "iris_data = pd.read_csv(\"iris.csv\")\n",
    "iris_data.sample(5)"
   ]
  },
  {
   "cell_type": "code",
   "execution_count": null,
   "metadata": {},
   "outputs": [],
   "source": [
    "sns.scatterplot(data = iris_data, x = \"petal_length\", y=\"petal_width\", hue=\"species\");\n",
    "#fig = plt.gcf()\n",
    "#fig.savefig(\"iris_scatter_plot_with_petal_data.png\", dpi=300, bbox_inches = \"tight\")"
   ]
  },
  {
   "cell_type": "code",
   "execution_count": null,
   "metadata": {},
   "outputs": [],
   "source": [
    "from sklearn.linear_model import LogisticRegression\n",
    "logistic_regression_model = LogisticRegression(multi_class = 'ovr')\n",
    "logistic_regression_model = logistic_regression_model.fit(iris_data[[\"petal_length\", \"petal_width\"]], iris_data[\"species\"])"
   ]
  },
  {
   "cell_type": "code",
   "execution_count": null,
   "metadata": {},
   "outputs": [],
   "source": [
    "from matplotlib.colors import ListedColormap\n",
    "sns_cmap = ListedColormap(np.array(sns.color_palette())[0:3, :])\n",
    "\n",
    "xx, yy = np.meshgrid(np.arange(0, 7, 0.02),\n",
    "                     np.arange(0, 2.8, 0.02))\n",
    "\n",
    "Z_string = logistic_regression_model.predict(np.c_[xx.ravel(), yy.ravel()])\n",
    "categories, Z_int = np.unique(Z_string, return_inverse=True)\n",
    "Z_int = Z_int \n",
    "Z_int = Z_int.reshape(xx.shape)\n",
    "#cs = plt.contourf(xx, yy, Z_int, cmap=sns_cmap)\n",
    "sns.scatterplot(data = iris_data, x = \"petal_length\", y=\"petal_width\", hue=\"species\")\n",
    "plt.xlim(0, 7)\n",
    "plt.ylim(0, 2.8);\n",
    "# plt.savefig(\"iris_decision_boundaries_logistic_regression_no_boundaries.png\", dpi=300, bbox_inches = \"tight\")"
   ]
  },
  {
   "cell_type": "markdown",
   "metadata": {},
   "source": [
    "## Decision Tree Classification"
   ]
  },
  {
   "cell_type": "code",
   "execution_count": null,
   "metadata": {},
   "outputs": [],
   "source": [
    "from sklearn import tree\n",
    "decision_tree_model = tree.DecisionTreeClassifier()\n",
    "decision_tree_model = decision_tree_model.fit(iris_data[[\"petal_length\", \"petal_width\"]], iris_data[\"species\"])"
   ]
  },
  {
   "cell_type": "code",
   "execution_count": null,
   "metadata": {},
   "outputs": [],
   "source": [
    "four_random_rows = iris_data.sample(4)\n",
    "four_random_rows"
   ]
  },
  {
   "cell_type": "code",
   "execution_count": null,
   "metadata": {},
   "outputs": [],
   "source": [
    "decision_tree_model.predict(four_random_rows[[\"petal_length\", \"petal_width\"]])"
   ]
  },
  {
   "cell_type": "code",
   "execution_count": null,
   "metadata": {},
   "outputs": [],
   "source": [
    " tree.plot_tree(decision_tree_model);"
   ]
  },
  {
   "cell_type": "code",
   "execution_count": null,
   "metadata": {},
   "outputs": [],
   "source": [
    "# !pip install graphviz"
   ]
  },
  {
   "cell_type": "code",
   "execution_count": null,
   "metadata": {},
   "outputs": [],
   "source": [
    "import graphviz"
   ]
  },
  {
   "cell_type": "code",
   "execution_count": null,
   "metadata": {},
   "outputs": [],
   "source": [
    "dot_data = tree.export_graphviz(decision_tree_model, out_file=None, \n",
    "                      feature_names=[\"petal_length\", \"petal_width\"],  \n",
    "                      class_names=[\"setosa\", \"versicolor\", \"virginica\"],  \n",
    "                      filled=True, rounded=True,  \n",
    "                      special_characters=True)  \n",
    "graph = graphviz.Source(dot_data)\n",
    "#graph.render(format=\"png\", filename=\"iris_tree\")\n",
    "graph"
   ]
  },
  {
   "cell_type": "code",
   "execution_count": null,
   "metadata": {},
   "outputs": [],
   "source": [
    "from matplotlib.colors import ListedColormap\n",
    "sns_cmap = ListedColormap(np.array(sns.color_palette())[0:3, :])\n",
    "\n",
    "xx, yy = np.meshgrid(np.arange(0, 7, 0.02),\n",
    "                     np.arange(0, 2.8, 0.02))\n",
    "\n",
    "Z_string = decision_tree_model.predict(np.c_[xx.ravel(), yy.ravel()])\n",
    "categories, Z_int = np.unique(Z_string, return_inverse=True)\n",
    "Z_int = Z_int \n",
    "Z_int = Z_int.reshape(xx.shape)\n",
    "cs = plt.contourf(xx, yy, Z_int, cmap=sns_cmap)\n",
    "sns.scatterplot(data = iris_data, x = \"petal_length\", y=\"petal_width\", hue=\"species\");\n",
    "#fig = plt.gcf()\n",
    "#fig.savefig(\"iris_decision_boundaries.png\", dpi=300, bbox_inches = \"tight\")"
   ]
  },
  {
   "cell_type": "code",
   "execution_count": null,
   "metadata": {},
   "outputs": [],
   "source": [
    "from sklearn.metrics import accuracy_score\n",
    "predictions = decision_tree_model.predict(iris_data[[\"petal_length\", \"petal_width\"]])\n",
    "accuracy_score(predictions, iris_data[\"species\"])"
   ]
  },
  {
   "cell_type": "code",
   "execution_count": null,
   "metadata": {
    "scrolled": true
   },
   "outputs": [],
   "source": [
    "iris_data.query(\"petal_length > 2.45 and petal_width > 1.75 and petal_length <= 4.85\")"
   ]
  },
  {
   "cell_type": "markdown",
   "metadata": {},
   "source": [
    "## Overfitting"
   ]
  },
  {
   "cell_type": "code",
   "execution_count": null,
   "metadata": {},
   "outputs": [],
   "source": [
    "train_iris_data, test_iris_data = np.split(iris_data.sample(frac=1), [110])"
   ]
  },
  {
   "cell_type": "code",
   "execution_count": null,
   "metadata": {},
   "outputs": [],
   "source": [
    "#sort so that the color labels match what we had in the earlier part of lecture\n",
    "train_iris_data = train_iris_data.sort_values(by=\"species\")\n",
    "test_iris_data = test_iris_data.sort_values(by=\"species\")"
   ]
  },
  {
   "cell_type": "code",
   "execution_count": null,
   "metadata": {},
   "outputs": [],
   "source": [
    "len(train_iris_data)"
   ]
  },
  {
   "cell_type": "code",
   "execution_count": null,
   "metadata": {},
   "outputs": [],
   "source": [
    "train_iris_data.head(5)"
   ]
  },
  {
   "cell_type": "code",
   "execution_count": null,
   "metadata": {},
   "outputs": [],
   "source": [
    "from sklearn import tree\n",
    "decision_tree_model = tree.DecisionTreeClassifier()\n",
    "decision_tree_model = decision_tree_model.fit(train_iris_data[[\"petal_length\", \"petal_width\"]], train_iris_data[\"species\"])"
   ]
  },
  {
   "cell_type": "code",
   "execution_count": null,
   "metadata": {},
   "outputs": [],
   "source": [
    "from matplotlib.colors import ListedColormap\n",
    "sns_cmap = ListedColormap(np.array(sns.color_palette())[0:3, :])\n",
    "\n",
    "xx, yy = np.meshgrid(np.arange(0, 7, 0.02),\n",
    "                     np.arange(0, 2.8, 0.02))\n",
    "\n",
    "Z_string = decision_tree_model.predict(np.c_[xx.ravel(), yy.ravel()])\n",
    "categories, Z_int = np.unique(Z_string, return_inverse=True)\n",
    "Z_int = Z_int \n",
    "Z_int = Z_int.reshape(xx.shape)\n",
    "cs = plt.contourf(xx, yy, Z_int, cmap=sns_cmap)\n",
    "sns.scatterplot(data = train_iris_data, x = \"petal_length\", y=\"petal_width\", hue=\"species\");\n",
    "#fig = plt.gcf()\n",
    "#fig.savefig(\"iris_decision_boundaries_model_train_test_split_training_only.png\", dpi=300, bbox_inches = \"tight\")"
   ]
  },
  {
   "cell_type": "code",
   "execution_count": null,
   "metadata": {},
   "outputs": [],
   "source": [
    "from matplotlib.colors import ListedColormap\n",
    "sns_cmap = ListedColormap(np.array(sns.color_palette())[0:3, :])\n",
    "\n",
    "xx, yy = np.meshgrid(np.arange(0, 7, 0.02),\n",
    "                     np.arange(0, 2.8, 0.02))\n",
    "\n",
    "Z_string = decision_tree_model.predict(np.c_[xx.ravel(), yy.ravel()])\n",
    "categories, Z_int = np.unique(Z_string, return_inverse=True)\n",
    "Z_int = Z_int \n",
    "Z_int = Z_int.reshape(xx.shape)\n",
    "cs = plt.contourf(xx, yy, Z_int, cmap=sns_cmap)\n",
    "sns.scatterplot(data = iris_data, x = \"petal_length\", y=\"petal_width\", hue=\"species\");\n",
    "#fig = plt.gcf()\n",
    "#fig.savefig(\"iris_decision_boundaries_model_train_test_split.png\", dpi=300, bbox_inches = \"tight\")"
   ]
  },
  {
   "cell_type": "code",
   "execution_count": null,
   "metadata": {},
   "outputs": [],
   "source": [
    "from matplotlib.colors import ListedColormap\n",
    "sns_cmap = ListedColormap(np.array(sns.color_palette())[0:3, :])\n",
    "\n",
    "xx, yy = np.meshgrid(np.arange(0, 7, 0.02),\n",
    "                     np.arange(0, 2.8, 0.02))\n",
    "\n",
    "Z_string = decision_tree_model.predict(np.c_[xx.ravel(), yy.ravel()])\n",
    "categories, Z_int = np.unique(Z_string, return_inverse=True)\n",
    "Z_int = Z_int \n",
    "Z_int = Z_int.reshape(xx.shape)\n",
    "cs = plt.contourf(xx, yy, Z_int, cmap=sns_cmap)\n",
    "sns.scatterplot(data = test_iris_data, x = \"petal_length\", y=\"petal_width\", hue=\"species\");\n",
    "#fig = plt.gcf()\n",
    "#fig.savefig(\"iris_decision_boundaries_model_train_test_split_test_only.png\", dpi=300, bbox_inches = \"tight\")"
   ]
  },
  {
   "cell_type": "code",
   "execution_count": null,
   "metadata": {},
   "outputs": [],
   "source": [
    "accuracy_score(decision_tree_model.predict(train_iris_data[[\"petal_length\", \"petal_width\"]]), train_iris_data[\"species\"])"
   ]
  },
  {
   "cell_type": "code",
   "execution_count": null,
   "metadata": {},
   "outputs": [],
   "source": [
    "predictions = decision_tree_model.predict(test_iris_data[[\"petal_length\", \"petal_width\"]])\n",
    "accuracy_score(predictions, test_iris_data[\"species\"])"
   ]
  },
  {
   "cell_type": "code",
   "execution_count": null,
   "metadata": {},
   "outputs": [],
   "source": [
    "from sklearn import tree\n",
    "sepal_decision_tree_model = tree.DecisionTreeClassifier()\n",
    "sepal_decision_tree_model = decision_tree_model.fit(train_iris_data[[\"sepal_length\", \"sepal_width\"]], train_iris_data[\"species\"])"
   ]
  },
  {
   "cell_type": "code",
   "execution_count": null,
   "metadata": {},
   "outputs": [],
   "source": [
    "sns.scatterplot(data = iris_data, x = \"sepal_length\", y=\"sepal_width\", hue=\"species\", legend=False);\n",
    "# fig = plt.gcf()\n",
    "# fig.savefig(\"iris_scatter_plot_with_petal_data_sepal_only.png\", dpi=300, bbox_inches = \"tight\")"
   ]
  },
  {
   "cell_type": "code",
   "execution_count": null,
   "metadata": {},
   "outputs": [],
   "source": [
    "from matplotlib.colors import ListedColormap\n",
    "sns_cmap = ListedColormap(np.array(sns.color_palette())[0:3, :])\n",
    "\n",
    "xx, yy = np.meshgrid(np.arange(4, 8, 0.02),\n",
    "                     np.arange(1.9, 4.5, 0.02))\n",
    "\n",
    "Z_string = sepal_decision_tree_model.predict(np.c_[xx.ravel(), yy.ravel()])\n",
    "categories, Z_int = np.unique(Z_string, return_inverse=True)\n",
    "Z_int = Z_int \n",
    "Z_int = Z_int.reshape(xx.shape)\n",
    "plt.contourf(xx, yy, Z_int, cmap=sns_cmap);\n",
    "# fig = plt.gcf()\n",
    "# fig.savefig(\"iris_sepal_decision_boundaries_no_data.png\", dpi=300, bbox_inches = \"tight\")"
   ]
  },
  {
   "cell_type": "code",
   "execution_count": null,
   "metadata": {},
   "outputs": [],
   "source": [
    "from matplotlib.colors import ListedColormap\n",
    "sns_cmap = ListedColormap(np.array(sns.color_palette())[0:3, :])\n",
    "\n",
    "xx, yy = np.meshgrid(np.arange(4, 8, 0.02),\n",
    "                     np.arange(1.9, 4.5, 0.02))\n",
    "\n",
    "Z_string = sepal_decision_tree_model.predict(np.c_[xx.ravel(), yy.ravel()])\n",
    "categories, Z_int = np.unique(Z_string, return_inverse=True)\n",
    "Z_int = Z_int \n",
    "Z_int = Z_int.reshape(xx.shape)\n",
    "cs = plt.contourf(xx, yy, Z_int, cmap=sns_cmap)\n",
    "sns.scatterplot(data = train_iris_data, x = \"sepal_length\", y=\"sepal_width\", hue=\"species\", legend=False);\n",
    "# fig = plt.gcf()\n",
    "# fig.savefig(\"iris_sepal_decision_boundaries_model_training_only.png\", dpi=300, bbox_inches = \"tight\")"
   ]
  },
  {
   "cell_type": "code",
   "execution_count": null,
   "metadata": {},
   "outputs": [],
   "source": [
    "from matplotlib.colors import ListedColormap\n",
    "sns_cmap = ListedColormap(np.array(sns.color_palette())[0:3, :])\n",
    "\n",
    "xx, yy = np.meshgrid(np.arange(4, 8, 0.02),\n",
    "                     np.arange(1.9, 4.5, 0.02))\n",
    "\n",
    "Z_string = sepal_decision_tree_model.predict(np.c_[xx.ravel(), yy.ravel()])\n",
    "categories, Z_int = np.unique(Z_string, return_inverse=True)\n",
    "Z_int = Z_int \n",
    "Z_int = Z_int.reshape(xx.shape)\n",
    "cs = plt.contourf(xx, yy, Z_int, cmap=sns_cmap)\n",
    "sns.scatterplot(data = test_iris_data, x = \"sepal_length\", y=\"sepal_width\", hue=\"species\", legend=False);\n",
    "# fig = plt.gcf()\n",
    "# fig.savefig(\"iris_sepal_decision_boundaries_model_test_only.png\", dpi=300, bbox_inches = \"tight\")\n",
    "#fig = plt.gcf()\n",
    "#fig.savefig(\"iris_decision_boundaries_model_train_test_split.png\", dpi=300, bbox_inches = \"tight\")"
   ]
  },
  {
   "cell_type": "code",
   "execution_count": null,
   "metadata": {},
   "outputs": [],
   "source": [
    "dot_data = tree.export_graphviz(sepal_decision_tree_model, out_file=None, \n",
    "                      feature_names=[\"sepal_length\", \"sepal_width\"],  \n",
    "                      class_names=[\"setosa\", \"versicolor\", \"virginica\"],  \n",
    "                      filled=True, rounded=True,  \n",
    "                      special_characters=True)  \n",
    "graph = graphviz.Source(dot_data)\n",
    "# graph.render(format=\"png\", filename=\"sepal_tree\")\n",
    "graph"
   ]
  },
  {
   "cell_type": "code",
   "execution_count": null,
   "metadata": {},
   "outputs": [],
   "source": [
    "accuracy_score(sepal_decision_tree_model.predict(train_iris_data[[\"sepal_length\", \"sepal_width\"]]), train_iris_data[\"species\"])"
   ]
  },
  {
   "cell_type": "code",
   "execution_count": null,
   "metadata": {},
   "outputs": [],
   "source": [
    "accuracy_score(sepal_decision_tree_model.predict(test_iris_data[[\"sepal_length\", \"sepal_width\"]]), test_iris_data[\"species\"])"
   ]
  },
  {
   "cell_type": "code",
   "execution_count": null,
   "metadata": {},
   "outputs": [],
   "source": [
    "decision_tree_model_4d = tree.DecisionTreeClassifier()\n",
    "decision_tree_model_4d = decision_tree_model_4d.fit(train_iris_data[[\"petal_length\", \"petal_width\", \n",
    "                                                                     \"sepal_length\", \"sepal_width\"]], train_iris_data[\"species\"])"
   ]
  },
  {
   "cell_type": "code",
   "execution_count": null,
   "metadata": {},
   "outputs": [],
   "source": [
    "predictions = decision_tree_model_4d.predict(train_iris_data[[\"petal_length\", \"petal_width\", \"sepal_length\", \"sepal_width\"]])\n",
    "accuracy_score(predictions, train_iris_data[\"species\"])"
   ]
  },
  {
   "cell_type": "code",
   "execution_count": null,
   "metadata": {},
   "outputs": [],
   "source": [
    "predictions = decision_tree_model_4d.predict(test_iris_data[[\"petal_length\", \"petal_width\", \"sepal_length\", \"sepal_width\"]])\n",
    "accuracy_score(predictions, test_iris_data[\"species\"])"
   ]
  },
  {
   "cell_type": "code",
   "execution_count": null,
   "metadata": {},
   "outputs": [],
   "source": [
    "dot_data = tree.export_graphviz(decision_tree_model_4d, out_file=None, \n",
    "                      feature_names=[\"petal_length\", \"petal_width\", \"sepal_length\", \"sepal_width\"],  \n",
    "                      class_names=[\"setosa\", \"versicolor\", \"virginica\"],  \n",
    "                      filled=True, rounded=True,  \n",
    "                      special_characters=True)  \n",
    "graph = graphviz.Source(dot_data)\n",
    "graph"
   ]
  },
  {
   "cell_type": "code",
   "execution_count": null,
   "metadata": {},
   "outputs": [],
   "source": [
    "# graph.render(format=\"png\", filename=\"iris_4d_tree\")"
   ]
  },
  {
   "cell_type": "markdown",
   "metadata": {},
   "source": [
    "### Creating Decision Trees"
   ]
  },
  {
   "cell_type": "code",
   "execution_count": null,
   "metadata": {},
   "outputs": [],
   "source": [
    "def entropy(x):\n",
    "    normalized_x = x / np.sum(x)\n",
    "    return sum(-normalized_x * np.log2(normalized_x))"
   ]
  },
  {
   "cell_type": "code",
   "execution_count": null,
   "metadata": {},
   "outputs": [],
   "source": [
    "-np.log2(0.33)*0.33"
   ]
  },
  {
   "cell_type": "code",
   "execution_count": null,
   "metadata": {},
   "outputs": [],
   "source": [
    "-np.log2(0.36)*0.36"
   ]
  },
  {
   "cell_type": "code",
   "execution_count": null,
   "metadata": {
    "scrolled": true
   },
   "outputs": [],
   "source": [
    "entropy([34, 36, 40])"
   ]
  },
  {
   "cell_type": "code",
   "execution_count": null,
   "metadata": {},
   "outputs": [],
   "source": [
    "entropy([149, 1, 1])"
   ]
  },
  {
   "cell_type": "code",
   "execution_count": null,
   "metadata": {},
   "outputs": [],
   "source": [
    "entropy([50, 50])"
   ]
  },
  {
   "cell_type": "code",
   "execution_count": null,
   "metadata": {},
   "outputs": [],
   "source": [
    "entropy([50, 50, 50])"
   ]
  },
  {
   "cell_type": "code",
   "execution_count": null,
   "metadata": {},
   "outputs": [],
   "source": [
    "entropy([31, 4, 1])"
   ]
  },
  {
   "cell_type": "code",
   "execution_count": null,
   "metadata": {},
   "outputs": [],
   "source": [
    "#entropy([50, 46, 3])\n",
    "#entropy([4, 47])\n",
    "#entropy([41, 50])\n",
    "#entropy([50, 50])"
   ]
  },
  {
   "cell_type": "code",
   "execution_count": null,
   "metadata": {},
   "outputs": [],
   "source": [
    "def weighted_average_entropy(x1, x2):\n",
    "    N1 = sum(x1)\n",
    "    N2 = sum(x2)\n",
    "    N = N1/(N1 + N2)\n",
    "    return (N1 * entropy(x1) + N2 * entropy(x2)) / (N1 + N2)"
   ]
  },
  {
   "cell_type": "code",
   "execution_count": null,
   "metadata": {},
   "outputs": [],
   "source": [
    "weighted_average_entropy([50, 46, 3], [4, 47])"
   ]
  },
  {
   "cell_type": "code",
   "execution_count": null,
   "metadata": {},
   "outputs": [],
   "source": [
    "weighted_average_entropy([50, 9], [41, 50])"
   ]
  },
  {
   "cell_type": "code",
   "execution_count": null,
   "metadata": {},
   "outputs": [],
   "source": [
    "weighted_average_entropy([2, 50, 50], [48])"
   ]
  },
  {
   "cell_type": "code",
   "execution_count": null,
   "metadata": {},
   "outputs": [],
   "source": [
    "weighted_average_entropy([50, 50], [50])"
   ]
  },
  {
   "cell_type": "markdown",
   "metadata": {},
   "source": [
    "### Random Forests"
   ]
  },
  {
   "cell_type": "code",
   "execution_count": null,
   "metadata": {},
   "outputs": [],
   "source": [
    "ten_decision_tree_models = []\n",
    "ten_training_sets = []\n",
    "for i in range(10):\n",
    "    current_model = tree.DecisionTreeClassifier()\n",
    "    temp_iris_training_data, temp_iris_test_data = np.split(iris_data.sample(frac=1), [110])\n",
    "    temp_iris_training_data = temp_iris_training_data.sort_values(\"species\")\n",
    "    current_model.fit(temp_iris_training_data[[\"sepal_length\", \"sepal_width\"]], temp_iris_training_data[\"species\"])\n",
    "    ten_decision_tree_models.append(current_model)\n",
    "    ten_training_sets.append(temp_iris_training_data)"
   ]
  },
  {
   "cell_type": "code",
   "execution_count": null,
   "metadata": {},
   "outputs": [],
   "source": [
    "def plot_decision_tree(decision_tree_model, data = None, disable_axes = False):\n",
    "    from matplotlib.colors import ListedColormap\n",
    "    sns_cmap = ListedColormap(np.array(sns.color_palette())[0:3, :])\n",
    "\n",
    "    xx, yy = np.meshgrid(np.arange(4, 8, 0.02),\n",
    "                     np.arange(1.9, 4.5, 0.02))\n",
    "\n",
    "    Z_string = decision_tree_model.predict(np.c_[xx.ravel(), yy.ravel()])\n",
    "    categories, Z_int = np.unique(Z_string, return_inverse=True)\n",
    "    Z_int = Z_int.reshape(xx.shape)\n",
    "    cs = plt.contourf(xx, yy, Z_int, cmap=sns_cmap)\n",
    "    if data is not None:\n",
    "        sns.scatterplot(data = data, x = \"sepal_length\", y=\"sepal_width\", hue=\"species\", legend=False)\n",
    "\n",
    "    if disable_axes:\n",
    "        plt.axis(\"off\")\n",
    "#    if disable_axes:\n",
    "#        \n",
    "#        plt.gca().xaxis.label.set_visible(False)\n",
    "#        plt.gca().yaxis.label.set_visible(False)        "
   ]
  },
  {
   "cell_type": "code",
   "execution_count": null,
   "metadata": {},
   "outputs": [],
   "source": [
    "m_num = 0\n",
    "plot_decision_tree(ten_decision_tree_models[m_num], ten_training_sets[m_num])\n",
    "# plt.savefig(\"random_forest_model_1_example.png\", dpi = 300, bbox_inches = \"tight\")"
   ]
  },
  {
   "cell_type": "code",
   "execution_count": null,
   "metadata": {},
   "outputs": [],
   "source": [
    "m_num = 7\n",
    "plot_decision_tree(ten_decision_tree_models[m_num], ten_training_sets[m_num])\n",
    "# plt.savefig(\"random_forest_model_2_example.png\", dpi = 300, bbox_inches = \"tight\")"
   ]
  },
  {
   "cell_type": "code",
   "execution_count": null,
   "metadata": {},
   "outputs": [],
   "source": [
    "import matplotlib.gridspec as gridspec\n",
    "gs1 = gridspec.GridSpec(3, 3)\n",
    "gs1.update(wspace=0.025, hspace=0.025) # set the spacing between axes. \n",
    "\n",
    "for i in range(0, 9):\n",
    "    plt.subplot(gs1[i]) #3, 3, i)\n",
    "    plot_decision_tree(ten_decision_tree_models[i], None, True)    \n",
    "    \n",
    "# plt.savefig(\"random_forest_model_9_examples.png\", dpi = 300, bbox_inches = \"tight\")    "
   ]
  }
 ],
 "metadata": {
  "kernelspec": {
   "display_name": "Python 3",
   "language": "python",
   "name": "python3"
  },
  "language_info": {
   "codemirror_mode": {
    "name": "ipython",
    "version": 3
   },
   "file_extension": ".py",
   "mimetype": "text/x-python",
   "name": "python",
   "nbconvert_exporter": "python",
   "pygments_lexer": "ipython3",
   "version": "3.7.4"
  }
 },
 "nbformat": 4,
 "nbformat_minor": 2
}
