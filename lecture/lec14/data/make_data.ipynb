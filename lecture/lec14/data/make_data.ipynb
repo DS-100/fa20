{
 "cells": [
  {
   "cell_type": "code",
   "execution_count": null,
   "metadata": {},
   "outputs": [],
   "source": [
    "import pandas as pd\n",
    "import numpy as np"
   ]
  },
  {
   "cell_type": "code",
   "execution_count": null,
   "metadata": {},
   "outputs": [],
   "source": [
    "import plotly.offline as py\n",
    "import plotly.express as px\n",
    "import plotly.graph_objects as go\n",
    "from plotly.subplots import make_subplots\n",
    "import plotly.figure_factory as ff\n",
    "import cufflinks as cf\n",
    "cf.set_config_file(offline=True, sharing=False, theme='ggplot');"
   ]
  },
  {
   "cell_type": "code",
   "execution_count": null,
   "metadata": {},
   "outputs": [],
   "source": [
    "def natures_function(x):\n",
    "    return 2 * x + 1 "
   ]
  },
  {
   "cell_type": "code",
   "execution_count": null,
   "metadata": {},
   "outputs": [],
   "source": [
    "np.random.seed(1983)\n",
    "n = 9\n",
    "X = np.sort(np.random.rand(n) * 5 - 3)\n",
    "noise = 2*np.random.randn(n)\n",
    "Y = natures_function(X) + noise\n",
    "# Reshaping to tall skinny matrices\n",
    "X = np.expand_dims(X, 1)\n",
    "Y = np.expand_dims(Y, 1)\n",
    "pd.DataFrame(dict(X=X.flatten(), Y=Y.flatten())).to_csv(\"train.csv\", index=False)\n",
    "data_scatter = go.Scatter(x=X.flatten(), y=Y.flatten(), name=\"data\", mode=\"markers\")\n",
    "go.Figure([data_scatter])"
   ]
  },
  {
   "cell_type": "code",
   "execution_count": null,
   "metadata": {},
   "outputs": [],
   "source": [
    "np.random.seed(42)\n",
    "n = 100\n",
    "X = np.sort(np.random.rand(n) * 5 - 3)\n",
    "noise = 1.8*np.random.randn(n)\n",
    "Y = natures_function(X) + noise\n",
    "# Reshaping to tall skinny matrices\n",
    "X = np.expand_dims(X, 1)\n",
    "Y = np.expand_dims(Y, 1)\n",
    "pd.DataFrame(dict(X=X.flatten(), Y=Y.flatten())).to_csv(\"test.csv\", index=False)\n",
    "data_scatter = go.Scatter(x=X.flatten(), y=Y.flatten(), name=\"data\", mode=\"markers\")\n",
    "go.Figure([data_scatter])"
   ]
  },
  {
   "cell_type": "code",
   "execution_count": null,
   "metadata": {},
   "outputs": [],
   "source": []
  },
  {
   "cell_type": "code",
   "execution_count": null,
   "metadata": {},
   "outputs": [],
   "source": []
  }
 ],
 "metadata": {
  "kernelspec": {
   "display_name": "Python 3",
   "language": "python",
   "name": "python3"
  },
  "language_info": {
   "codemirror_mode": {
    "name": "ipython",
    "version": 3
   },
   "file_extension": ".py",
   "mimetype": "text/x-python",
   "name": "python",
   "nbconvert_exporter": "python",
   "pygments_lexer": "ipython3",
   "version": "3.7.5"
  }
 },
 "nbformat": 4,
 "nbformat_minor": 2
}
