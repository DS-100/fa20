{
 "cells": [
  {
   "cell_type": "markdown",
   "metadata": {},
   "source": [
    "### Download House votes in the last month."
   ]
  },
  {
   "cell_type": "markdown",
   "metadata": {},
   "source": [
    "To use this notebook, first acquire a Propublica API key from here:\n",
    "\n",
    "https://www.propublica.org/datastore/api/propublica-congress-api"
   ]
  },
  {
   "cell_type": "code",
   "execution_count": 1,
   "metadata": {},
   "outputs": [
    {
     "name": "stdout",
     "output_type": "stream",
     "text": [
      "Collecting python-congress\n",
      "  Downloading https://files.pythonhosted.org/packages/20/71/61ff8b47f85db8fcf7fd8d7c5782e5d2bee5e3c5b3b771f5b62c853292bb/python_congress-0.3.5-py3-none-any.whl\n",
      "Requirement already satisfied: six in /home/hug/miniconda3/envs/data100/lib/python3.6/site-packages (from python-congress)\n",
      "Collecting httplib2 (from python-congress)\n",
      "  Downloading https://files.pythonhosted.org/packages/d2/84/f97b9efdb17c9b73e133bdbf2b4bfd09cd0be655e36e3ee3c4bec9095048/httplib2-0.14.0-py3-none-any.whl (94kB)\n",
      "\u001b[K    100% |████████████████████████████████| 102kB 3.0MB/s a 0:00:011\n",
      "\u001b[?25hInstalling collected packages: httplib2, python-congress\n",
      "Successfully installed httplib2-0.14.0 python-congress-0.3.5\n",
      "\u001b[33mYou are using pip version 9.0.1, however version 19.2.3 is available.\n",
      "You should consider upgrading via the 'pip install --upgrade pip' command.\u001b[0m\n"
     ]
    }
   ],
   "source": [
    "!pip install python-congress\n",
    "from congress import Congress\n",
    "\n",
    "api_key='YOUR KEY HERE' \n",
    "congress = Congress(api_key)\n",
    "s = congress.votes.by_month('house')"
   ]
  },
  {
   "cell_type": "code",
   "execution_count": 2,
   "metadata": {},
   "outputs": [],
   "source": [
    "results = []\n",
    "for v in s['votes']:\n",
    "    args = (v['chamber'], v['roll_call'], v['session'])\n",
    "    results.append((args, congress.votes.get(*args)))"
   ]
  },
  {
   "cell_type": "code",
   "execution_count": 3,
   "metadata": {},
   "outputs": [],
   "source": [
    "votes = []\n",
    "for (chamber, number, session), v in results:\n",
    "    for p in v['votes']['vote']['positions']:\n",
    "        mem_id = p['member_id']\n",
    "        vote = p['vote_position']\n",
    "        votes.append((chamber, session, number, mem_id, vote))"
   ]
  },
  {
   "cell_type": "code",
   "execution_count": 4,
   "metadata": {},
   "outputs": [],
   "source": [
    "import pandas as pd\n",
    "pd.DataFrame(columns=['chamber', 'session', 'roll call', 'member', 'vote'],\n",
    "             data=votes).to_csv('votes.csv', index=False)"
   ]
  },
  {
   "cell_type": "code",
   "execution_count": null,
   "metadata": {},
   "outputs": [],
   "source": []
  }
 ],
 "metadata": {
  "kernelspec": {
   "display_name": "Python 3",
   "language": "python",
   "name": "python3"
  },
  "language_info": {
   "codemirror_mode": {
    "name": "ipython",
    "version": 3
   },
   "file_extension": ".py",
   "mimetype": "text/x-python",
   "name": "python",
   "nbconvert_exporter": "python",
   "pygments_lexer": "ipython3",
   "version": "3.6.4"
  }
 },
 "nbformat": 4,
 "nbformat_minor": 2
}
