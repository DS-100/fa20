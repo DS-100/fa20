{
 "cells": [
  {
   "cell_type": "code",
   "execution_count": null,
   "metadata": {},
   "outputs": [],
   "source": [
    "import os\n",
    "import pandas as pd\n",
    "import numpy as np\n",
    "import matplotlib.pyplot as plt\n",
    "import seaborn as sns\n",
    "%matplotlib inline\n",
    "\n",
    "from pathlib import Path\n",
    "from sqlalchemy import create_engine\n",
    "from ds100_utils import fetch_and_cache\n",
    "\n",
    "sns.set()\n",
    "sns.set_context('talk')\n",
    "np.set_printoptions(threshold=20, precision=2, suppress=True)\n",
    "pd.set_option('display.max_rows', 7)\n",
    "pd.set_option('display.max_columns', 8)\n",
    "pd.set_option('precision', 2)"
   ]
  },
  {
   "cell_type": "markdown",
   "metadata": {},
   "source": [
    "## SQL Joins"
   ]
  },
  {
   "cell_type": "code",
   "execution_count": null,
   "metadata": {},
   "outputs": [],
   "source": [
    "import sqlite3\n",
    "conn = sqlite3.connect('test.db')"
   ]
  },
  {
   "cell_type": "code",
   "execution_count": null,
   "metadata": {},
   "outputs": [],
   "source": [
    "conn.executescript(\"\"\"\n",
    "DROP TABLE IF EXISTS s;\n",
    "DROP TABLE IF EXISTS t;\n",
    "\n",
    "CREATE TABLE s(\n",
    "    id INTEGER PRIMARY KEY, \n",
    "    name TEXT\n",
    ");\n",
    "\n",
    "INSERT INTO s VALUES \n",
    "    (0, 'Apricot'),\n",
    "    (1, 'Boots'),\n",
    "    (2, 'Cally'),\n",
    "    (4, 'Eugene');\n",
    "\n",
    "CREATE TABLE t(\n",
    "    id INTEGER PRIMARY KEY,\n",
    "    breed TEXT\n",
    ");\n",
    "\n",
    "INSERT INTO t VALUES \n",
    "    (1, 'persian'),\n",
    "    (2, 'ragdoll'),\n",
    "    (4, 'bengal'),\n",
    "    (5, 'persian');\n",
    "\"\"\");"
   ]
  },
  {
   "cell_type": "code",
   "execution_count": null,
   "metadata": {},
   "outputs": [],
   "source": [
    "def print_sql(s):\n",
    "    first, *rest = s.strip().split('\\n')\n",
    "    print(f'sql> {first}')\n",
    "    for line in rest:\n",
    "        print(f'...> {line}')\n",
    "    for result in conn.execute(s):\n",
    "        print(result)\n",
    "\n",
    "print_sql('SELECT * FROM s;')\n",
    "print_sql('SELECT * FROM t;')"
   ]
  },
  {
   "cell_type": "code",
   "execution_count": null,
   "metadata": {},
   "outputs": [],
   "source": [
    "query = '''\n",
    "SELECT *\n",
    "FROM s\n",
    "WHERE id >= 2;\n",
    "'''\n",
    "\n",
    "print_sql(query)"
   ]
  },
  {
   "cell_type": "code",
   "execution_count": null,
   "metadata": {},
   "outputs": [],
   "source": [
    "#cross join\n",
    "query = '''\n",
    "SELECT *\n",
    "FROM s, t\n",
    "'''\n",
    "print_sql(query)"
   ]
  },
  {
   "cell_type": "code",
   "execution_count": null,
   "metadata": {},
   "outputs": [],
   "source": [
    "#inner join\n",
    "query = '''\n",
    "SELECT *\n",
    "FROM s JOIN t\n",
    "  ON s.id = t.id\n",
    "'''\n",
    "print_sql(query)"
   ]
  },
  {
   "cell_type": "code",
   "execution_count": null,
   "metadata": {},
   "outputs": [],
   "source": [
    "#left outer join\n",
    "query = '''\n",
    "SELECT *\n",
    "FROM s LEFT JOIN t\n",
    "  ON s.id = t.id\n",
    "'''\n",
    "print_sql(query)"
   ]
  },
  {
   "cell_type": "code",
   "execution_count": null,
   "metadata": {},
   "outputs": [],
   "source": [
    "#right inner join unsupported, so we have to switch s and t\n",
    "query = '''\n",
    "SELECT *\n",
    "FROM t LEFT JOIN s\n",
    "  ON s.id = t.id\n",
    "'''\n",
    "print_sql(query)"
   ]
  },
  {
   "cell_type": "markdown",
   "metadata": {},
   "source": [
    "Doing an outer join is possible but is not very concise and requires UNION keyword."
   ]
  },
  {
   "cell_type": "code",
   "execution_count": null,
   "metadata": {},
   "outputs": [],
   "source": [
    "#full outer join with UNION\n",
    "query = '''\n",
    "SELECT s.id, s.name, t.id, t.breed\n",
    "FROM s LEFT JOIN t\n",
    "  ON s.id = t.id\n",
    "UNION\n",
    "SELECT s.id, s.name, t.id, t.breed\n",
    "FROM t LEFT JOIN s\n",
    "  ON s.id = t.id\n",
    "'''\n",
    "print_sql(query)"
   ]
  },
  {
   "cell_type": "markdown",
   "metadata": {},
   "source": [
    "## IMDB Data"
   ]
  },
  {
   "cell_type": "code",
   "execution_count": null,
   "metadata": {},
   "outputs": [],
   "source": [
    "data_directory = './'"
   ]
  },
  {
   "cell_type": "code",
   "execution_count": null,
   "metadata": {
    "scrolled": true
   },
   "outputs": [],
   "source": [
    "# From https://www.imdb.com/interfaces/\n",
    "fetch_and_cache('https://datasets.imdbws.com/title.basics.tsv.gz', 'titles.tsv.gz', data_directory)\n",
    "fetch_and_cache('https://datasets.imdbws.com/name.basics.tsv.gz', 'names.tsv.gz', data_directory)\n",
    "!gunzip -kf {data_directory}/titles.tsv.gz\n",
    "!gunzip -kf {data_directory}/names.tsv.gz\n",
    "!ls -lh {data_directory}"
   ]
  },
  {
   "cell_type": "code",
   "execution_count": null,
   "metadata": {
    "scrolled": true
   },
   "outputs": [],
   "source": [
    "# Running the line below will probaly crash your kernel because the names \n",
    "# dataset is too big to comfortable fit into main memory. \n",
    "#pd.read_csv(f'{data_directory}/names.tsv', sep='\\t')"
   ]
  },
  {
   "cell_type": "code",
   "execution_count": null,
   "metadata": {},
   "outputs": [],
   "source": [
    "# Use sqlite3 instead of Python (must be run from the terminal)\n",
    "# note: To close sqlite3, press ctrl-d\n",
    "\"\"\"\n",
    "$ sqlite3 imdb.db\n",
    "sqlite> .mode tabs\n",
    "sqlite> .import titles.tsv titles\n",
    "sqlite> .import names.tsv names\n",
    "\"\"\";"
   ]
  },
  {
   "cell_type": "markdown",
   "metadata": {},
   "source": [
    "While the code above runs, let's explore the data files a bit."
   ]
  },
  {
   "cell_type": "code",
   "execution_count": null,
   "metadata": {
    "scrolled": true
   },
   "outputs": [],
   "source": [
    "!wc {data_directory}/*.tsv"
   ]
  },
  {
   "cell_type": "code",
   "execution_count": null,
   "metadata": {
    "scrolled": true
   },
   "outputs": [],
   "source": [
    "!head -n5 {data_directory}/titles.tsv"
   ]
  },
  {
   "cell_type": "code",
   "execution_count": null,
   "metadata": {},
   "outputs": [],
   "source": [
    "!head -n5 {data_directory}/names.tsv"
   ]
  },
  {
   "cell_type": "code",
   "execution_count": null,
   "metadata": {},
   "outputs": [],
   "source": [
    "conn = sqlite3.connect(data_directory + '/imdb.db')\n",
    "print_sql('SELECT * FROM titles LIMIT 10;')"
   ]
  },
  {
   "cell_type": "code",
   "execution_count": null,
   "metadata": {},
   "outputs": [],
   "source": [
    "for exp in conn.execute('SELECT sql FROM sqlite_master;'):\n",
    "    print(exp[0])"
   ]
  },
  {
   "cell_type": "code",
   "execution_count": null,
   "metadata": {},
   "outputs": [],
   "source": [
    "# Reminder: Python f strings\n",
    "who, where = 'John', 'here'\n",
    "f\"{who} is {where}\""
   ]
  },
  {
   "cell_type": "code",
   "execution_count": null,
   "metadata": {},
   "outputs": [],
   "source": [
    "get_10_movies = f'''\n",
    "SELECT primaryTitle AS title, \n",
    "  runtimeMinutes AS time\n",
    "FROM titles\n",
    "LIMIT 10;\n",
    "'''\n",
    "\n",
    "print_sql(get_10_movies)"
   ]
  },
  {
   "cell_type": "code",
   "execution_count": null,
   "metadata": {},
   "outputs": [],
   "source": [
    "get_10_movies_time_as_int = f'''\n",
    "SELECT primaryTitle AS title, \n",
    "  CAST(runtimeMinutes as int) AS time\n",
    "FROM titles\n",
    "LIMIT 10;\n",
    "'''\n",
    "\n",
    "print_sql(get_10_movies_time_as_int)"
   ]
  },
  {
   "cell_type": "code",
   "execution_count": null,
   "metadata": {},
   "outputs": [],
   "source": [
    "select_action = f'''\n",
    "SELECT tconst AS id,\n",
    "  primaryTitle AS title, \n",
    "  CAST(runtimeMinutes AS int) AS time, \n",
    "  CAST(startYear AS int) AS year\n",
    "FROM titles\n",
    "WHERE genres LIKE '%Action%' AND\n",
    "  year > 1900 AND \n",
    "  isAdult = '0' AND\n",
    "  titleType = 'movie' AND\n",
    "  time > 60 AND time < 180\n",
    "'''\n",
    "\n",
    "create_action_table = f'''\n",
    "DROP TABLE IF EXISTS action_movie;\n",
    "CREATE TABLE action_movie AS {select_action};\n",
    "'''\n",
    "\n",
    "conn.executescript(create_action_table)\n",
    "print_sql('SELECT * FROM action_movie LIMIT 10')"
   ]
  },
  {
   "cell_type": "markdown",
   "metadata": {},
   "source": [
    "We can check to see whether this table is small enough to read into pandas:"
   ]
  },
  {
   "cell_type": "code",
   "execution_count": null,
   "metadata": {},
   "outputs": [],
   "source": [
    "print_sql('SELECT COUNT(*) from action_movie')"
   ]
  },
  {
   "cell_type": "code",
   "execution_count": null,
   "metadata": {
    "scrolled": true
   },
   "outputs": [],
   "source": [
    "df = pd.read_sql('SELECT * FROM action_movie', conn)\n",
    "df"
   ]
  },
  {
   "cell_type": "code",
   "execution_count": null,
   "metadata": {},
   "outputs": [],
   "source": [
    "df.shape"
   ]
  },
  {
   "cell_type": "code",
   "execution_count": null,
   "metadata": {},
   "outputs": [],
   "source": [
    "df.hist('year');"
   ]
  },
  {
   "cell_type": "code",
   "execution_count": null,
   "metadata": {},
   "outputs": [],
   "source": [
    "sns.scatterplot(df['year'], df['time']);"
   ]
  },
  {
   "cell_type": "code",
   "execution_count": null,
   "metadata": {},
   "outputs": [],
   "source": [
    "sns.kdeplot(df['year'], df['time']);"
   ]
  },
  {
   "cell_type": "code",
   "execution_count": null,
   "metadata": {},
   "outputs": [],
   "source": [
    "df['time'].groupby(df['year']).mean().plot();"
   ]
  },
  {
   "cell_type": "code",
   "execution_count": null,
   "metadata": {},
   "outputs": [],
   "source": [
    "df['decade'] = (df['year'] // 10) * 10\n",
    "sns.boxplot('decade', 'time', data=df)\n",
    "plt.xticks(rotation=45);"
   ]
  },
  {
   "cell_type": "markdown",
   "metadata": {},
   "source": [
    "## Sampling in SQL"
   ]
  },
  {
   "cell_type": "code",
   "execution_count": null,
   "metadata": {},
   "outputs": [],
   "source": [
    "pd.read_sql('SELECT * FROM action_movie ORDER BY RANDOM() LIMIT 3', conn)"
   ]
  },
  {
   "cell_type": "code",
   "execution_count": null,
   "metadata": {},
   "outputs": [],
   "source": [
    "#selecting 3 random years\n",
    "three_years = '''\n",
    "SELECT year FROM action_movie \n",
    "  GROUP BY year \n",
    "  ORDER BY RANDOM()\n",
    "  LIMIT 3\n",
    "'''\n",
    "\n",
    "pd.read_sql(three_years, conn)"
   ]
  },
  {
   "cell_type": "code",
   "execution_count": null,
   "metadata": {},
   "outputs": [],
   "source": [
    "#selecting all movies from 3 random years\n",
    "three_years = '''\n",
    "SELECT year FROM action_movie \n",
    "  GROUP BY year \n",
    "  ORDER BY RANDOM()\n",
    "  LIMIT 3\n",
    "'''\n",
    "\n",
    "cluster_sample = f'''\n",
    "SELECT * FROM action_movie \n",
    "WHERE year IN ({three_years})\n",
    "'''\n",
    "\n",
    "pd.read_sql(f'''\n",
    "SELECT *\n",
    "FROM ({cluster_sample}) \n",
    "''', conn)"
   ]
  },
  {
   "cell_type": "code",
   "execution_count": null,
   "metadata": {},
   "outputs": [],
   "source": [
    "# Query has two select statements\n",
    "# Inner select statement creates the table of 3 randomly chosen years.\n",
    "print(cluster_sample)"
   ]
  },
  {
   "cell_type": "markdown",
   "metadata": {},
   "source": [
    "## Ages of Fame"
   ]
  },
  {
   "cell_type": "markdown",
   "metadata": {},
   "source": [
    "#### CASE Example"
   ]
  },
  {
   "cell_type": "code",
   "execution_count": null,
   "metadata": {},
   "outputs": [],
   "source": [
    "#case statement example\n",
    "pd.read_sql('''\n",
    "SELECT id, title, time, year,\n",
    "     CASE WHEN time < 70 THEN 'short'\n",
    "          WHEN time < 120 THEN 'medium'\n",
    "          ELSE 'long'\n",
    "     END as length\n",
    "          \n",
    "FROM action_movie\n",
    "''', conn).sample(10)"
   ]
  },
  {
   "cell_type": "code",
   "execution_count": null,
   "metadata": {},
   "outputs": [],
   "source": [
    "#case statement example with a base expression\n",
    "pd.read_sql('''\n",
    "SELECT id, title, time, year,\n",
    "     CASE year LIKE '%197%' WHEN True THEN '70s'          \n",
    "          ELSE 'not 70s'\n",
    "     END as decade\n",
    "          \n",
    "FROM action_movie\n",
    "''', conn).sample(10)"
   ]
  },
  {
   "cell_type": "markdown",
   "metadata": {},
   "source": [
    "#### SUBSTR Example"
   ]
  },
  {
   "cell_type": "code",
   "execution_count": null,
   "metadata": {},
   "outputs": [],
   "source": [
    "select_people = f'''\n",
    "SELECT primaryName AS name, knownForTitles  \n",
    "FROM names\n",
    "'''\n",
    "\n",
    "pd.read_sql(f'{select_people} LIMIT 10', conn)"
   ]
  },
  {
   "cell_type": "code",
   "execution_count": null,
   "metadata": {
    "scrolled": true
   },
   "outputs": [],
   "source": [
    "select_people = f'''\n",
    "SELECT primaryName AS name,   \n",
    "  SUBSTR(knownForTitles, 0, INSTR(knownForTitles, ',')) AS most_popular_id\n",
    "FROM names\n",
    "'''\n",
    "\n",
    "pd.read_sql(f'{select_people} LIMIT 10', conn)"
   ]
  },
  {
   "cell_type": "markdown",
   "metadata": {},
   "source": [
    "### Age Trends"
   ]
  },
  {
   "cell_type": "code",
   "execution_count": null,
   "metadata": {},
   "outputs": [],
   "source": [
    "pd.read_sql('SELECT * FROM names LIMIT 10;', conn)"
   ]
  },
  {
   "cell_type": "code",
   "execution_count": null,
   "metadata": {},
   "outputs": [],
   "source": [
    "select_actors = f'''\n",
    "SELECT primaryName AS name, \n",
    "  CAST(birthYear AS int) AS born,\n",
    "  SUBSTR(knownForTitles, 0, INSTR(knownForTitles, ',')) AS movie_id,\n",
    "  CASE WHEN primaryProfession LIKE '%actor%' THEN 'actor' \n",
    "    WHEN primaryProfession LIKE '%actress%' THEN 'actress'   \n",
    "    END AS profession\n",
    "FROM names\n",
    "WHERE primaryProfession LIKE '%act%' AND\n",
    "  born > 1800\n",
    "'''\n",
    "\n",
    "pd.read_sql(f'{select_actors} LIMIT 10', conn)"
   ]
  },
  {
   "cell_type": "code",
   "execution_count": null,
   "metadata": {
    "scrolled": true
   },
   "outputs": [],
   "source": [
    "select = f'''\n",
    "SELECT name, profession, born, title, year\n",
    "FROM ({select_actors}) JOIN action_movie\n",
    "  ON movie_id = id;\n",
    "'''\n",
    "\n",
    "conn.executescript(f'''\n",
    "DROP TABLE IF EXISTS action_ppl;\n",
    "CREATE TABLE action_ppl AS {select};\n",
    "''')\n",
    "\n",
    "pd.read_sql('SELECT * FROM action_ppl LIMIT 10', conn)"
   ]
  },
  {
   "cell_type": "markdown",
   "metadata": {},
   "source": [
    "The table above gives us all the people whose first movie in IMDB's \"known for\" list is an action movie, along with the name of that movie. We call these people \"action people\"."
   ]
  },
  {
   "cell_type": "markdown",
   "metadata": {},
   "source": [
    "There's a lot we can do with this table, i.e. we can find all the people whose top role has the word \"Vampire\" in it."
   ]
  },
  {
   "cell_type": "code",
   "execution_count": null,
   "metadata": {
    "scrolled": true
   },
   "outputs": [],
   "source": [
    "vampire_people = '''\n",
    "SELECT *\n",
    "FROM action_ppl\n",
    "WHERE title LIKE \"%Vampire%\"\n",
    "'''\n",
    "\n",
    "pd.read_sql(vampire_people, conn)"
   ]
  },
  {
   "cell_type": "markdown",
   "metadata": {},
   "source": [
    "Or we can read in our dataframe into pandas and make a plot. Let's see the age of each actor when their best known movie was made."
   ]
  },
  {
   "cell_type": "code",
   "execution_count": null,
   "metadata": {},
   "outputs": [],
   "source": [
    "df = pd.read_sql('SELECT * FROM action_ppl', conn)\n",
    "df.shape"
   ]
  },
  {
   "cell_type": "code",
   "execution_count": null,
   "metadata": {},
   "outputs": [],
   "source": [
    "df['age'] = df['year'] - df['born']\n",
    "bins = np.linspace(0, 100, 21)\n",
    "sns.distplot(df[df['profession']=='actor']['age'], bins=bins)\n",
    "sns.distplot(df[df['profession']=='actress']['age'], bins=bins)\n",
    "plt.legend(labels=['Actor', 'Actress'])\n",
    "plt.xticks(bins, rotation=90)\n",
    "plt.xlim(0, 100)\n",
    "plt.ylabel('density');\n",
    "plt.title('Ages of actors in the Action movies they are known for');"
   ]
  }
 ],
 "metadata": {
  "kernelspec": {
   "display_name": "Python 3",
   "language": "python",
   "name": "python3"
  },
  "language_info": {
   "codemirror_mode": {
    "name": "ipython",
    "version": 3
   },
   "file_extension": ".py",
   "mimetype": "text/x-python",
   "name": "python",
   "nbconvert_exporter": "python",
   "pygments_lexer": "ipython3",
   "version": "3.7.4"
  }
 },
 "nbformat": 4,
 "nbformat_minor": 2
}
