{
 "cells": [
  {
   "cell_type": "markdown",
   "metadata": {},
   "source": [
    "# Lecture 1 – Data 100, Fall 2020\n",
    "\n",
    "by Anthony D. Joseph\n",
    "\n",
    "adapted from Joey Gonzalez, Josh Hug, Suraj Rampure"
   ]
  },
  {
   "cell_type": "code",
   "execution_count": null,
   "metadata": {},
   "outputs": [],
   "source": [
    "import pandas as pd\n",
    "import numpy as np\n",
    "import matplotlib.pyplot as plt\n",
    "import seaborn as sns\n",
    "\n",
    "## Plotly plotting support\n",
    "import plotly.offline as py\n",
    "py.init_notebook_mode()\n",
    "import plotly.graph_objs as go\n",
    "import plotly.figure_factory as ff\n",
    "import plotly.express as px\n",
    "# import cufflinks as cf\n",
    "# cf.set_config_file(offline=False, world_readable=False, theme='ggplot')"
   ]
  },
  {
   "cell_type": "markdown",
   "metadata": {},
   "source": [
    "### Load and clean the roster"
   ]
  },
  {
   "cell_type": "code",
   "execution_count": null,
   "metadata": {},
   "outputs": [],
   "source": [
    "names = pd.read_csv(\"names.csv\")\n",
    "major_year = pd.read_csv(\"major_year.csv\")[['Majors', 'Terms in Attendance']]"
   ]
  },
  {
   "cell_type": "code",
   "execution_count": null,
   "metadata": {},
   "outputs": [],
   "source": [
    "names.head(20)"
   ]
  },
  {
   "cell_type": "code",
   "execution_count": null,
   "metadata": {},
   "outputs": [],
   "source": [
    "names['Name'] = names['Name'].str.lower()\n",
    "print(\"Number of Students:\", len(names))\n",
    "names.head(20)"
   ]
  },
  {
   "cell_type": "code",
   "execution_count": null,
   "metadata": {},
   "outputs": [],
   "source": [
    "names.describe()"
   ]
  },
  {
   "cell_type": "code",
   "execution_count": null,
   "metadata": {},
   "outputs": [],
   "source": [
    "major_year[\"Majors\"] = major_year[\"Majors\"].str.replace(\"BS\",\"\").str.replace(\"BA\",\"\")"
   ]
  },
  {
   "cell_type": "code",
   "execution_count": null,
   "metadata": {},
   "outputs": [],
   "source": [
    "major_year['Terms in Attendance'] = major_year['Terms in Attendance'].astype(str)"
   ]
  },
  {
   "cell_type": "code",
   "execution_count": null,
   "metadata": {
    "scrolled": true
   },
   "outputs": [],
   "source": [
    "major_year.head(20)"
   ]
  },
  {
   "cell_type": "code",
   "execution_count": null,
   "metadata": {},
   "outputs": [],
   "source": [
    "major_year.describe()"
   ]
  },
  {
   "cell_type": "markdown",
   "metadata": {},
   "source": [
    "We now know the general structure of our datasets. Let's now ask some questions."
   ]
  },
  {
   "cell_type": "markdown",
   "metadata": {},
   "source": [
    "### What is the distribution of the lengths of students' names in this class?"
   ]
  },
  {
   "cell_type": "code",
   "execution_count": null,
   "metadata": {},
   "outputs": [],
   "source": [
    "sns.distplot(names['Name'].str.len(), rug=True, axlabel=\"Number of Characters\");"
   ]
  },
  {
   "cell_type": "markdown",
   "metadata": {},
   "source": [
    "### What are the majors of students in the class?"
   ]
  },
  {
   "cell_type": "code",
   "execution_count": null,
   "metadata": {},
   "outputs": [],
   "source": [
    "(\n",
    "    major_year[\"Majors\"]\n",
    "        .str.lower()\n",
    "        .value_counts().sort_values(ascending=False)\n",
    "        .head(20).plot(kind='barh', title = \"Major\")\n",
    ");"
   ]
  },
  {
   "cell_type": "code",
   "execution_count": null,
   "metadata": {},
   "outputs": [],
   "source": [
    "px.bar(major_year['Majors'].value_counts().to_frame().reset_index().head(20), \n",
    "       x = 'Majors',\n",
    "       y = 'index',\n",
    "       orientation = 'h')"
   ]
  },
  {
   "cell_type": "markdown",
   "metadata": {},
   "source": [
    "## What is the gender of the class?\n",
    "\n",
    "How can we answer this question?"
   ]
  },
  {
   "cell_type": "code",
   "execution_count": null,
   "metadata": {},
   "outputs": [],
   "source": [
    "print(major_year.columns)\n",
    "print(names.columns)"
   ]
  },
  {
   "cell_type": "markdown",
   "metadata": {},
   "source": [
    "#### Ideas:\n",
    "\n",
    "1. What do we mean by gender?\n",
    "1. Can we use the name to estimate gender?\n",
    "1. How would we build model of gender given the name?\n",
    "1. Where can we get data for such a model?"
   ]
  },
  {
   "cell_type": "markdown",
   "metadata": {},
   "source": [
    "### US Social Security Data\n",
    "\n",
    "Public dataset containing baby names and their **sex**."
   ]
  },
  {
   "cell_type": "markdown",
   "metadata": {},
   "source": [
    "### Understanding the Setting\n",
    "\n",
    "**In Data 100 you will have to learn about different data sources on your own.**\n",
    "\n",
    "<img src=\"baby_names_desc.png\" width=\"600px\" />\n",
    "\n",
    "Reading from [SSN Office description](https://www.ssa.gov/oact/babynames/background.html): \n",
    "\n",
    "> All names are from Social Security card applications for births that occurred in the United States after 1879. Note  that many people born before 1937 never applied for a Social Security card, so their names are not included in our data. For others who did apply, our records may not show the place of birth, and again their names are not included in our data.\n",
    "\n",
    "> All data are from a 100% sample of our records on Social Security card applications as of March 2017."
   ]
  },
  {
   "cell_type": "markdown",
   "metadata": {},
   "source": [
    "### Get data programatically"
   ]
  },
  {
   "cell_type": "code",
   "execution_count": null,
   "metadata": {},
   "outputs": [],
   "source": [
    "import urllib.request\n",
    "import os.path\n",
    "\n",
    "# Download data from the web directly\n",
    "data_url = \"https://www.ssa.gov/oact/babynames/names.zip\"\n",
    "local_filename = \"babynames.zip\"\n",
    "if not os.path.exists(local_filename): # if the data exists don't download again\n",
    "    with urllib.request.urlopen(data_url) as resp, open(local_filename, 'wb') as f:\n",
    "        f.write(resp.read())\n",
    "\n",
    "        \n",
    "# Load data without unzipping the file\n",
    "import zipfile\n",
    "babynames = [] \n",
    "with zipfile.ZipFile(local_filename, \"r\") as zf:\n",
    "    data_files = [f for f in zf.filelist if f.filename[-3:] == \"txt\"]\n",
    "    def extract_year_from_filename(fn):\n",
    "        return int(fn[3:7])\n",
    "    for f in data_files:\n",
    "        year = extract_year_from_filename(f.filename)\n",
    "        with zf.open(f) as fp:\n",
    "            df = pd.read_csv(fp, names=[\"Name\", \"Sex\", \"Count\"])\n",
    "            df[\"Year\"] = year\n",
    "            babynames.append(df)\n",
    "babynames = pd.concat(babynames)\n",
    "\n",
    "\n",
    "babynames.head()"
   ]
  },
  {
   "cell_type": "markdown",
   "metadata": {},
   "source": [
    "A little bit of data cleaning:"
   ]
  },
  {
   "cell_type": "code",
   "execution_count": null,
   "metadata": {
    "scrolled": true
   },
   "outputs": [],
   "source": [
    "babynames['Name'] = babynames['Name'].str.lower()\n",
    "babynames.tail()"
   ]
  },
  {
   "cell_type": "markdown",
   "metadata": {},
   "source": [
    "## Exploratory Data Analysis"
   ]
  },
  {
   "cell_type": "markdown",
   "metadata": {},
   "source": [
    "How many people does this data represent?"
   ]
  },
  {
   "cell_type": "code",
   "execution_count": null,
   "metadata": {},
   "outputs": [],
   "source": [
    "format(babynames['Count'].sum(), ',d')"
   ]
  },
  {
   "cell_type": "code",
   "execution_count": null,
   "metadata": {},
   "outputs": [],
   "source": [
    "len(babynames)"
   ]
  },
  {
   "cell_type": "markdown",
   "metadata": {},
   "source": [
    "**Is this number low or high?**\n",
    "\n",
    "It seems low. However the social security website states: \n",
    "\n",
    "    All names are from Social Security card applications for births that occurred in the United States after 1879. **Note that many people born before 1937 never applied for a Social Security card, so their names are not included in our data.** For others who did apply, our records may not show the place of birth, and again their names are not included in our data. All data are from a 100% sample of our records on Social Security card applications as of the end of February 2016."
   ]
  },
  {
   "cell_type": "markdown",
   "metadata": {},
   "source": [
    "### Let's query to find rows that match desired conditions."
   ]
  },
  {
   "cell_type": "code",
   "execution_count": null,
   "metadata": {},
   "outputs": [],
   "source": [
    "babynames[(babynames['Name'] == 'vela') & (babynames['Sex'] == 'F')].tail(5)"
   ]
  },
  {
   "cell_type": "code",
   "execution_count": null,
   "metadata": {},
   "outputs": [],
   "source": [
    "babynames[(babynames['Name'] == 'anthony') & (babynames['Year'] == 2000)]"
   ]
  },
  {
   "cell_type": "code",
   "execution_count": null,
   "metadata": {},
   "outputs": [],
   "source": [
    "babynames.query('Name.str.contains(\"data\")', engine='python')"
   ]
  },
  {
   "cell_type": "markdown",
   "metadata": {},
   "source": [
    "### Proportion of Male and Female Individuals Over Time"
   ]
  },
  {
   "cell_type": "markdown",
   "metadata": {},
   "source": [
    "In this example we construct a **pivot table** which aggregates the number of babies registered for each year by `Sex`."
   ]
  },
  {
   "cell_type": "code",
   "execution_count": null,
   "metadata": {},
   "outputs": [],
   "source": [
    "pivot_year_name_count = pd.pivot_table(babynames, \n",
    "        index=['Year'], # the row index\n",
    "        columns=['Sex'], # the column values\n",
    "        values='Count', # the field(s) to processed in each group\n",
    "        aggfunc=np.sum,\n",
    "    )\n",
    "\n",
    "pivot_year_name_count.head()"
   ]
  },
  {
   "cell_type": "code",
   "execution_count": null,
   "metadata": {},
   "outputs": [],
   "source": [
    "pivot_year_name_count.plot(title='Names Registered that Year');"
   ]
  },
  {
   "cell_type": "code",
   "execution_count": null,
   "metadata": {
    "scrolled": true
   },
   "outputs": [],
   "source": [
    "fig = go.Figure()\n",
    "fig.add_trace(go.Scatter(x = pivot_year_name_count.index, y = pivot_year_name_count['F'], name = 'F', line=dict(color='gold')))\n",
    "fig.add_trace(go.Scatter(x = pivot_year_name_count.index, y = pivot_year_name_count['M'], name = 'M', line=dict(color='blue')))\n",
    "fig.update_layout(xaxis_title = 'Year', yaxis_title = 'Names Registered')"
   ]
  },
  {
   "cell_type": "markdown",
   "metadata": {},
   "source": [
    "### How many unique names for each year?"
   ]
  },
  {
   "cell_type": "code",
   "execution_count": null,
   "metadata": {},
   "outputs": [],
   "source": [
    "pivot_year_name_nunique = pd.pivot_table(babynames, \n",
    "        index=['Year'], \n",
    "        columns=['Sex'], \n",
    "        values='Name', \n",
    "        aggfunc=lambda x: len(np.unique(x)),\n",
    "    )\n",
    "\n",
    "pivot_year_name_nunique.plot(\n",
    "   title='Number of Unique Names');"
   ]
  },
  {
   "cell_type": "markdown",
   "metadata": {},
   "source": [
    "**Some observations:**\n",
    "1. Registration data seems limited in the early 1900s.  Because many people did not register before 1937.  \n",
    "1. You can see the [baby boomers](https://www.wikiwand.com/en/Baby_boomers) and the echo boom.\n",
    "1. Females have greater diversity of names."
   ]
  },
  {
   "cell_type": "markdown",
   "metadata": {},
   "source": [
    "## Computing the Proportion of Female Babies For Each Name"
   ]
  },
  {
   "cell_type": "code",
   "execution_count": null,
   "metadata": {},
   "outputs": [],
   "source": [
    "sex_counts = pd.pivot_table(babynames, index='Name', columns='Sex', values='Count',\n",
    "                            aggfunc='sum', fill_value=0., margins=True)\n",
    "sex_counts.head()"
   ]
  },
  {
   "cell_type": "markdown",
   "metadata": {},
   "source": [
    "Compute proportion of female babies given each name."
   ]
  },
  {
   "cell_type": "code",
   "execution_count": null,
   "metadata": {},
   "outputs": [],
   "source": [
    "prop_female = sex_counts['F'] / sex_counts['All'] \n",
    "prop_female.head(10)"
   ]
  },
  {
   "cell_type": "code",
   "execution_count": null,
   "metadata": {},
   "outputs": [],
   "source": [
    "prop_female.tail(10)"
   ]
  },
  {
   "cell_type": "markdown",
   "metadata": {},
   "source": [
    "### Testing a few names"
   ]
  },
  {
   "cell_type": "code",
   "execution_count": null,
   "metadata": {},
   "outputs": [],
   "source": [
    "prop_female['audi']"
   ]
  },
  {
   "cell_type": "code",
   "execution_count": null,
   "metadata": {},
   "outputs": [],
   "source": [
    "prop_female['anthony']"
   ]
  },
  {
   "cell_type": "code",
   "execution_count": null,
   "metadata": {},
   "outputs": [],
   "source": [
    "prop_female['joey']"
   ]
  },
  {
   "cell_type": "code",
   "execution_count": null,
   "metadata": {},
   "outputs": [],
   "source": [
    "prop_female['avery']"
   ]
  },
  {
   "cell_type": "code",
   "execution_count": null,
   "metadata": {},
   "outputs": [],
   "source": [
    "prop_female[\"sarah\"]"
   ]
  },
  {
   "cell_type": "code",
   "execution_count": null,
   "metadata": {},
   "outputs": [],
   "source": [
    "prop_female[\"min\"]"
   ]
  },
  {
   "cell_type": "code",
   "execution_count": null,
   "metadata": {},
   "outputs": [],
   "source": [
    "prop_female[\"pat\"]"
   ]
  },
  {
   "cell_type": "markdown",
   "metadata": {},
   "source": [
    "### Build Simple Classifier (Model)\n",
    "\n",
    "We can define a function to return the most likely `Sex` for a name. If there is an exact tie, the function returns Male. If the name does not appear in the social security dataset, we return Unknown."
   ]
  },
  {
   "cell_type": "code",
   "execution_count": null,
   "metadata": {},
   "outputs": [],
   "source": [
    "def sex_from_name(name):\n",
    "    lower_name = name.lower()\n",
    "    if lower_name in prop_female.index:\n",
    "        return 'F' if prop_female[lower_name] > 0.5 else 'M'\n",
    "    else:\n",
    "        return \"Unknown\""
   ]
  },
  {
   "cell_type": "code",
   "execution_count": null,
   "metadata": {},
   "outputs": [],
   "source": [
    "sex_from_name(\"audi\")"
   ]
  },
  {
   "cell_type": "code",
   "execution_count": null,
   "metadata": {},
   "outputs": [],
   "source": [
    "sex_from_name(\"joey\")"
   ]
  },
  {
   "cell_type": "markdown",
   "metadata": {},
   "source": [
    "### What fraction of students in Data 100 this semester have names in the SSN dataset?"
   ]
  },
  {
   "cell_type": "code",
   "execution_count": null,
   "metadata": {},
   "outputs": [],
   "source": [
    "student_names = pd.Index(names[\"Name\"]).intersection(prop_female.index)\n",
    "print(\"Fraction of names in the babynames data:\" , len(student_names) / len(names))"
   ]
  },
  {
   "cell_type": "markdown",
   "metadata": {},
   "source": [
    "### Which names are not in the dataset?\n",
    "\n",
    "Why might these names not appear?  "
   ]
  },
  {
   "cell_type": "code",
   "execution_count": null,
   "metadata": {},
   "outputs": [],
   "source": [
    "missing_names = pd.Index(names[\"Name\"]).difference(prop_female.index)\n",
    "missing_names"
   ]
  },
  {
   "cell_type": "markdown",
   "metadata": {},
   "source": [
    "## Estimating the fraction of female and male students"
   ]
  },
  {
   "cell_type": "code",
   "execution_count": null,
   "metadata": {},
   "outputs": [],
   "source": [
    "names['Pred. Sex'] = names['Name'].apply(sex_from_name)\n",
    "(names[names['Pred. Sex'] != \"Unknown\"]['Pred. Sex'].value_counts()/len(names[names['Pred. Sex'] != \"Unknown\"])).plot(kind=\"barh\");"
   ]
  },
  {
   "cell_type": "markdown",
   "metadata": {},
   "source": [
    "### Using simulation to estimate uncertainty\n",
    "\n",
    "Previously we treated a name which is given to females 40% of the time as a \"Male\" name.  This doesn't capture our uncertainty.  We can use simulation to provide a better distributional estimate."
   ]
  },
  {
   "cell_type": "markdown",
   "metadata": {},
   "source": [
    "### Restricting our attention to students in the class"
   ]
  },
  {
   "cell_type": "code",
   "execution_count": null,
   "metadata": {},
   "outputs": [],
   "source": [
    "len(prop_female)"
   ]
  },
  {
   "cell_type": "code",
   "execution_count": null,
   "metadata": {},
   "outputs": [],
   "source": [
    "ds100_prob_female = prop_female.loc[prop_female.index.intersection(names['Name'])]\n",
    "ds100_prob_female.tail(20)"
   ]
  },
  {
   "cell_type": "markdown",
   "metadata": {},
   "source": [
    "### Running the simulation"
   ]
  },
  {
   "cell_type": "code",
   "execution_count": null,
   "metadata": {},
   "outputs": [],
   "source": [
    "one_simulation = np.random.rand(len(ds100_prob_female)) < ds100_prob_female\n",
    "one_simulation.tail(20)"
   ]
  },
  {
   "cell_type": "code",
   "execution_count": null,
   "metadata": {},
   "outputs": [],
   "source": [
    "# function that performs many simulations\n",
    "def simulate_class(students):\n",
    "    is_female = np.random.rand(len(ds100_prob_female)) < ds100_prob_female\n",
    "    return np.mean(is_female)\n",
    "\n",
    "fraction_female_simulations = np.array([simulate_class(names) for n in range(10000)])"
   ]
  },
  {
   "cell_type": "code",
   "execution_count": null,
   "metadata": {
    "scrolled": true
   },
   "outputs": [],
   "source": [
    "# plt.hist(fraction_female_simulations, bins=np.arange(0.4, 0.46, 0.0025), ec='w');\n",
    "# pd.Series(fraction_female_simulations).iplot(kind=\"hist\", bins=30)\n",
    "ff.create_distplot([fraction_female_simulations], ['Fraction Female'], bin_size=0.0025, show_rug=False)"
   ]
  }
 ],
 "metadata": {
  "kernelspec": {
   "display_name": "Python 3",
   "language": "python",
   "name": "python3"
  },
  "language_info": {
   "codemirror_mode": {
    "name": "ipython",
    "version": 3
   },
   "file_extension": ".py",
   "mimetype": "text/x-python",
   "name": "python",
   "nbconvert_exporter": "python",
   "pygments_lexer": "ipython3",
   "version": "3.7.4"
  }
 },
 "nbformat": 4,
 "nbformat_minor": 2
}
