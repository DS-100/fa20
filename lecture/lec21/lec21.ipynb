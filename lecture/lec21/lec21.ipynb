{
 "cells": [
  {
   "cell_type": "markdown",
   "metadata": {},
   "source": [
    "# Lecture 21 – Data 100, Fall 2020\n",
    "\n",
    "Notebook by Fernando Pérez, Suraj Rampure, John DeNero, Sam Lau, Ani Adhikari."
   ]
  },
  {
   "cell_type": "code",
   "execution_count": null,
   "metadata": {},
   "outputs": [],
   "source": [
    "import numpy as np\n",
    "import pandas as pd\n",
    "import sklearn.linear_model as lm\n",
    "from sklearn.datasets import load_boston\n",
    "\n",
    "import matplotlib.pyplot as plt\n",
    "import seaborn as sns\n",
    "import plotly.express as px\n",
    "import plotly.graph_objects as go\n",
    "from tqdm.notebook import tnrange\n",
    "\n",
    "plt.rcParams['figure.figsize'] = (4, 4)\n",
    "plt.rcParams['figure.dpi'] = 150\n",
    "plt.rcParams['lines.linewidth'] = 3\n",
    "sns.set()"
   ]
  },
  {
   "cell_type": "markdown",
   "metadata": {},
   "source": [
    "## Estimation and Bootstrapping"
   ]
  },
  {
   "cell_type": "markdown",
   "metadata": {},
   "source": [
    "### Sample Mean Estimator\n",
    "\n",
    "Let's say our population is finite and we know it: a uniform over the numbers 0 to 10,000 (inclusive). (Note: You would never need statistical inference if you knew the whole population; we're just creating a playground to try out techniques.)"
   ]
  },
  {
   "cell_type": "code",
   "execution_count": null,
   "metadata": {},
   "outputs": [],
   "source": [
    "population = np.arange(10001)"
   ]
  },
  {
   "cell_type": "code",
   "execution_count": null,
   "metadata": {},
   "outputs": [],
   "source": [
    "population"
   ]
  },
  {
   "cell_type": "markdown",
   "metadata": {},
   "source": [
    "We might want to know the population mean. In this case, we do!"
   ]
  },
  {
   "cell_type": "code",
   "execution_count": null,
   "metadata": {},
   "outputs": [],
   "source": [
    "np.mean(population)"
   ]
  },
  {
   "cell_type": "markdown",
   "metadata": {},
   "source": [
    "But if we only had a sample, then we would perhaps estimate (guess) that the sample mean is a reasonable approximation for the true mean.\n"
   ]
  },
  {
   "cell_type": "code",
   "execution_count": null,
   "metadata": {},
   "outputs": [],
   "source": [
    "sample_100 = np.random.choice(population, size=100, replace=False)\n",
    "np.mean(sample_100)"
   ]
  },
  {
   "cell_type": "markdown",
   "metadata": {},
   "source": [
    "In this case, the estimator is the function np.mean and the population parameter is 5000. The estimate is close, but it's wrong."
   ]
  },
  {
   "cell_type": "markdown",
   "metadata": {},
   "source": [
    "### Sample variance estimator for the variance of the sample mean"
   ]
  },
  {
   "cell_type": "markdown",
   "metadata": {},
   "source": [
    "Here's an impractical but effective method for estimating the variance of an estimator $f$. (Note that this process is not directly related to the true population parameter, we are instead trying to get a sense of how much our guesses vary from one another.)"
   ]
  },
  {
   "cell_type": "code",
   "execution_count": null,
   "metadata": {},
   "outputs": [],
   "source": [
    "def var_estimate(f, pop, m=4000, n=100):\n",
    "    \"\"\"Estimate the variance of estimator f by the empirical variance.\n",
    "    \n",
    "    f: A function of a sample\n",
    "    pop: An array representing the whole population\n",
    "    m, n: Use m samples of size n to estimate the variance\n",
    "    \"\"\"\n",
    "    estimates = []\n",
    "    for j in range(m):\n",
    "        sample = np.random.choice(pop, size=n, replace=False)\n",
    "        estimates.append(f(sample))\n",
    "    estimates = np.array(estimates)\n",
    "    plt.hist(estimates, bins=30)\n",
    "    plt.xlim(4000, 6000)\n",
    "    return np.var(estimates)\n",
    "\n",
    "var_estimate(np.mean, population)"
   ]
  },
  {
   "cell_type": "code",
   "execution_count": null,
   "metadata": {},
   "outputs": [],
   "source": [
    "_**0.5"
   ]
  },
  {
   "cell_type": "code",
   "execution_count": null,
   "metadata": {},
   "outputs": [],
   "source": [
    "var_estimate(np.mean, population, n=400)"
   ]
  },
  {
   "cell_type": "code",
   "execution_count": null,
   "metadata": {},
   "outputs": [],
   "source": [
    "var_estimate(np.mean, population, n=1600)"
   ]
  },
  {
   "cell_type": "markdown",
   "metadata": {},
   "source": [
    "This is not a new phenomenon. In Lecture 3, we saw that the variance of the sample mean decreases as our sample size increases.\n",
    "\n",
    "If we know the variance of the sampling distribution and we know that the sampling distribution is approximately normal, then we know how far off a single estimate is likely to be. About 95% of estimates will be within 2 standard deviations of the mean, so for 95% of samples, the estimate will be off by the following (or less)."
   ]
  },
  {
   "cell_type": "code",
   "execution_count": null,
   "metadata": {},
   "outputs": [],
   "source": [
    "2 * np.sqrt(var_estimate(np.mean, population))"
   ]
  },
  {
   "cell_type": "markdown",
   "metadata": {},
   "source": [
    "Unfortunately, estimating the variance required repeated sampling from the population."
   ]
  },
  {
   "cell_type": "markdown",
   "metadata": {},
   "source": [
    "### Bootstrap estimator for the variance of the sample mean\n",
    "\n",
    "Instead, we can estimate the variance using bootstrap resampling."
   ]
  },
  {
   "cell_type": "code",
   "execution_count": null,
   "metadata": {},
   "outputs": [],
   "source": [
    "def bootstrap_var_estimate(f, sample, m=4000):\n",
    "    \"\"\"Estimate the variance of estimator f by the empirical variance.\n",
    "    \n",
    "    f: A function of a sample\n",
    "    sample: An array representing a sample of size n\n",
    "    m: Use m samples of size n to estimate the variance\n",
    "    \"\"\"\n",
    "    estimates = []\n",
    "    n = len(sample)\n",
    "    for j in range(m):\n",
    "        resample = np.random.choice(sample, size=n, replace=True)\n",
    "        estimates.append(f(resample))\n",
    "    estimates = np.array(estimates)\n",
    "    plt.hist(estimates, bins=30)\n",
    "    return np.mean((estimates - np.mean(estimates))**2) # same as np.var(estimates)\n",
    "\n",
    "bootstrap_var_estimate(np.mean, sample_100)"
   ]
  },
  {
   "cell_type": "code",
   "execution_count": null,
   "metadata": {},
   "outputs": [],
   "source": [
    "np.mean(sample_100)"
   ]
  },
  {
   "cell_type": "code",
   "execution_count": null,
   "metadata": {},
   "outputs": [],
   "source": [
    "sample_400 = np.random.choice(population, 400, replace=False)\n",
    "bootstrap_var_estimate(np.mean, sample_400)"
   ]
  },
  {
   "cell_type": "code",
   "execution_count": null,
   "metadata": {},
   "outputs": [],
   "source": [
    "sample_1600 = np.random.choice(population, 1600, replace=False)\n",
    "bootstrap_var_estimate(np.mean, sample_1600)"
   ]
  },
  {
   "cell_type": "markdown",
   "metadata": {},
   "source": [
    "We can see that the estimated variance when bootstrapping our sample is close to the variance computed by directly sampling from the population. But, it's a good amount wrong each time."
   ]
  },
  {
   "cell_type": "markdown",
   "metadata": {},
   "source": [
    "### Bootstrap confidence interval"
   ]
  },
  {
   "cell_type": "code",
   "execution_count": null,
   "metadata": {},
   "outputs": [],
   "source": [
    "def ci(sample, estimator, confidence=95, m=1000):\n",
    "    \"\"\"Compute a confidence interval for an estimator.\n",
    "    \n",
    "    sample: A DataFrame or Series\n",
    "    estimator: A function from a sample DataFrame to an estimate (number)\n",
    "    \"\"\"\n",
    "    if isinstance(sample, np.ndarray):\n",
    "        sample = pd.Series(sample)\n",
    "    estimates = []\n",
    "    n = sample.shape[0]\n",
    "    for j in range(m):\n",
    "        resample = sample.sample(n, replace=True)\n",
    "        estimates.append(estimator(resample))\n",
    "    estimates = np.array(estimates)\n",
    "    slack = 100 - confidence\n",
    "    lower = np.percentile(estimates, slack/2)\n",
    "    upper = np.percentile(estimates, 100 - slack/2)\n",
    "    return (lower, upper)"
   ]
  },
  {
   "cell_type": "markdown",
   "metadata": {},
   "source": [
    "Here's one bootstrapped confidence interval for the sample mean."
   ]
  },
  {
   "cell_type": "code",
   "execution_count": null,
   "metadata": {},
   "outputs": [],
   "source": [
    "np.mean(sample_100)"
   ]
  },
  {
   "cell_type": "code",
   "execution_count": null,
   "metadata": {},
   "outputs": [],
   "source": [
    "ci(sample_100, np.mean)"
   ]
  },
  {
   "cell_type": "code",
   "execution_count": null,
   "metadata": {},
   "outputs": [],
   "source": [
    "def bootstrap_dist(sample, estimator, m=10000):\n",
    "    if isinstance(sample, np.ndarray):\n",
    "        sample = pd.Series(sample)\n",
    "    estimates = []\n",
    "    n = sample.shape[0]\n",
    "    for j in range(m):\n",
    "        resample = sample.sample(n, replace=True)\n",
    "        estimates.append(estimator(resample))\n",
    "    plt.hist(estimates, bins=30)\n",
    "    \n",
    "bootstrap_dist(sample_100, np.mean)"
   ]
  },
  {
   "cell_type": "markdown",
   "metadata": {},
   "source": [
    "To be crystal clear, the above histogram was computed by:\n",
    "- resampling from our original sample `sample_100`, 10000 times\n",
    "- each of those 10000 times, computing the sample mean\n",
    "- calling `plt.hist` on the list of 10000 bootstrapped sample means\n",
    "\n",
    "Let's create 100 95% confidence intervals for the sample mean. We'd expect roughly 95% of them to contain the true population parameter. In practice, we wouldn't be able to check (because if we knew the true population parameter, we wouldn't be doing any of this)."
   ]
  },
  {
   "cell_type": "code",
   "execution_count": null,
   "metadata": {},
   "outputs": [],
   "source": [
    "mean_ints = [ci(np.random.choice(population, 100), np.mean)\n",
    "             for _ in tnrange(100)]"
   ]
  },
  {
   "cell_type": "markdown",
   "metadata": {},
   "source": [
    "You will note, many of these intervals contain the true population parameter 5000, but some do not. Let's print the first few:"
   ]
  },
  {
   "cell_type": "code",
   "execution_count": null,
   "metadata": {},
   "outputs": [],
   "source": [
    "mean_ints[:5]"
   ]
  },
  {
   "cell_type": "markdown",
   "metadata": {},
   "source": [
    "We can visualize this by plotting each confidence interval as a line and then overlaying the true mean, which we happen to know in this case is 5000. We can then count how many of our CIs include 5000. The code below does that, while also color-coding the CIs that fail to include the true value in red (the true mean is the thick vertical orange line).\n",
    "\n",
    "We expect the fraction of \"OK CIs\" (that is, confidence intervals that include the true mean) to be close to 0.95, but the exact value you get will change each time you rerun the above code:"
   ]
  },
  {
   "cell_type": "code",
   "execution_count": null,
   "metadata": {},
   "outputs": [],
   "source": [
    "true_mean = 5000\n",
    "fig, ax = plt.subplots(figsize=(3,6))\n",
    "nreps = len(mean_ints)\n",
    "nok = 0\n",
    "for i, bounds in enumerate(mean_ints):\n",
    "    if bounds[0] <= true_mean <= bounds[1]:\n",
    "        color = 'blue'\n",
    "        nok += 1\n",
    "    else:\n",
    "        color = 'red'\n",
    "    ax.plot(bounds, [i, i], '-o', color=color, lw=1, markersize=2)\n",
    "ax.axvline(true_mean, color='orange', lw=3);\n",
    "ax.set_title(f\"Fraction of OK CIs: {nok/nreps}\");"
   ]
  },
  {
   "cell_type": "markdown",
   "metadata": {},
   "source": [
    "### Bootstrap confidence intervals for other population parameters\n",
    "\n",
    "#### Median"
   ]
  },
  {
   "cell_type": "code",
   "execution_count": null,
   "metadata": {},
   "outputs": [],
   "source": [
    "bootstrap_dist(sample_100, np.median)"
   ]
  },
  {
   "cell_type": "code",
   "execution_count": null,
   "metadata": {},
   "outputs": [],
   "source": [
    "ci(sample_100, np.median)"
   ]
  },
  {
   "cell_type": "code",
   "execution_count": null,
   "metadata": {},
   "outputs": [],
   "source": [
    "# True population median\n",
    "np.median(population)"
   ]
  },
  {
   "cell_type": "markdown",
   "metadata": {},
   "source": [
    "#### Standard Deviation"
   ]
  },
  {
   "cell_type": "code",
   "execution_count": null,
   "metadata": {},
   "outputs": [],
   "source": [
    "bootstrap_dist(sample_100, np.std)"
   ]
  },
  {
   "cell_type": "code",
   "execution_count": null,
   "metadata": {},
   "outputs": [],
   "source": [
    "ci(sample_100, np.std)"
   ]
  },
  {
   "cell_type": "code",
   "execution_count": null,
   "metadata": {},
   "outputs": [],
   "source": [
    "# True population standard deviation\n",
    "np.std(population)"
   ]
  },
  {
   "cell_type": "markdown",
   "metadata": {},
   "source": [
    "#### 99th Percentile"
   ]
  },
  {
   "cell_type": "code",
   "execution_count": null,
   "metadata": {},
   "outputs": [],
   "source": [
    "p99 = lambda a: np.percentile(a, 99)\n",
    "p99(population)"
   ]
  },
  {
   "cell_type": "code",
   "execution_count": null,
   "metadata": {},
   "outputs": [],
   "source": [
    "bootstrap_dist(sample_100, p99)"
   ]
  },
  {
   "cell_type": "code",
   "execution_count": null,
   "metadata": {},
   "outputs": [],
   "source": [
    "ci(sample_100, p99)"
   ]
  },
  {
   "cell_type": "code",
   "execution_count": null,
   "metadata": {},
   "outputs": [],
   "source": [
    "p99_ints = [ci(np.random.choice(population, 100), p99)\n",
    "            for _ in tnrange(100)]"
   ]
  },
  {
   "cell_type": "code",
   "execution_count": null,
   "metadata": {},
   "outputs": [],
   "source": [
    "sum([v[0] <= p99(population) <= v[1] for v in p99_ints])"
   ]
  },
  {
   "cell_type": "markdown",
   "metadata": {},
   "source": [
    "Extreme percentiles aren't estimated well with the bootstrap. Only 60-70 / 100 of our 95% confidence intervals contained the true population parameter."
   ]
  },
  {
   "cell_type": "markdown",
   "metadata": {},
   "source": [
    "## Estimating Parameters in Linear Regression\n",
    "\n",
    "Let's revisit an old friend."
   ]
  },
  {
   "cell_type": "code",
   "execution_count": null,
   "metadata": {},
   "outputs": [],
   "source": [
    "nba = pd.read_csv('nba18-19.csv')"
   ]
  },
  {
   "cell_type": "code",
   "execution_count": null,
   "metadata": {},
   "outputs": [],
   "source": [
    "nba"
   ]
  },
  {
   "cell_type": "markdown",
   "metadata": {},
   "source": [
    "This table provides aggregate statistics for each player throughout the 2018-19 NBA season.\n",
    "\n",
    "Let's use `FG`, `FGA`, `FT%`, `3PA`, and `AST` to predict `PTS`. For reference:\n",
    "- `FG` is the number of shots a player made.\n",
    "- `FGA` is the number of shots a player took.\n",
    "- `FT%` is the proportion of free throw shots a player took that they made.\n",
    "- `3PA` is the number of three-point shots a player took.\n",
    "- `AST` is the number of assists the player had."
   ]
  },
  {
   "cell_type": "code",
   "execution_count": null,
   "metadata": {},
   "outputs": [],
   "source": [
    "nba_small = nba[['FG', 'FGA', 'FT%', '3PA', 'AST', 'PTS']].fillna(0)\n",
    "nba_small"
   ]
  },
  {
   "cell_type": "markdown",
   "metadata": {},
   "source": [
    "Note that this is really just for the sake of example; the correlation between `FG` and `PTS` is so high that we in practice wouldn't need all of these other features."
   ]
  },
  {
   "cell_type": "code",
   "execution_count": null,
   "metadata": {
    "scrolled": false
   },
   "outputs": [],
   "source": [
    "reg = lm.LinearRegression()\n",
    "reg.fit(nba_small.iloc[:,:-1], nba_small.iloc[:,-1])"
   ]
  },
  {
   "cell_type": "markdown",
   "metadata": {},
   "source": [
    "The Multiple $R^2$ value is quite high:"
   ]
  },
  {
   "cell_type": "code",
   "execution_count": null,
   "metadata": {},
   "outputs": [],
   "source": [
    "reg.score(nba_small.iloc[:,:-1], nba_small.iloc[:,-1])"
   ]
  },
  {
   "cell_type": "markdown",
   "metadata": {},
   "source": [
    "Let's look at the coefficients, though:"
   ]
  },
  {
   "cell_type": "code",
   "execution_count": null,
   "metadata": {},
   "outputs": [],
   "source": [
    "nba_small.columns"
   ]
  },
  {
   "cell_type": "code",
   "execution_count": null,
   "metadata": {},
   "outputs": [],
   "source": [
    "reg.coef_.astype(float)"
   ]
  },
  {
   "cell_type": "markdown",
   "metadata": {},
   "source": [
    "The coefficient on `FGA`, the number of shots a player takes, is very low. This means that `FGA` is not very useful in predicting `PTS`. That's strange – because we'd think that the number of shots a player takes would be very useful in such a case.\n",
    "\n",
    "Let's look at a 95% confidence interval (created using the bootstrap percentile technique from above) for the coefficient on `FGA`."
   ]
  },
  {
   "cell_type": "code",
   "execution_count": null,
   "metadata": {},
   "outputs": [],
   "source": [
    "def FGA_slope(t):\n",
    "    reg = lm.LinearRegression().fit(t.iloc[:,:-1], t.iloc[:,-1])\n",
    "    return reg.coef_[1]\n",
    "\n",
    "ci(nba_small, FGA_slope)"
   ]
  },
  {
   "cell_type": "markdown",
   "metadata": {},
   "source": [
    "We see 0 is in this interval. Hmmmm...."
   ]
  },
  {
   "cell_type": "markdown",
   "metadata": {},
   "source": [
    "## Multicollinearity"
   ]
  },
  {
   "cell_type": "markdown",
   "metadata": {},
   "source": [
    "The issue is that `FGA` is highly correlated with one of the other features in our design matrix."
   ]
  },
  {
   "cell_type": "code",
   "execution_count": null,
   "metadata": {},
   "outputs": [],
   "source": [
    "nba_small.corr()"
   ]
  },
  {
   "cell_type": "markdown",
   "metadata": {},
   "source": [
    "The correlation between `FGA` and `FG` is very close to 1. This is a sign of multicollinearity, meaning that the individual coefficients have little meaning.\n",
    "\n",
    "Let's look at the resulting model that comes from only using `FGA` as a feature."
   ]
  },
  {
   "cell_type": "code",
   "execution_count": null,
   "metadata": {},
   "outputs": [],
   "source": [
    "simple_model = lm.LinearRegression()\n",
    "simple_model.fit(nba_small[['FGA']].values.reshape(-1, 1), nba_small['PTS'])"
   ]
  },
  {
   "cell_type": "markdown",
   "metadata": {},
   "source": [
    "We dropped all of those features, but the Multiple $R^2$ value is almost the same. The simpler, the better."
   ]
  },
  {
   "cell_type": "code",
   "execution_count": null,
   "metadata": {},
   "outputs": [],
   "source": [
    "simple_model.score(nba_small[['FGA']].values.reshape(-1, 1), nba_small['PTS'])"
   ]
  },
  {
   "cell_type": "markdown",
   "metadata": {},
   "source": [
    "The coefficient on `FGA` in this model, of course, is positive."
   ]
  },
  {
   "cell_type": "code",
   "execution_count": null,
   "metadata": {},
   "outputs": [],
   "source": [
    "simple_model.coef_"
   ]
  },
  {
   "cell_type": "code",
   "execution_count": null,
   "metadata": {},
   "outputs": [],
   "source": [
    "def FGA_slope_simple_model(t):\n",
    "    reg = lm.LinearRegression().fit(t[['FGA']].values.reshape(-1, 1), t['PTS'])\n",
    "    return reg.coef_[0]\n",
    "\n",
    "ci(nba_small, FGA_slope_simple_model)"
   ]
  },
  {
   "cell_type": "markdown",
   "metadata": {},
   "source": [
    "0 is not in this interval, so we know that the slope for `FGA` in the linear model with `PTS` is significantly different than 0."
   ]
  }
 ],
 "metadata": {
  "kernelspec": {
   "display_name": "Python 3",
   "language": "python",
   "name": "python3"
  },
  "language_info": {
   "codemirror_mode": {
    "name": "ipython",
    "version": 3
   },
   "file_extension": ".py",
   "mimetype": "text/x-python",
   "name": "python",
   "nbconvert_exporter": "python",
   "pygments_lexer": "ipython3",
   "version": "3.7.4"
  }
 },
 "nbformat": 4,
 "nbformat_minor": 2
}
