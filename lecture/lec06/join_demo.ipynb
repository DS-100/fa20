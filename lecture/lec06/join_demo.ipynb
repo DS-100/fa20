{
 "cells": [
  {
   "cell_type": "code",
   "execution_count": null,
   "metadata": {},
   "outputs": [],
   "source": [
    "import pandas as pd\n",
    "import zipfile\n",
    "import seaborn as sns"
   ]
  },
  {
   "cell_type": "markdown",
   "metadata": {},
   "source": [
    "# Join Review"
   ]
  },
  {
   "cell_type": "markdown",
   "metadata": {},
   "source": [
    "In this notebook we'll briefly review [joining tables as discussed in Data 8](https://www.inferentialthinking.com/chapters/08/4/Joining_Tables_by_Columns.html).\n",
    "\n",
    "Often data is spread across two tables. Joining provides us with a way to naturally combine related tables."
   ]
  },
  {
   "cell_type": "markdown",
   "metadata": {},
   "source": [
    "Let's start by reading data from the given zip file. To showcase how to do read data that is inside zip files, we're going to use the `zipfile` module. Doing so will allow us to avoid needing to unzip the data. Running the cell below, we see that the zip file contains `elections.csv` and `presidents.csv`."
   ]
  },
  {
   "cell_type": "code",
   "execution_count": null,
   "metadata": {},
   "outputs": [],
   "source": [
    "join_demo_filename = \"lec6_join_demo_data.zip\"\n",
    "my_zip = zipfile.ZipFile(join_demo_filename, 'r')\n",
    "list_names = [f.filename for f in my_zip.filelist]\n",
    "list_names"
   ]
  },
  {
   "cell_type": "markdown",
   "metadata": {},
   "source": [
    "We could call `my_zip.extractall()` to unzip the files, but we won't. Instead, we'll read directly from the zip file itself."
   ]
  },
  {
   "cell_type": "code",
   "execution_count": null,
   "metadata": {},
   "outputs": [],
   "source": [
    "with my_zip.open(\"elections.csv\") as f:\n",
    "    elections = pd.read_csv(f)\n",
    "    \n",
    "elections.head(5)"
   ]
  },
  {
   "cell_type": "code",
   "execution_count": null,
   "metadata": {
    "ExecuteTime": {
     "end_time": "2018-01-29T01:36:32.619859Z",
     "start_time": "2018-01-29T01:36:32.131368Z"
    }
   },
   "outputs": [],
   "source": [
    "with my_zip.open(\"presidents.csv\") as f:\n",
    "    presidents = pd.read_csv(f)\n",
    "    \n",
    "presidents.head(5)"
   ]
  },
  {
   "cell_type": "markdown",
   "metadata": {},
   "source": [
    "To join tables `df` and `df2`, we call the function `df.merge(df2)`. Merge is just the word that the authors of pandas picked for joining tables. I don't know why.\n",
    "\n",
    "Note: Unfortunately, Pandas also has a function called `df.join`. This is a limited version of `merge`. For the sake of generality, we will only use `merge` in this class."
   ]
  },
  {
   "cell_type": "markdown",
   "metadata": {},
   "source": [
    "I can use the merge function to combine these two tables:"
   ]
  },
  {
   "cell_type": "code",
   "execution_count": null,
   "metadata": {
    "ExecuteTime": {
     "end_time": "2018-01-29T01:36:32.913114Z",
     "start_time": "2018-01-29T01:36:32.897027Z"
    }
   },
   "outputs": [],
   "source": [
    "elections.merge(presidents, \n",
    "            how = \"inner\",\n",
    "            left_on = \"Candidate\", right_on = \"President\")"
   ]
  },
  {
   "cell_type": "markdown",
   "metadata": {},
   "source": [
    "Notice that:\n",
    "1. The output dataframe only contains rows that have names in both tables.  For example, presidents before 1824 do not appear in the joined table because there was no popular vote before 1824.\n",
    "1. The name `Andrew Jackson` occurred three times in the election table and shows up three times in the output. \n",
    "1. `Grover Cleveland` occurs six times! Twice for every election he was in. This is because he appears three times in the `elections` table and twice in the `presidents` table. This results in 3 x 2 = 6 combinations.\n",
    "1. Several presidents are missing because their names are not an exact match. For example, John F. Kennedy is \"John Kennedy\" in the elections table and \"John F. Kennedy\" in the presidents table."
   ]
  },
  {
   "cell_type": "markdown",
   "metadata": {},
   "source": [
    "With the caveats above in mind, this merged DataFrame is handy because we can use it to plot, e.g. the age of each president when they were elected."
   ]
  },
  {
   "cell_type": "code",
   "execution_count": null,
   "metadata": {},
   "outputs": [],
   "source": [
    "joined = elections.merge(presidents, \n",
    "            how = \"inner\",\n",
    "            left_on = \"Candidate\", right_on = \"President\")\n",
    "\n",
    "winners = joined.query(\"Result == 'win'\").copy()\n",
    "winners[\"Birthyear\"] = winners[\"Date of birth\"].str.split(',').str[1].map(int)\n",
    "winners[\"Age\"] = winners[\"Year\"] - winners[\"Birthyear\"]\n",
    "sns.lmplot(data=winners, x=\"Year\", y=\"Age\");"
   ]
  },
  {
   "cell_type": "markdown",
   "metadata": {},
   "source": [
    "### How could we fix the duplicate Grover Cleveland?\n",
    "\n",
    "We could group by name/candidate and take only the first:"
   ]
  },
  {
   "cell_type": "code",
   "execution_count": null,
   "metadata": {
    "ExecuteTime": {
     "end_time": "2018-01-29T01:36:32.942710Z",
     "start_time": "2018-01-29T01:36:32.915273Z"
    }
   },
   "outputs": [],
   "source": [
    "(\n",
    "        elections.merge(presidents, \n",
    "            how = \"inner\",\n",
    "            left_on = \"Candidate\", right_on = \"President\")\n",
    "        .groupby(['Candidate', 'Year']).first().reset_index()\n",
    ")"
   ]
  },
  {
   "cell_type": "markdown",
   "metadata": {},
   "source": [
    "### Right Join\n",
    "\n",
    "The above join was an inner join.  What if we wanted to keep all of the presidents and leave missing data for years when there was no popular vote? In this case we'd do a \"right\" join, where we make sure to include EVERY row from our right dataframe, in this case `presidents`."
   ]
  },
  {
   "cell_type": "code",
   "execution_count": null,
   "metadata": {
    "ExecuteTime": {
     "end_time": "2018-01-29T01:36:32.958298Z",
     "start_time": "2018-01-29T01:36:32.945128Z"
    },
    "scrolled": true
   },
   "outputs": [],
   "source": [
    "elections.merge(presidents, \n",
    "            how = \"right\",\n",
    "            left_on = \"Candidate\", right_on = \"President\")"
   ]
  },
  {
   "cell_type": "markdown",
   "metadata": {},
   "source": [
    "Similarly, if we also want to include candidates not in the presidents table (e.g. because they had never won), we can use a \"left\" join."
   ]
  },
  {
   "cell_type": "code",
   "execution_count": null,
   "metadata": {},
   "outputs": [],
   "source": [
    "elections.merge(presidents, \n",
    "            how = \"left\",\n",
    "            left_on = \"Candidate\", right_on = \"President\")"
   ]
  },
  {
   "cell_type": "markdown",
   "metadata": {},
   "source": [
    "If we wanted to keep both, we can instead do an \"outer join\"."
   ]
  },
  {
   "cell_type": "code",
   "execution_count": null,
   "metadata": {},
   "outputs": [],
   "source": [
    "elections.merge(presidents, \n",
    "            how = \"outer\",\n",
    "            left_on = \"Candidate\", right_on = \"President\")"
   ]
  }
 ],
 "metadata": {
  "kernelspec": {
   "display_name": "Python 3",
   "language": "python",
   "name": "python3"
  },
  "language_info": {
   "codemirror_mode": {
    "name": "ipython",
    "version": 3
   },
   "file_extension": ".py",
   "mimetype": "text/x-python",
   "name": "python",
   "nbconvert_exporter": "python",
   "pygments_lexer": "ipython3",
   "version": "3.7.4"
  }
 },
 "nbformat": 4,
 "nbformat_minor": 4
}
