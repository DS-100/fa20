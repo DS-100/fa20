{
 "cells": [
  {
   "cell_type": "markdown",
   "metadata": {},
   "source": [
    "# Lecture 23: Clustering – Data 100, Fall 2020\n",
    "\n",
    "**Notebook by Josh Hug (Fall 2019)**"
   ]
  },
  {
   "cell_type": "code",
   "execution_count": null,
   "metadata": {},
   "outputs": [],
   "source": [
    "import pandas as pd\n",
    "import numpy as np\n",
    "import seaborn as sns\n",
    "import matplotlib.pyplot as plt\n",
    "import random"
   ]
  },
  {
   "cell_type": "code",
   "execution_count": null,
   "metadata": {},
   "outputs": [],
   "source": [
    "iris = pd.read_csv(\"iris.csv\")\n",
    "iris.sample(10)"
   ]
  },
  {
   "cell_type": "code",
   "execution_count": null,
   "metadata": {},
   "outputs": [],
   "source": [
    "iris = iris.drop(\"species\", axis = 1)\n",
    "iris.sample(10)"
   ]
  },
  {
   "cell_type": "code",
   "execution_count": null,
   "metadata": {},
   "outputs": [],
   "source": [
    "sns.scatterplot(data = iris, x = \"petal_length\", y= \"petal_width\", color=\"black\")\n",
    "plt.xlabel('x')\n",
    "plt.ylabel('y');\n",
    "#plt.savefig('2d_data_needing_clustering.png', dpi = 300, bbox_inches = \"tight\")"
   ]
  },
  {
   "cell_type": "code",
   "execution_count": null,
   "metadata": {},
   "outputs": [],
   "source": [
    "class Center():\n",
    "    def __init__(self, data):\n",
    "        \"\"\"generates a random center inside the region bounded by the data\"\"\"        \n",
    "        num_dimensions = data.shape[1]\n",
    "        self.coordinates = np.array([0.0] * num_dimensions)\n",
    "        for i in range(num_dimensions):\n",
    "            min_value = np.min(data[:, i])\n",
    "            max_value = np.max(data[:, i])            \n",
    "            random_value = random.uniform(min_value, max_value)            \n",
    "            self.coordinates[i] = random_value\n",
    "    \n",
    "    def __str__(self):\n",
    "        return str(self.coordinates)\n",
    "\n",
    "    def __repr__(self):\n",
    "        return repr(self.coordinates)\n",
    "\n",
    "    def dist(self, data_point):\n",
    "        return np.sqrt(np.sum((self.coordinates - data_point)**2, axis = 1))\n",
    "    \n",
    "    def dist_sq(self, data_point):\n",
    "        return np.sum((self.coordinates - data_point)**2, axis = 1)"
   ]
  },
  {
   "cell_type": "code",
   "execution_count": null,
   "metadata": {},
   "outputs": [],
   "source": [
    "c1 = Center(iris.loc[:, ['petal_length', 'petal_width']].values)\n",
    "c2 = Center(iris.loc[:, ['petal_length', 'petal_width']].values)"
   ]
  },
  {
   "cell_type": "code",
   "execution_count": null,
   "metadata": {},
   "outputs": [],
   "source": [
    "# force coordinates from the lecture demo\n",
    "c1.coordinates = np.array([2.52364007, 2.31040024])\n",
    "c2.coordinates = np.array([6.53276402, 1.211463])"
   ]
  },
  {
   "cell_type": "code",
   "execution_count": null,
   "metadata": {},
   "outputs": [],
   "source": [
    "def plot_centers_and_black_data(iris, centers):\n",
    "    sns.scatterplot(data = iris, x = \"petal_length\", y= \"petal_width\", color=\"black\")\n",
    "    for center in centers:\n",
    "        plt.plot(center.coordinates[0], center.coordinates[1], '*', markersize = 10)    \n",
    "    plt.xlabel('petal_length')\n",
    "    plt.ylabel('petal_width')\n",
    "    legend_text = ['c' + str(i) for i in range(1, len(centers) + 1)]\n",
    "    legend_text.append('data')\n",
    "    plt.legend(legend_text)"
   ]
  },
  {
   "cell_type": "code",
   "execution_count": null,
   "metadata": {},
   "outputs": [],
   "source": [
    "plot_centers_and_black_data(iris, (c1, c2))\n",
    "#plt.savefig('2means_demo_initial_placement.png', dpi = 300, bbox_inches = \"tight\")"
   ]
  },
  {
   "cell_type": "code",
   "execution_count": null,
   "metadata": {},
   "outputs": [],
   "source": [
    "def get_cluster_number(dists):\n",
    "    return np.where(dists == np.min(dists))[0][0]"
   ]
  },
  {
   "cell_type": "code",
   "execution_count": null,
   "metadata": {
    "scrolled": true
   },
   "outputs": [],
   "source": [
    "iris[\"dist1\"] = c1.dist(iris[[\"petal_length\", \"petal_width\"]])\n",
    "iris[\"dist2\"] = c2.dist(iris[[\"petal_length\", \"petal_width\"]])\n",
    "iris[\"cluster\"] = iris[[\"dist1\", \"dist2\"]].apply(get_cluster_number, axis = 1)\n",
    "iris.head(10)"
   ]
  },
  {
   "cell_type": "code",
   "execution_count": null,
   "metadata": {},
   "outputs": [],
   "source": [
    "iris[\"cluster\"].value_counts()"
   ]
  },
  {
   "cell_type": "code",
   "execution_count": null,
   "metadata": {},
   "outputs": [],
   "source": [
    "def plot_centers_and_colorized_data(iris, centers):\n",
    "    current_palette = sns.color_palette()[0:len(centers)]\n",
    "    sns.scatterplot(data = iris, x = \"petal_length\", y= \"petal_width\", hue=\"cluster\", palette=current_palette)  \n",
    "    for center in centers:\n",
    "        plt.plot(center.coordinates[0], center.coordinates[1], '*', markersize = 10)\n",
    "    plt.xlabel('petal_length')\n",
    "    plt.ylabel('petal_width')\n",
    "    legend_text = ['c' + str(i) for i in range(1, len(centers) + 1)]\n",
    "    plt.legend(legend_text)"
   ]
  },
  {
   "cell_type": "code",
   "execution_count": null,
   "metadata": {},
   "outputs": [],
   "source": [
    "plot_centers_and_colorized_data(iris, (c1, c2))\n",
    "#plt.savefig('2means_demo_initial_placement_colored.png', dpi = 300, bbox_inches = \"tight\")"
   ]
  },
  {
   "cell_type": "code",
   "execution_count": null,
   "metadata": {},
   "outputs": [],
   "source": [
    "average_c1_length = np.mean(iris[iris[\"cluster\"] == 0])[\"petal_length\"]\n",
    "average_c1_width = np.mean(iris[iris[\"cluster\"] == 0])[\"petal_width\"]\n",
    "c1.coordinates = (average_c1_length, average_c1_width)\n",
    "\n",
    "average_c2_length = np.mean(iris[iris[\"cluster\"] == 1])[\"petal_length\"]\n",
    "average_c2_width = np.mean(iris[iris[\"cluster\"] == 1])[\"petal_width\"]\n",
    "c2.coordinates = (average_c2_length, average_c2_width)"
   ]
  },
  {
   "cell_type": "code",
   "execution_count": null,
   "metadata": {},
   "outputs": [],
   "source": [
    "plot_centers_and_black_data(iris, (c1, c2))\n",
    "#plt.savefig('2means_demo_center_position_2.png', dpi = 300, bbox_inches = \"tight\")"
   ]
  },
  {
   "cell_type": "code",
   "execution_count": null,
   "metadata": {},
   "outputs": [],
   "source": [
    "iris[\"dist1\"] = c1.dist(iris[[\"petal_length\", \"petal_width\"]])\n",
    "iris[\"dist2\"] = c2.dist(iris[[\"petal_length\", \"petal_width\"]])\n",
    "iris[\"cluster\"] = iris[[\"dist1\", \"dist2\"]].apply(get_cluster_number, axis = 1)"
   ]
  },
  {
   "cell_type": "code",
   "execution_count": null,
   "metadata": {},
   "outputs": [],
   "source": [
    "plot_centers_and_colorized_data(iris, (c1, c2))\n",
    "#plt.savefig('2means_demo_center_position_2_colorized.png', dpi = 300, bbox_inches = \"tight\")"
   ]
  },
  {
   "cell_type": "code",
   "execution_count": null,
   "metadata": {},
   "outputs": [],
   "source": [
    "average_c1_length = np.mean(iris[iris[\"cluster\"] == 0])[\"petal_length\"]\n",
    "average_c1_width = np.mean(iris[iris[\"cluster\"] == 0])[\"petal_width\"]\n",
    "c1.coordinates = (average_c1_length, average_c1_width)\n",
    "\n",
    "average_c2_length = np.mean(iris[iris[\"cluster\"] == 1])[\"petal_length\"]\n",
    "average_c2_width = np.mean(iris[iris[\"cluster\"] == 1])[\"petal_width\"]\n",
    "c2.coordinates = (average_c2_length, average_c2_width)"
   ]
  },
  {
   "cell_type": "code",
   "execution_count": null,
   "metadata": {},
   "outputs": [],
   "source": [
    "plot_centers_and_black_data(iris, (c1, c2))\n",
    "#plt.savefig('2means_demo_center_position_3.png', dpi = 300, bbox_inches = \"tight\")"
   ]
  },
  {
   "cell_type": "code",
   "execution_count": null,
   "metadata": {},
   "outputs": [],
   "source": [
    "iris[\"dist1\"] = c1.dist(iris[[\"petal_length\", \"petal_width\"]])\n",
    "iris[\"dist2\"] = c2.dist(iris[[\"petal_length\", \"petal_width\"]])\n",
    "iris[\"cluster\"] = iris[[\"dist1\", \"dist2\"]].apply(get_cluster_number, axis = 1)"
   ]
  },
  {
   "cell_type": "code",
   "execution_count": null,
   "metadata": {},
   "outputs": [],
   "source": [
    "plot_centers_and_colorized_data(iris, (c1, c2))\n",
    "#plt.savefig('2means_demo_center_position_3_colorized.png', dpi = 300, bbox_inches = \"tight\")"
   ]
  },
  {
   "cell_type": "code",
   "execution_count": null,
   "metadata": {},
   "outputs": [],
   "source": [
    "average_c1_length = np.mean(iris[iris[\"cluster\"] == 0])[\"petal_length\"]\n",
    "average_c1_width = np.mean(iris[iris[\"cluster\"] == 0])[\"petal_width\"]\n",
    "c1.coordinates = (average_c1_length, average_c1_width)\n",
    "\n",
    "average_c2_length = np.mean(iris[iris[\"cluster\"] == 1])[\"petal_length\"]\n",
    "average_c2_width = np.mean(iris[iris[\"cluster\"] == 1])[\"petal_width\"]\n",
    "c2.coordinates = (average_c2_length, average_c2_width)"
   ]
  },
  {
   "cell_type": "code",
   "execution_count": null,
   "metadata": {},
   "outputs": [],
   "source": [
    "plot_centers_and_black_data(iris, (c1, c2))\n",
    "#plt.savefig('2means_demo_center_position_4.png', dpi = 300, bbox_inches = \"tight\")"
   ]
  },
  {
   "cell_type": "code",
   "execution_count": null,
   "metadata": {},
   "outputs": [],
   "source": [
    "iris[\"dist1\"] = c1.dist(iris[[\"petal_length\", \"petal_width\"]])\n",
    "iris[\"dist2\"] = c2.dist(iris[[\"petal_length\", \"petal_width\"]])\n",
    "iris[\"cluster\"] = iris[[\"dist1\", \"dist2\"]].apply(get_cluster_number, axis = 1)"
   ]
  },
  {
   "cell_type": "code",
   "execution_count": null,
   "metadata": {},
   "outputs": [],
   "source": [
    "plot_centers_and_colorized_data(iris, (c1, c2))\n",
    "#plt.savefig('2means_demo_center_position_4_colorized.png', dpi = 300, bbox_inches = \"tight\")"
   ]
  },
  {
   "cell_type": "code",
   "execution_count": null,
   "metadata": {},
   "outputs": [],
   "source": [
    "average_c1_length = np.mean(iris[iris[\"cluster\"] == 0])[\"petal_length\"]\n",
    "average_c1_width = np.mean(iris[iris[\"cluster\"] == 0])[\"petal_width\"]\n",
    "c1.coordinates = (average_c1_length, average_c1_width)\n",
    "\n",
    "average_c2_length = np.mean(iris[iris[\"cluster\"] == 1])[\"petal_length\"]\n",
    "average_c2_width = np.mean(iris[iris[\"cluster\"] == 1])[\"petal_width\"]\n",
    "c2.coordinates = (average_c2_length, average_c2_width)"
   ]
  },
  {
   "cell_type": "code",
   "execution_count": null,
   "metadata": {},
   "outputs": [],
   "source": [
    "plot_centers_and_black_data(iris, (c1, c2))\n",
    "#plt.savefig('2means_demo_center_position_5.png', dpi = 300, bbox_inches = \"tight\")"
   ]
  },
  {
   "cell_type": "code",
   "execution_count": null,
   "metadata": {},
   "outputs": [],
   "source": [
    "iris[\"dist1\"] = c1.dist(iris[[\"petal_length\", \"petal_width\"]])\n",
    "iris[\"dist2\"] = c2.dist(iris[[\"petal_length\", \"petal_width\"]])\n",
    "iris[\"cluster\"] = iris[[\"dist1\", \"dist2\"]].apply(get_cluster_number, axis = 1)"
   ]
  },
  {
   "cell_type": "code",
   "execution_count": null,
   "metadata": {},
   "outputs": [],
   "source": [
    "plot_centers_and_colorized_data(iris, (c1, c2))\n",
    "# plt.savefig('2means_demo_center_position_5_colorized.png', dpi = 300, bbox_inches = \"tight\")"
   ]
  },
  {
   "cell_type": "code",
   "execution_count": null,
   "metadata": {},
   "outputs": [],
   "source": [
    "average_c1_length = np.mean(iris[iris[\"cluster\"] == 0])[\"petal_length\"]\n",
    "average_c1_width = np.mean(iris[iris[\"cluster\"] == 0])[\"petal_width\"]\n",
    "c1.coordinates = (average_c1_length, average_c1_width)\n",
    "\n",
    "average_c2_length = np.mean(iris[iris[\"cluster\"] == 1])[\"petal_length\"]\n",
    "average_c2_width = np.mean(iris[iris[\"cluster\"] == 1])[\"petal_width\"]\n",
    "c2.coordinates = (average_c2_length, average_c2_width)"
   ]
  },
  {
   "cell_type": "code",
   "execution_count": null,
   "metadata": {},
   "outputs": [],
   "source": [
    "plot_centers_and_black_data(iris, (c1, c2))\n",
    "# plt.savefig('2means_demo_center_position_6.png', dpi = 300, bbox_inches = \"tight\")"
   ]
  },
  {
   "cell_type": "code",
   "execution_count": null,
   "metadata": {},
   "outputs": [],
   "source": [
    "average_c1_length = np.mean(iris[iris[\"cluster\"] == 0])[\"petal_length\"]\n",
    "average_c1_width = np.mean(iris[iris[\"cluster\"] == 0])[\"petal_width\"]\n",
    "c1.coordinates = (average_c1_length, average_c1_width)\n",
    "\n",
    "average_c2_length = np.mean(iris[iris[\"cluster\"] == 1])[\"petal_length\"]\n",
    "average_c2_width = np.mean(iris[iris[\"cluster\"] == 1])[\"petal_width\"]\n",
    "c2.coordinates = (average_c2_length, average_c2_width)"
   ]
  },
  {
   "cell_type": "code",
   "execution_count": null,
   "metadata": {},
   "outputs": [],
   "source": [
    "plot_centers_and_colorized_data(iris, (c1, c2))\n",
    "# plt.savefig('2means_demo_center_position_6_colorized.png', dpi = 300, bbox_inches = \"tight\")"
   ]
  },
  {
   "cell_type": "markdown",
   "metadata": {},
   "source": [
    "### Example for K > 2"
   ]
  },
  {
   "cell_type": "code",
   "execution_count": null,
   "metadata": {},
   "outputs": [],
   "source": [
    "import copy\n",
    "def compute_centers_after_N_iterations(data, column_names, centers, N):\n",
    "    centers = copy.deepcopy(centers)\n",
    "    \n",
    "    for i in range(N):\n",
    "        #recompute clusters        \n",
    "        dist_names = []\n",
    "        for center_num in range(len(centers)):        \n",
    "            data[\"dist\" + str(center_num)] = centers[center_num].dist(data[column_names])\n",
    "            dist_names.append(\"dist\" + str(center_num))\n",
    "        \n",
    "        data[\"cluster\"] = data[dist_names].apply(get_cluster_number, axis = 1)    \n",
    "        \n",
    "        #update centers\n",
    "        for center_num in range(len(centers)):\n",
    "            for col_num in range(len(column_names)):\n",
    "                col_name = column_names[col_num]\n",
    "    \n",
    "                centers[center_num].coordinates[col_num] = np.mean(data[data[\"cluster\"] == center_num])[col_name]\n",
    "\n",
    "    return centers\n"
   ]
  },
  {
   "cell_type": "code",
   "execution_count": null,
   "metadata": {},
   "outputs": [],
   "source": [
    "c1 = Center(iris.loc[:, ['petal_length', 'petal_width']].values)\n",
    "c2 = Center(iris.loc[:, ['petal_length', 'petal_width']].values)\n",
    "c1.coordinates = np.array([2.52364007, 2.31040024])\n",
    "c2.coordinates = np.array([6.53276402, 1.211463])"
   ]
  },
  {
   "cell_type": "code",
   "execution_count": null,
   "metadata": {},
   "outputs": [],
   "source": [
    "iris"
   ]
  },
  {
   "cell_type": "code",
   "execution_count": null,
   "metadata": {},
   "outputs": [],
   "source": [
    "def inertia(data, centers):\n",
    "    total_inertia = 0\n",
    "    for center_num in range(len(centers)):\n",
    "        data_in_this_cluster = data[data[\"cluster\"] == center_num]        \n",
    "        total_inertia += np.sum(centers[center_num].dist(data_in_this_cluster[[\"petal_length\", \"petal_width\"]]))\n",
    "    return total_inertia"
   ]
  },
  {
   "cell_type": "code",
   "execution_count": null,
   "metadata": {},
   "outputs": [],
   "source": [
    "def distortion(data, centers):\n",
    "    total_distortion = 0\n",
    "    for center_num in range(len(centers)):\n",
    "        data_in_this_cluster = data[data[\"cluster\"] == center_num]        \n",
    "        total_distortion += np.sum(centers[center_num].dist(data_in_this_cluster[[\"petal_length\", \"petal_width\"]]))/len(data_in_this_cluster)\n",
    "    return total_distortion"
   ]
  },
  {
   "cell_type": "code",
   "execution_count": null,
   "metadata": {
    "scrolled": true
   },
   "outputs": [],
   "source": [
    "random.seed(25)\n",
    "c1 = Center(iris.loc[:, ['petal_length', 'petal_width']].values)\n",
    "c2 = Center(iris.loc[:, ['petal_length', 'petal_width']].values)\n",
    "c3 = Center(iris.loc[:, ['petal_length', 'petal_width']].values)\n",
    "c4 = Center(iris.loc[:, ['petal_length', 'petal_width']].values)\n",
    "new_centers = compute_centers_after_N_iterations(iris, ['petal_length', 'petal_width'], [c1, c2, c3, c4], 12)\n",
    "print(f\"inertia: {inertia(iris, new_centers)}, distortion: {distortion(iris, new_centers)})\")\n",
    "plot_centers_and_colorized_data(iris, new_centers)\n",
    "# plt.savefig(\"k4_example1.png\", bbox_inches = \"tight\", dpi=300)"
   ]
  },
  {
   "cell_type": "code",
   "execution_count": null,
   "metadata": {},
   "outputs": [],
   "source": [
    "random.seed(29)\n",
    "c1 = Center(iris.loc[:, ['petal_length', 'petal_width']].values)\n",
    "c2 = Center(iris.loc[:, ['petal_length', 'petal_width']].values)\n",
    "c3 = Center(iris.loc[:, ['petal_length', 'petal_width']].values)\n",
    "c4 = Center(iris.loc[:, ['petal_length', 'petal_width']].values)\n",
    "new_centers = compute_centers_after_N_iterations(iris, ['petal_length', 'petal_width'], [c1, c2, c3, c4], 12)\n",
    "print(f\"inertia: {inertia(iris, new_centers)}, distortion: {distortion(iris, new_centers)})\")\n",
    "plot_centers_and_colorized_data(iris, new_centers)\n",
    "# plt.savefig(\"k4_example2.png\", bbox_inches = \"tight\", dpi=300)"
   ]
  },
  {
   "cell_type": "code",
   "execution_count": null,
   "metadata": {},
   "outputs": [],
   "source": [
    "random.seed(40)\n",
    "c1 = Center(iris.loc[:, ['petal_length', 'petal_width']].values)\n",
    "c2 = Center(iris.loc[:, ['petal_length', 'petal_width']].values)\n",
    "c3 = Center(iris.loc[:, ['petal_length', 'petal_width']].values)\n",
    "c4 = Center(iris.loc[:, ['petal_length', 'petal_width']].values)\n",
    "new_centers = compute_centers_after_N_iterations(iris, ['petal_length', 'petal_width'], [c1, c2, c3, c4], 12)\n",
    "print(f\"inertia: {inertia(iris, new_centers)}, distortion: {distortion(iris, new_centers)})\")\n",
    "plot_centers_and_colorized_data(iris, new_centers)\n",
    "# plt.savefig(\"k4_example3.png\", bbox_inches = \"tight\", dpi=300)"
   ]
  },
  {
   "cell_type": "code",
   "execution_count": null,
   "metadata": {
    "scrolled": true
   },
   "outputs": [],
   "source": [
    "random.seed(75)\n",
    "c1 = Center(iris.loc[:, ['petal_length', 'petal_width']].values)\n",
    "c2 = Center(iris.loc[:, ['petal_length', 'petal_width']].values)\n",
    "c3 = Center(iris.loc[:, ['petal_length', 'petal_width']].values)\n",
    "c4 = Center(iris.loc[:, ['petal_length', 'petal_width']].values)\n",
    "new_centers = compute_centers_after_N_iterations(iris, ['petal_length', 'petal_width'], [c1, c2, c3, c4], 12)\n",
    "print(f\"inertia: {inertia(iris, new_centers)}, distortion: {distortion(iris, new_centers)})\")\n",
    "plot_centers_and_colorized_data(iris, new_centers)\n",
    "# plt.savefig(\"k4_example4.png\", bbox_inches = \"tight\", dpi=300)"
   ]
  },
  {
   "cell_type": "code",
   "execution_count": null,
   "metadata": {
    "scrolled": true
   },
   "outputs": [],
   "source": [
    "random.seed(20)\n",
    "np.random.seed(20)\n",
    "iris_small = iris.sample(7)\n",
    "c1 = Center(iris_small.loc[:, ['petal_length', 'petal_width']].values)\n",
    "c2 = Center(iris_small.loc[:, ['petal_length', 'petal_width']].values)\n",
    "new_centers2 = compute_centers_after_N_iterations(iris_small, ['petal_length', 'petal_width'], [c1, c2], 12)\n",
    "plot_centers_and_colorized_data(iris_small, new_centers2)\n",
    "# plt.savefig(\"distortion_computation.png\", dpi = 300, bbox_inches = \"tight\")"
   ]
  },
  {
   "cell_type": "code",
   "execution_count": null,
   "metadata": {},
   "outputs": [],
   "source": [
    "def print_distances_squared(data, centers):\n",
    "    for center_num in range(len(centers)):\n",
    "        data_in_this_cluster = data[data[\"cluster\"] == center_num]        \n",
    "        print(centers[center_num].dist(data_in_this_cluster[[\"petal_length\", \"petal_width\"]])**2)\n",
    "\n",
    "print_distances_squared(iris_small, new_centers2)"
   ]
  },
  {
   "cell_type": "code",
   "execution_count": null,
   "metadata": {},
   "outputs": [],
   "source": [
    "inertia(iris_small, new_centers2)"
   ]
  },
  {
   "cell_type": "code",
   "execution_count": null,
   "metadata": {},
   "outputs": [],
   "source": [
    "distortion(iris_small, new_centers2)"
   ]
  },
  {
   "cell_type": "code",
   "execution_count": null,
   "metadata": {},
   "outputs": [],
   "source": [
    "iris_small"
   ]
  },
  {
   "cell_type": "markdown",
   "metadata": {},
   "source": [
    "### Example of Inertia Failing to Match Intuition"
   ]
  },
  {
   "cell_type": "code",
   "execution_count": null,
   "metadata": {},
   "outputs": [],
   "source": [
    "c1.coordinates = [1.2, 0.15]\n",
    "c2.coordinates = [4.906000000000001, 1.6760000000000006]\n",
    "iris[\"dist1\"] = c1.dist(iris[[\"petal_length\", \"petal_width\"]])\n",
    "iris[\"dist2\"] = c2.dist(iris[[\"petal_length\", \"petal_width\"]])\n",
    "iris[\"cluster\"] = iris[[\"dist1\", \"dist2\"]].apply(get_cluster_number, axis = 1)"
   ]
  },
  {
   "cell_type": "code",
   "execution_count": null,
   "metadata": {},
   "outputs": [],
   "source": [
    "plot_centers_and_colorized_data(iris, (c1, c2))\n",
    "#plt.savefig(\"intuitive_clustering.png\", dpi=300, bbox_inches = \"tight\")"
   ]
  },
  {
   "cell_type": "code",
   "execution_count": null,
   "metadata": {},
   "outputs": [],
   "source": [
    "print(f\"inertia: {inertia(iris, [c1, c2])}, distortion: {distortion(iris, [c1, c2])})\")"
   ]
  },
  {
   "cell_type": "code",
   "execution_count": null,
   "metadata": {},
   "outputs": [],
   "source": [
    "average_c1_length = np.mean(iris[iris[\"cluster\"] == 0])[\"petal_length\"]\n",
    "average_c1_width = np.mean(iris[iris[\"cluster\"] == 0])[\"petal_width\"]\n",
    "c1.coordinates = (average_c1_length, average_c1_width)\n",
    "\n",
    "average_c2_length = np.mean(iris[iris[\"cluster\"] == 1])[\"petal_length\"]\n",
    "average_c2_width = np.mean(iris[iris[\"cluster\"] == 1])[\"petal_width\"]\n",
    "c2.coordinates = (average_c2_length, average_c2_width)"
   ]
  },
  {
   "cell_type": "code",
   "execution_count": null,
   "metadata": {},
   "outputs": [],
   "source": [
    "plot_centers_and_black_data(iris, (c1, c2))"
   ]
  },
  {
   "cell_type": "code",
   "execution_count": null,
   "metadata": {},
   "outputs": [],
   "source": [
    "iris[\"dist1\"] = c1.dist(iris[[\"petal_length\", \"petal_width\"]])\n",
    "iris[\"dist2\"] = c2.dist(iris[[\"petal_length\", \"petal_width\"]])\n",
    "iris[\"cluster\"] = iris[[\"dist1\", \"dist2\"]].apply(get_cluster_number, axis = 1)"
   ]
  },
  {
   "cell_type": "code",
   "execution_count": null,
   "metadata": {},
   "outputs": [],
   "source": [
    "plot_centers_and_colorized_data(iris, (c1, c2))"
   ]
  },
  {
   "cell_type": "code",
   "execution_count": null,
   "metadata": {},
   "outputs": [],
   "source": [
    "print(f\"inertia: {inertia(iris, [c1, c2])}, distortion: {distortion(iris, [c1, c2])})\")"
   ]
  },
  {
   "cell_type": "markdown",
   "metadata": {},
   "source": [
    "### Agglomerative Clustering"
   ]
  },
  {
   "cell_type": "code",
   "execution_count": null,
   "metadata": {},
   "outputs": [],
   "source": [
    "random.seed(42)\n",
    "np.random.seed(42)\n",
    "iris_small = iris.sample(13).loc[:, 'sepal_length':'petal_width'].reset_index(drop=True)\n",
    "iris_small = iris_small.drop(8).reset_index(drop=True)"
   ]
  },
  {
   "cell_type": "code",
   "execution_count": null,
   "metadata": {},
   "outputs": [],
   "source": [
    "sns.scatterplot(data = iris_small, x = \"petal_length\", y= \"petal_width\", color=\"black\");"
   ]
  },
  {
   "cell_type": "code",
   "execution_count": null,
   "metadata": {},
   "outputs": [],
   "source": [
    "iris_small[\"cluster\"] = np.array(range(0, len(iris_small)))"
   ]
  },
  {
   "cell_type": "code",
   "execution_count": null,
   "metadata": {},
   "outputs": [],
   "source": [
    "iris_small"
   ]
  },
  {
   "cell_type": "code",
   "execution_count": null,
   "metadata": {},
   "outputs": [],
   "source": [
    "def plot_clusters(data):\n",
    "    p1 = sns.scatterplot(data = data, x = \"petal_length\", y= \"petal_width\")\n",
    "    for line in range(0,data.shape[0]):\n",
    "         p1.text(data[\"petal_length\"][line]+0.05, data[\"petal_width\"][line] - 0.03,   \n",
    "         data[\"cluster\"][line], horizontalalignment='left', \n",
    "         size='medium', color='black', weight='semibold')\n",
    "            \n",
    "plot_clusters(iris_small)\n",
    "#plt.savefig(\"agglomerative_start.png\", dpi=300, bbox_inches = \"tight\")"
   ]
  },
  {
   "cell_type": "code",
   "execution_count": null,
   "metadata": {},
   "outputs": [],
   "source": [
    "from scipy.spatial import distance\n",
    "\n",
    "def dist_between_clusters(data, cnum1, cnum2):\n",
    "    cluster1 = data[data[\"cluster\"] == cnum1]\n",
    "    cluster2 = data[data[\"cluster\"] == cnum2]    \n",
    "    return distance.cdist(cluster1[[\"petal_length\", \"petal_width\"]], cluster2[[\"petal_length\", \"petal_width\"]]).max()"
   ]
  },
  {
   "cell_type": "code",
   "execution_count": null,
   "metadata": {},
   "outputs": [],
   "source": [
    "def closest_clusters(data):\n",
    "    cluster_values = data[\"cluster\"].unique()\n",
    "    smallest_distance = float(\"inf\")\n",
    "    best_pair = [-1, -1]\n",
    "    for cnum1 in cluster_values:\n",
    "        for cnum2 in cluster_values:\n",
    "            if cnum1 == cnum2:\n",
    "                continue\n",
    "            cur_dist = dist_between_clusters(data, cnum1, cnum2)\n",
    "            if cur_dist < smallest_distance:\n",
    "                best_pair = [cnum1, cnum2]\n",
    "                smallest_distance = cur_dist\n",
    "                \n",
    "    return best_pair"
   ]
  },
  {
   "cell_type": "code",
   "execution_count": null,
   "metadata": {},
   "outputs": [],
   "source": [
    "def merge_clusters(data, cnum1, cnum2):\n",
    "    data.loc[data[\"cluster\"] == cnum2, \"cluster\"] = cnum1"
   ]
  },
  {
   "cell_type": "code",
   "execution_count": null,
   "metadata": {},
   "outputs": [],
   "source": [
    "i = 0\n",
    "while len(iris_small[\"cluster\"].unique()) != 2:\n",
    "    i += 1\n",
    "    cnum1, cnum2 = closest_clusters(iris_small)\n",
    "    merge_clusters(iris_small, cnum1, cnum2)\n",
    "    plot_clusters(iris_small)\n",
    "#     plt.savefig(f\"agglomerative_merge{i}.png\", dpi=300, bbox_inches = \"tight\")"
   ]
  },
  {
   "cell_type": "markdown",
   "metadata": {},
   "source": [
    "## Run on full dataset"
   ]
  },
  {
   "cell_type": "code",
   "execution_count": null,
   "metadata": {},
   "outputs": [],
   "source": [
    "iris_small = iris.copy()\n",
    "iris_small[\"cluster\"] = np.array(range(0, len(iris_small)))\n",
    "plot_clusters(iris_small)"
   ]
  },
  {
   "cell_type": "code",
   "execution_count": null,
   "metadata": {},
   "outputs": [],
   "source": [
    "#my code is too slow\n",
    "#i = 0\n",
    "#while len(iris_small[\"cluster\"].unique()) != 2:\n",
    "#    i += 1\n",
    "#    print(i)\n",
    "#    cnum1, cnum2 = closest_clusters(iris_small)\n",
    "#    merge_clusters(iris_small, cnum1, cnum2)\n",
    "    #plot_clusters(iris_small)\n",
    "    #plt.savefig(f\"agglomerative_merge{i}.png\", dpi=300, bbox_inches = \"tight\")\n",
    "    #plt.clf()"
   ]
  },
  {
   "cell_type": "code",
   "execution_count": null,
   "metadata": {},
   "outputs": [],
   "source": [
    "from sklearn.cluster import AgglomerativeClustering\n",
    "clustering = AgglomerativeClustering().fit(iris[[\"petal_length\", \"petal_width\"]])"
   ]
  },
  {
   "cell_type": "code",
   "execution_count": null,
   "metadata": {},
   "outputs": [],
   "source": [
    "clustering.labels_"
   ]
  },
  {
   "cell_type": "code",
   "execution_count": null,
   "metadata": {},
   "outputs": [],
   "source": [
    "iris[\"cluster\"] = clustering.labels_"
   ]
  },
  {
   "cell_type": "code",
   "execution_count": null,
   "metadata": {},
   "outputs": [],
   "source": [
    "sns.scatterplot(data = iris, x = \"petal_length\", y= \"petal_width\", hue =\"cluster\", legend = None);\n",
    "#plt.savefig(\"agglomerative_output.png\", dpi = 300, bbox_inches = \"tight\")"
   ]
  },
  {
   "cell_type": "code",
   "execution_count": null,
   "metadata": {},
   "outputs": [],
   "source": [
    "plot_clusters(iris)\n",
    "# plt.savefig(\"agglomerative_output_numbers.png\", dpi = 300, bbox_inches = \"tight\")"
   ]
  },
  {
   "cell_type": "code",
   "execution_count": null,
   "metadata": {},
   "outputs": [],
   "source": [
    "#from https://github.com/scikit-learn/scikit-learn/blob/70cf4a676caa2d2dad2e3f6e4478d64bcb0506f7/examples/cluster/plot_hierarchical_clustering_dendrogram.py\n",
    "from scipy.cluster.hierarchy import dendrogram\n",
    "\n",
    "def plot_dendrogram(model, **kwargs):\n",
    "    # Children of hierarchical clustering\n",
    "    children = model.children_\n",
    "\n",
    "    # Distances between each pair of children\n",
    "    # Since we don't have this information, we can use a uniform one for plotting\n",
    "    distance = np.arange(children.shape[0])\n",
    "\n",
    "    # The number of observations contained in each cluster level\n",
    "    no_of_observations = np.arange(2, children.shape[0]+2)\n",
    "\n",
    "    # Create linkage matrix and then plot the dendrogram\n",
    "    linkage_matrix = np.column_stack([children, distance, no_of_observations]).astype(float)\n",
    "\n",
    "    # Plot the corresponding dendrogram\n",
    "    dendrogram(linkage_matrix, **kwargs)\n",
    "\n",
    "\n",
    "\n",
    "plt.title('Hierarchical Clustering Dendrogram')\n",
    "plot_dendrogram(clustering, labels=clustering.labels_)\n",
    "# plt.savefig(\"dendrogram.png\", bbox_inches = \"tight\", dpi = 300)"
   ]
  },
  {
   "cell_type": "markdown",
   "metadata": {},
   "source": [
    "### Elbow Method"
   ]
  },
  {
   "cell_type": "code",
   "execution_count": null,
   "metadata": {},
   "outputs": [],
   "source": [
    "from sklearn.cluster import KMeans \n",
    "distortions = [] \n",
    "inertias = [] \n",
    "mapping1 = {} \n",
    "mapping2 = {} \n",
    "K = range(1,10) \n",
    "X = iris[[\"petal_length\", \"petal_width\"]]\n",
    "    \n",
    "for k in K: \n",
    "    #Building and fitting the model \n",
    "    kmeanModel = KMeans(n_clusters=k).fit(X)     \n",
    "      \n",
    "    distortions.append(sum(np.min(distance.cdist(X, kmeanModel.cluster_centers_, \n",
    "                      'euclidean'),axis=1)) / X.shape[0]) \n",
    "    inertias.append(kmeanModel.inertia_) \n",
    "  \n",
    "    mapping1[k] = sum(np.min(distance.cdist(X, kmeanModel.cluster_centers_, \n",
    "                 'euclidean'),axis=1)) / X.shape[0] \n",
    "    mapping2[k] = kmeanModel.inertia_ "
   ]
  },
  {
   "cell_type": "code",
   "execution_count": null,
   "metadata": {},
   "outputs": [],
   "source": [
    "plt.plot(K, inertias, 'bx-') \n",
    "plt.xlabel('Values of K') \n",
    "plt.ylabel('Inertia') \n",
    "plt.title('The Elbow Method using Inertia') ;\n",
    "#plt.savefig(\"elbow.png\", dpi=300, bbox_inches = \"tight\")"
   ]
  },
  {
   "cell_type": "markdown",
   "metadata": {},
   "source": [
    "### Silhouette Scores"
   ]
  },
  {
   "cell_type": "code",
   "execution_count": null,
   "metadata": {},
   "outputs": [],
   "source": [
    "X.query(\"petal_length < 3.2 and petal_length > 2\")"
   ]
  },
  {
   "cell_type": "code",
   "execution_count": null,
   "metadata": {},
   "outputs": [],
   "source": [
    "from sklearn.metrics import silhouette_samples, silhouette_score\n",
    "import matplotlib.cm as cm\n",
    "\n",
    "fig, ax1 = plt.subplots(1, 1)\n",
    "#fig.set_size_inches(18, 7)\n",
    "\n",
    "n_clusters = 2\n",
    "\n",
    "# The 1st subplot is the silhouette plot\n",
    "# The silhouette coefficient can range from -1, 1 but in this example all\n",
    "# lie within [-0.1, 1]\n",
    "ax1.set_xlim([-0.1, 1])\n",
    "# The (n_clusters+1)*10 is for inserting blank space between silhouette\n",
    "# plots of individual clusters, to demarcate them clearly.\n",
    "ax1.set_ylim([0, len(X) + (n_clusters + 1) * 10])\n",
    "\n",
    "cluster_labels = clustering.fit_predict(X)\n",
    "\n",
    "\n",
    "# The silhouette_score gives the average value for all the samples.\n",
    "# This gives a perspective into the density and separation of the formed\n",
    "# clusters\n",
    "silhouette_avg = silhouette_score(X, cluster_labels)\n",
    "print(\"For n_clusters =\", n_clusters,\n",
    "      \"The average silhouette_score is :\", silhouette_avg)\n",
    "\n",
    "# Compute the silhouette scores for each sample\n",
    "sample_silhouette_values = silhouette_samples(X, cluster_labels)\n",
    "\n",
    "y_lower = 10\n",
    "for i in range(n_clusters):\n",
    "    # Aggregate the silhouette scores for samples belonging to\n",
    "    # cluster i, and sort them\n",
    "    ith_cluster_silhouette_values = \\\n",
    "        sample_silhouette_values[cluster_labels == i]\n",
    "\n",
    "    ith_cluster_silhouette_values.sort()\n",
    "\n",
    "    size_cluster_i = ith_cluster_silhouette_values.shape[0]\n",
    "    y_upper = y_lower + size_cluster_i\n",
    "\n",
    "    color = cm.nipy_spectral(float(i) / n_clusters)\n",
    "    ax1.fill_betweenx(np.arange(y_lower, y_upper),\n",
    "                      0, ith_cluster_silhouette_values,\n",
    "                      facecolor=color, edgecolor=color, alpha=0.7)\n",
    "\n",
    "    # Label the silhouette plots with their cluster numbers at the middle\n",
    "    ax1.text(-0.05, y_lower + 0.5 * size_cluster_i, str(i))\n",
    "\n",
    "    # Compute the new y_lower for next plot\n",
    "    y_lower = y_upper + 10  # 10 for the 0 samples\n",
    "\n",
    "ax1.set_title(\"The silhouette plot for the various clusters.\")\n",
    "ax1.set_xlabel(\"The silhouette coefficient values\")\n",
    "ax1.set_ylabel(\"Cluster label\")\n",
    "\n",
    "# The vertical line for average silhouette score of all the values\n",
    "ax1.axvline(x=silhouette_avg, color=\"red\", linestyle=\"--\");\n",
    "# plt.savefig(\"silhoutte_plot.png\", dpi=300, bbox_inches = \"tight\")"
   ]
  },
  {
   "cell_type": "code",
   "execution_count": null,
   "metadata": {},
   "outputs": [],
   "source": [
    "from sklearn.cluster import AgglomerativeClustering\n",
    "clustering = AgglomerativeClustering(n_clusters = 3).fit(iris[[\"petal_length\", \"petal_width\"]])\n",
    "\n",
    "\n",
    "fig, ax1 = plt.subplots(1, 1)\n",
    "#fig.set_size_inches(18, 7)\n",
    "\n",
    "n_clusters = 3\n",
    "\n",
    "# The 1st subplot is the silhouette plot\n",
    "# The silhouette coefficient can range from -1, 1 but in this example all\n",
    "# lie within [-0.1, 1]\n",
    "ax1.set_xlim([-0.1, 1])\n",
    "# The (n_clusters+1)*10 is for inserting blank space between silhouette\n",
    "# plots of individual clusters, to demarcate them clearly.\n",
    "ax1.set_ylim([0, len(X) + (n_clusters + 1) * 10])\n",
    "\n",
    "cluster_labels = clustering.fit_predict(X)\n",
    "\n",
    "# The silhouette_score gives the average value for all the samples.\n",
    "# This gives a perspective into the density and separation of the formed\n",
    "# clusters\n",
    "silhouette_avg = silhouette_score(X, cluster_labels)\n",
    "print(\"For n_clusters =\", n_clusters,\n",
    "      \"The average silhouette_score is :\", silhouette_avg)\n",
    "\n",
    "# Compute the silhouette scores for each sample\n",
    "sample_silhouette_values = silhouette_samples(X, cluster_labels)\n",
    "\n",
    "y_lower = 10\n",
    "for i in range(n_clusters):\n",
    "    # Aggregate the silhouette scores for samples belonging to\n",
    "    # cluster i, and sort them\n",
    "    ith_cluster_silhouette_values = \\\n",
    "        sample_silhouette_values[cluster_labels == i]\n",
    "\n",
    "    ith_cluster_silhouette_values.sort()\n",
    "\n",
    "    size_cluster_i = ith_cluster_silhouette_values.shape[0]\n",
    "    y_upper = y_lower + size_cluster_i\n",
    "\n",
    "    color = cm.nipy_spectral(float(i) / n_clusters)\n",
    "    ax1.fill_betweenx(np.arange(y_lower, y_upper),\n",
    "                      0, ith_cluster_silhouette_values,\n",
    "                      facecolor=color, edgecolor=color, alpha=0.7)\n",
    "\n",
    "    # Label the silhouette plots with their cluster numbers at the middle\n",
    "    ax1.text(-0.05, y_lower + 0.5 * size_cluster_i, str(i))\n",
    "\n",
    "    # Compute the new y_lower for next plot\n",
    "    y_lower = y_upper + 10  # 10 for the 0 samples\n",
    "\n",
    "ax1.set_title(\"The silhouette plot for the various clusters.\")\n",
    "ax1.set_xlabel(\"The silhouette coefficient values\")\n",
    "ax1.set_ylabel(\"Cluster label\")\n",
    "\n",
    "# The vertical line for average silhouette score of all the values\n",
    "ax1.axvline(x=silhouette_avg, color=\"red\", linestyle=\"--\");\n",
    "# plt.savefig(\"silhoutte_plot_k3.png\", dpi=300, bbox_inches = \"tight\")"
   ]
  },
  {
   "cell_type": "code",
   "execution_count": null,
   "metadata": {
    "scrolled": false
   },
   "outputs": [],
   "source": [
    "min(sample_silhouette_values)"
   ]
  },
  {
   "cell_type": "code",
   "execution_count": null,
   "metadata": {},
   "outputs": [],
   "source": [
    "iris[\"cluster\"] = cluster_labels\n",
    "current_palette = sns.color_palette()[0:3]\n",
    "sns.scatterplot(data = iris, x = \"petal_length\", y= \"petal_width\", hue=\"cluster\", palette = current_palette);\n",
    "# plt.savefig(\"iris_3_class_agglomerative.png\", dpi = 300, bbox_inches = \"tight\")"
   ]
  }
 ],
 "metadata": {
  "kernelspec": {
   "display_name": "Python 3",
   "language": "python",
   "name": "python3"
  },
  "language_info": {
   "codemirror_mode": {
    "name": "ipython",
    "version": 3
   },
   "file_extension": ".py",
   "mimetype": "text/x-python",
   "name": "python",
   "nbconvert_exporter": "python",
   "pygments_lexer": "ipython3",
   "version": "3.7.4"
  }
 },
 "nbformat": 4,
 "nbformat_minor": 2
}
