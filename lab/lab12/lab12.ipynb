{
 "cells": [
  {
   "cell_type": "code",
   "execution_count": null,
   "metadata": {
    "deletable": false,
    "editable": false
   },
   "outputs": [],
   "source": [
    "# Initialize Otter\n",
    "import otter\n",
    "grader = otter.Notebook()"
   ]
  },
  {
   "cell_type": "markdown",
   "metadata": {
    "nbgrader": {
     "grade": false,
     "grade_id": "intro",
     "locked": true,
     "schema_version": 2,
     "solution": false
    }
   },
   "source": [
    "# Lab 12: Principal Component Analysis\n",
    "\n",
    "In this lab assignment, we will walk through an example of using Principal Component Analysis (PCA) on a dataset involving [iris plants](https://en.wikipedia.org/wiki/Iris_(plant)).\n",
    "\n",
    "\n",
    "### Due Date\n",
    "\n",
    "This assignment is due at Monday, November 23rd at 11:59 pm PST.\n",
    "\n",
    "### Collaboration Policy\n",
    "\n",
    "Data science is a collaborative activity. While you may talk with others about this assignment, we ask that you **write your solutions individually**. If you discuss the assignment with others, please **include their names** in the cell below."
   ]
  },
  {
   "cell_type": "markdown",
   "metadata": {},
   "source": [
    "**Collaborators:** *list names here*"
   ]
  },
  {
   "cell_type": "code",
   "execution_count": 1,
   "metadata": {
    "nbgrader": {
     "grade": false,
     "grade_id": "imports",
     "locked": true,
     "schema_version": 2,
     "solution": false
    }
   },
   "outputs": [],
   "source": [
    "from sklearn.datasets import load_iris\n",
    "import pandas as pd\n",
    "import numpy as np\n",
    "import seaborn as sns\n",
    "import matplotlib.pyplot as plt\n",
    "%matplotlib inline"
   ]
  },
  {
   "cell_type": "markdown",
   "metadata": {},
   "source": [
    "To begin, run the following cell to load the dataset into this notebook. \n",
    "* `iris_features` will contain a numpy array of 4 attributes for 150 different plants (shape `150 x 4`). \n",
    "* `iris_target` will contain the class of each plant. There are 3 classes of plants in the dataset: Iris-Setosa, Iris-Versicolour, and Iris-Virginica. The class names will be stored in `iris_target_names`.\n",
    "* `iris_feature_names` will be a list of 4 names, one for each attribute in `iris_features`. "
   ]
  },
  {
   "cell_type": "code",
   "execution_count": 6,
   "metadata": {},
   "outputs": [],
   "source": [
    "from sklearn.datasets import load_iris\n",
    "iris_data = load_iris() # Loading the dataset\n",
    "\n",
    "# Unpacking the data into arrays\n",
    "iris_features = iris_data['data']\n",
    "iris_target = iris_data['target']\n",
    "iris_feature_names = iris_data['feature_names']\n",
    "iris_target_names = iris_data['target_names']\n",
    "\n",
    "# Convert iris_target to string labels instead of int labels currently (0, 1, 2) for the classes\n",
    "iris_target = iris_target_names[iris_target]"
   ]
  },
  {
   "cell_type": "markdown",
   "metadata": {
    "deletable": false,
    "editable": false
   },
   "source": [
    "## Question 1\n",
    "\n",
    "Let's explore the data by creating a scatter matrix of our iris features. To do this, we'll create 2D scatter plots for every possible pair of our four features. This should result in six total scatter plots in our scatter matrix with the classes labeled in each.\n",
    "\n",
    "Complete the code below using `sns.scatterplot` to create the scatter matrix.\n",
    "\n",
    "**Hint:** Use the `hue` argument of `sns.scatterplot` to color the points by class. A legend should then appear in each scatter plot automatically.\n",
    "\n",
    "<!--\n",
    "BEGIN QUESTION\n",
    "name: q1\n",
    "-->"
   ]
  },
  {
   "cell_type": "code",
   "execution_count": 8,
   "metadata": {},
   "outputs": [],
   "source": [
    "plt.figure(figsize=(14, 10))\n",
    "plt.suptitle(\"Scatter Matrix of Iris Features\")\n",
    "plt.subplots_adjust(wspace=0.3, hspace=0.3)\n",
    "for i in range(1, 4):\n",
    "    for j in range(i):\n",
    "        plt.subplot(3, 3, i+3*j)\n",
    "        ...\n",
    "        plt.xlabel(iris_feature_names[i])\n",
    "        plt.ylabel(iris_feature_names[j])"
   ]
  },
  {
   "cell_type": "markdown",
   "metadata": {
    "deletable": false,
    "editable": false
   },
   "source": [
    "## Question 2a\n",
    "\n",
    "To apply PCA, we will first need to \"center\" the data so that the mean of each feature is 0. \n",
    "\n",
    "Compute the columnwise mean of `iris_features` in the cell below and store it in `iris_mean` (should be a numpy array of 4 means, 1 for each attribute). Then, subtract `iris_mean` from `iris_features`, and save the result in `features`.\n",
    "\n",
    "**Hints:** \n",
    "* Use `np.mean` or `np.average` to compute `iris_mean`, and pay attention to the `axis` argument.\n",
    "* If you are confused about how numpy deals with arithmetic operations between arrays of different shapes, see this note about [broadcasting](https://docs.scipy.org/doc/numpy/user/basics.broadcasting.html) for explanations/examples.\n",
    "\n",
    "<!--\n",
    "BEGIN QUESTION\n",
    "name: q2a\n",
    "-->"
   ]
  },
  {
   "cell_type": "code",
   "execution_count": 14,
   "metadata": {},
   "outputs": [],
   "source": [
    "iris_mean = ...\n",
    "features = ...\n",
    "iris_mean"
   ]
  },
  {
   "cell_type": "code",
   "execution_count": null,
   "metadata": {
    "deletable": false,
    "editable": false
   },
   "outputs": [],
   "source": [
    "grader.check(\"q2a\")"
   ]
  },
  {
   "cell_type": "markdown",
   "metadata": {
    "deletable": false,
    "editable": false
   },
   "source": [
    "## Question 2b\n",
    "\n",
    "As you may recall from lecture, PCA is a specific application of the singular value decomposition (SVD) for matrices. In the following cell, let's use the [`np.linalg.svd`](https://docs.scipy.org/doc/numpy/reference/generated/numpy.linalg.svd.html) function to compute the SVD of our `features`. Store the left singular vectors, singular values, and right singular vectors in `u`, `s`, and `vt`, respectively. Set the `full_matrices` argument of `np.linalg.svd` to `False`.\n",
    "\n",
    "<!--\n",
    "BEGIN QUESTION\n",
    "name: q2b\n",
    "-->"
   ]
  },
  {
   "cell_type": "code",
   "execution_count": 19,
   "metadata": {},
   "outputs": [],
   "source": [
    "...\n",
    "u.shape, s, vt.shape"
   ]
  },
  {
   "cell_type": "code",
   "execution_count": null,
   "metadata": {
    "deletable": false,
    "editable": false
   },
   "outputs": [],
   "source": [
    "grader.check(\"q2b\")"
   ]
  },
  {
   "cell_type": "markdown",
   "metadata": {
    "deletable": false,
    "editable": false
   },
   "source": [
    "## Question 2c\n",
    "\n",
    "What can we learn from the singular values in `s`? First, we can compute the total variance of the data by summing the squared singular values. We will later be able to use this value to determine the variance captured by a subset of our principal components.\n",
    "\n",
    "Compute the total variance below by summing the squares of each singular value in `s` and store the result in the variable `total_variance`.\n",
    "\n",
    "<!--\n",
    "BEGIN QUESTION\n",
    "name: q2c\n",
    "-->"
   ]
  },
  {
   "cell_type": "code",
   "execution_count": 25,
   "metadata": {
    "scrolled": true
   },
   "outputs": [],
   "source": [
    "total_variance = ...\n",
    "print(\"total_variance: {:.3f} should approximately equal the sum of the feature variances: {:.3f}\"\n",
    "      .format(total_variance, np.sum(np.var(iris_features, axis=0))))"
   ]
  },
  {
   "cell_type": "code",
   "execution_count": null,
   "metadata": {
    "deletable": false,
    "editable": false
   },
   "outputs": [],
   "source": [
    "grader.check(\"q2c\")"
   ]
  },
  {
   "cell_type": "markdown",
   "metadata": {},
   "source": [
    "As you can see, `total_variance` is equal to the sum of the feature variances."
   ]
  },
  {
   "cell_type": "markdown",
   "metadata": {
    "deletable": false,
    "editable": false
   },
   "source": [
    "## Question 3a\n",
    "\n",
    "Let's now use only the first two principal components to see what a 2D version of our iris data looks like.\n",
    "\n",
    "First, construct the 2D version of the iris data by multiplying our `features` array with the first two right singular vectors in `v`. Because the first two right singular vectors are directions for the first two principal components, this will project the iris data down from a 4D subspace to a 2D subspace.\n",
    "\n",
    "**Hints:**\n",
    "* To matrix-multiply two numpy arrays, use `@` or `np.dot`.\n",
    "* Note that the output of `np.linalg.svd` is `vt` and not `v`: the first two right singular vectors in `v` will be the first two columns of `v`, or the first two rows of `vt` (transposed to be column vectors instead of row vectors). \n",
    "* Since we want to obtain a 2D version of our iris dataset, the shape of `iris_2d` should be (150, 2).\n",
    "\n",
    "<!--\n",
    "BEGIN QUESTION\n",
    "name: q3a\n",
    "-->"
   ]
  },
  {
   "cell_type": "code",
   "execution_count": 29,
   "metadata": {},
   "outputs": [],
   "source": [
    "iris_2d = ...\n",
    "np.sum(iris_2d[0])"
   ]
  },
  {
   "cell_type": "code",
   "execution_count": null,
   "metadata": {
    "deletable": false,
    "editable": false
   },
   "outputs": [],
   "source": [
    "grader.check(\"q3a\")"
   ]
  },
  {
   "cell_type": "markdown",
   "metadata": {},
   "source": [
    "Now, run the cell below to create the scatter plot of our 2D version of the iris data, `iris_2d`."
   ]
  },
  {
   "cell_type": "code",
   "execution_count": 34,
   "metadata": {},
   "outputs": [],
   "source": [
    "plt.figure(figsize=(9, 6))\n",
    "plt.title(\"PC2 vs. PC1 for Iris Data\", fontsize=18)\n",
    "plt.xlabel(\"Iris PC1\", fontsize=15)\n",
    "plt.ylabel(\"Iris PC2\", fontsize=15)\n",
    "sns.scatterplot(x=iris_2d[:, 0], y=iris_2d[:, 1], hue=iris_target);"
   ]
  },
  {
   "cell_type": "markdown",
   "metadata": {
    "deletable": false,
    "editable": false
   },
   "source": [
    "## Question 3b\n",
    "\n",
    "What do you observe about the plot above? If you were given a point in the subspace defined by PC1 and PC2, how well would you be able to classify the point as one of the three iris types?\n",
    "\n",
    "<!--\n",
    "BEGIN QUESTION\n",
    "name: q3b\n",
    "-->"
   ]
  },
  {
   "cell_type": "markdown",
   "metadata": {},
   "source": [
    "_Type your answer here, replacing this text._"
   ]
  },
  {
   "cell_type": "markdown",
   "metadata": {
    "deletable": false,
    "editable": false
   },
   "source": [
    "## Question 3c\n",
    "\n",
    "What proportion of the total variance is accounted for when we project the iris data down to two dimensions? Compute this quantity in the cell below by dividing the sum of the first two squared singular values (also known as component scores) in `s` by the `total_variance` you calculated previously. Store the result in `two_dim_variance`.\n",
    "\n",
    "<!--\n",
    "BEGIN QUESTION\n",
    "name: q3c\n",
    "-->"
   ]
  },
  {
   "cell_type": "code",
   "execution_count": 36,
   "metadata": {},
   "outputs": [],
   "source": [
    "two_dim_variance = ...\n",
    "two_dim_variance"
   ]
  },
  {
   "cell_type": "code",
   "execution_count": null,
   "metadata": {
    "deletable": false,
    "editable": false
   },
   "outputs": [],
   "source": [
    "grader.check(\"q3c\")"
   ]
  },
  {
   "cell_type": "markdown",
   "metadata": {},
   "source": [
    "Most of the variance in the data is explained by the two-dimensional projection!"
   ]
  },
  {
   "cell_type": "markdown",
   "metadata": {
    "deletable": false,
    "editable": false
   },
   "source": [
    "## Question 4\n",
    "\n",
    "As a last step, we will create a [scree plot](https://en.wikipedia.org/wiki/Scree_plot) to visualize the weight of each principal component. In the cell below, create a scree plot by creating a line plot of the squares of the singular values in `s` vs. the principal component number (1st, 2nd, 3rd, or 4th). Your graph should match the image below:\n",
    "\n",
    "<img src=\"scree.png\" width=\"400px\" />\n",
    "\n",
    "<!--\n",
    "BEGIN QUESTION\n",
    "name: q4\n",
    "-->"
   ]
  },
  {
   "cell_type": "code",
   "execution_count": 39,
   "metadata": {},
   "outputs": [],
   "source": [
    "..."
   ]
  },
  {
   "cell_type": "markdown",
   "metadata": {
    "deletable": false,
    "editable": false
   },
   "source": [
    "---\n",
    "\n",
    "To double-check your work, the cell below will rerun all of the autograder tests."
   ]
  },
  {
   "cell_type": "code",
   "execution_count": null,
   "metadata": {
    "deletable": false,
    "editable": false
   },
   "outputs": [],
   "source": [
    "grader.check_all()"
   ]
  },
  {
   "cell_type": "markdown",
   "metadata": {
    "deletable": false,
    "editable": false
   },
   "source": [
    "## Submission\n",
    "\n",
    "Make sure you have run all cells in your notebook in order before running the cell below, so that all images/graphs appear in the output. The cell below will generate a zip file for you to submit. **Please save before exporting!**"
   ]
  },
  {
   "cell_type": "code",
   "execution_count": null,
   "metadata": {
    "deletable": false,
    "editable": false
   },
   "outputs": [],
   "source": [
    "# Save your notebook first, then run this cell to export your submission.\n",
    "grader.export(\"lab12.ipynb\", pdf=False)"
   ]
  },
  {
   "cell_type": "markdown",
   "metadata": {},
   "source": [
    " "
   ]
  }
 ],
 "metadata": {
  "celltoolbar": "Create Assignment",
  "history": [
   {
    "code": "from sklearn.datasets import load_iris\nimport pandas as pd\nimport numpy as np\nimport seaborn as sns\nimport matplotlib.pyplot as plt\n%matplotlib inline",
    "id": "7d3da591e4c94a2b8807d72d980732bf",
    "idx": 3,
    "time": "2020-11-17T07:50:22.113Z",
    "type": "execution"
   },
   {
    "id": "7d3da591e4c94a2b8807d72d980732bf",
    "time": "2020-11-17T07:50:29.797Z",
    "type": "completion"
   },
   {
    "code": "from sklearn.datasets import load_iris\niris_data = load_iris() # Loading the dataset\n\n# Unpacking the data into arrays\niris_features = iris_data['data']\niris_target = iris_data['target']\niris_feature_names = iris_data['feature_names']\niris_target_names = iris_data['target_names']\n\n# Convert iris_target to string labels instead of int labels currently (0, 1, 2) for the classes\niris_target = iris_target_names[iris_target]",
    "id": "ab55a4cf207c48de8b186cb23a020a69",
    "idx": 5,
    "time": "2020-11-17T07:51:00.528Z",
    "type": "execution"
   },
   {
    "id": "ab55a4cf207c48de8b186cb23a020a69",
    "time": "2020-11-17T07:51:00.595Z",
    "type": "completion"
   },
   {
    "code": "iris_target_names",
    "id": "9c923a12c41243939cbf97cbc2a228b7",
    "idx": 6,
    "time": "2020-11-17T07:51:06.730Z",
    "type": "execution"
   },
   {
    "id": "9c923a12c41243939cbf97cbc2a228b7",
    "time": "2020-11-17T07:51:06.814Z",
    "type": "completion"
   },
   {
    "code": "from sklearn.datasets import load_iris\niris_data = load_iris() # Loading the dataset\n\n# Unpacking the data into arrays\niris_features = iris_data['data']\niris_target = iris_data['target']\niris_feature_names = iris_data['feature_names']\niris_target_names = iris_data['target_names']\n\n# Convert iris_target to string labels instead of int labels currently (0, 1, 2) for the classes\niris_target = iris_target_names[iris_target]",
    "id": "ab55a4cf207c48de8b186cb23a020a69",
    "idx": 5,
    "time": "2020-11-17T07:51:18.528Z",
    "type": "execution"
   },
   {
    "id": "ab55a4cf207c48de8b186cb23a020a69",
    "time": "2020-11-17T07:51:18.599Z",
    "type": "completion"
   },
   {
    "code": "from sklearn.datasets import load_iris\niris_data = load_iris() # Loading the dataset\n\n# Unpacking the data into arrays\niris_features = iris_data['data']\niris_target = iris_data['target']\niris_feature_names = iris_data['feature_names']\niris_target_names = iris_data['target_names']\n\n# Convert iris_target to string labels instead of int labels currently (0, 1, 2) for the classes\niris_target = iris_target_names[iris_target]\n\nprint(iris_data)",
    "id": "ab55a4cf207c48de8b186cb23a020a69",
    "idx": 5,
    "time": "2020-11-17T07:51:46.047Z",
    "type": "execution"
   },
   {
    "id": "ab55a4cf207c48de8b186cb23a020a69",
    "time": "2020-11-17T07:51:46.237Z",
    "type": "completion"
   },
   {
    "code": "from sklearn.datasets import load_iris\niris_data = load_iris() # Loading the dataset\n\n# Unpacking the data into arrays\niris_features = iris_data['data']\niris_target = iris_data['target']\niris_feature_names = iris_data['feature_names']\niris_target_names = iris_data['target_names']\n\n# Convert iris_target to string labels instead of int labels currently (0, 1, 2) for the classes\niris_target = iris_target_names[iris_target]",
    "id": "ab55a4cf207c48de8b186cb23a020a69",
    "idx": 5,
    "time": "2020-11-17T07:51:53.299Z",
    "type": "execution"
   },
   {
    "id": "ab55a4cf207c48de8b186cb23a020a69",
    "time": "2020-11-17T07:51:53.369Z",
    "type": "completion"
   },
   {
    "code": "plt.figure(figsize=(14, 10))\nplt.suptitle(\"Scatter Matrix of Iris Features\")\nplt.subplots_adjust(wspace=0.3, hspace=0.3)\nfor i in range(1, 4):\n    for j in range(i):\n        plt.subplot(3, 3, i+3*j)\n        sns.scatterplot(iris_features[:, i], iris_features[:, j], hue=iris_target) # SOLUTION\n        plt.xlabel(iris_feature_names[i])\n        plt.ylabel(iris_feature_names[j])",
    "id": "877fa6631d574d558090ab355df08d77",
    "idx": 7,
    "time": "2020-11-17T07:53:53.152Z",
    "type": "execution"
   },
   {
    "id": "877fa6631d574d558090ab355df08d77",
    "time": "2020-11-17T07:53:54.979Z",
    "type": "completion"
   },
   {
    "code": "plt.figure(figsize=(14, 10))\nplt.suptitle(\"Scatter Matrix of Iris Features\")\nplt.subplots_adjust(wspace=0.3, hspace=0.3)\nfor i in range(1, 4):\n    for j in range(i):\n        plt.subplot(3, 3, i+3*j)\n        sns.scatterplot(x=iris_features[:, i], y=iris_features[:, j], hue=iris_target) # SOLUTION\n        plt.xlabel(iris_feature_names[i])\n        plt.ylabel(iris_feature_names[j])",
    "id": "877fa6631d574d558090ab355df08d77",
    "idx": 7,
    "time": "2020-11-17T07:54:23.095Z",
    "type": "execution"
   },
   {
    "id": "877fa6631d574d558090ab355df08d77",
    "time": "2020-11-17T07:54:24.648Z",
    "type": "completion"
   },
   {
    "code": "iris_mean = np.mean(iris_features, axis=0) # SOLUTION\nfeatures = (iris_features - iris_mean) # SOLUTION\niris_mean",
    "id": "a8b183f781f946adb88a2c419a05543f",
    "idx": 9,
    "time": "2020-11-17T07:55:30.288Z",
    "type": "execution"
   },
   {
    "id": "a8b183f781f946adb88a2c419a05543f",
    "time": "2020-11-17T07:55:30.354Z",
    "type": "completion"
   },
   {
    "code": "features",
    "id": "e6b2dca77fab40948240398dbc7982da",
    "idx": 10,
    "time": "2020-11-17T07:55:33.580Z",
    "type": "execution"
   },
   {
    "id": "e6b2dca77fab40948240398dbc7982da",
    "time": "2020-11-17T07:55:33.717Z",
    "type": "completion"
   },
   {
    "code": "iris_features",
    "id": "86e4bc4b724542cc8934635141348936",
    "idx": 10,
    "time": "2020-11-17T07:55:55.212Z",
    "type": "execution"
   },
   {
    "id": "86e4bc4b724542cc8934635141348936",
    "time": "2020-11-17T07:56:00.711Z",
    "type": "completion"
   },
   {
    "code": "iris_features.shape",
    "id": "86e4bc4b724542cc8934635141348936",
    "idx": 10,
    "time": "2020-11-17T07:56:06.443Z",
    "type": "execution"
   },
   {
    "id": "86e4bc4b724542cc8934635141348936",
    "time": "2020-11-17T07:56:12.983Z",
    "type": "completion"
   },
   {
    "code": "iris_features",
    "id": "5f652a54010042ac9e7bf36cd934d0a7",
    "idx": 10,
    "time": "2020-11-17T07:56:25.728Z",
    "type": "execution"
   },
   {
    "id": "5f652a54010042ac9e7bf36cd934d0a7",
    "time": "2020-11-17T07:56:30.080Z",
    "type": "completion"
   },
   {
    "code": "iris_mean = np.mean(iris_features, axis=0) # SOLUTION\nfeatures = (iris_features - iris_mean) # SOLUTION\niris_mean",
    "id": "a8b183f781f946adb88a2c419a05543f",
    "idx": 9,
    "time": "2020-11-17T07:56:57.497Z",
    "type": "execution"
   },
   {
    "id": "a8b183f781f946adb88a2c419a05543f",
    "time": "2020-11-17T07:56:57.569Z",
    "type": "completion"
   },
   {
    "code": "# TEST\niris_mean.size == 4",
    "id": "d545a9c37166494fb4c23bf4139098e8",
    "idx": 10,
    "time": "2020-11-17T07:56:58.234Z",
    "type": "execution"
   },
   {
    "id": "d545a9c37166494fb4c23bf4139098e8",
    "time": "2020-11-17T07:56:58.297Z",
    "type": "completion"
   },
   {
    "code": "# TEST\nnp.all(np.isclose(iris_mean, np.array([5.84333333, 3.05733333, 3.758, 1.19933333])))",
    "id": "1cab1f5c863c43548f820f194c761998",
    "idx": 11,
    "time": "2020-11-17T07:57:00.580Z",
    "type": "execution"
   },
   {
    "id": "1cab1f5c863c43548f820f194c761998",
    "time": "2020-11-17T07:57:00.650Z",
    "type": "completion"
   },
   {
    "code": "# TEST\nnp.all(np.isclose(np.zeros(4), np.mean(features, axis=0))) # make sure data is centered at 0",
    "id": "7bee69ebd65c4a479ac9de6897e8d0d9",
    "idx": 12,
    "time": "2020-11-17T07:57:01.316Z",
    "type": "execution"
   },
   {
    "id": "7bee69ebd65c4a479ac9de6897e8d0d9",
    "time": "2020-11-17T07:57:01.381Z",
    "type": "completion"
   },
   {
    "code": "# TEST\n-3.67 < np.sum(features[0]) < -3.64",
    "id": "060abe17e094499b8a1bc6a5490870f9",
    "idx": 13,
    "time": "2020-11-17T07:57:05.564Z",
    "type": "execution"
   },
   {
    "id": "060abe17e094499b8a1bc6a5490870f9",
    "time": "2020-11-17T07:57:05.626Z",
    "type": "completion"
   },
   {
    "code": "u, s, vt = np.linalg.svd(features, full_matrices=False) # SOLUTION\nu.shape, s, vt.shape",
    "id": "b778379bdf974b7d93f69b50a0149e66",
    "idx": 15,
    "time": "2020-11-17T08:00:13.518Z",
    "type": "execution"
   },
   {
    "id": "b778379bdf974b7d93f69b50a0149e66",
    "time": "2020-11-17T08:00:13.583Z",
    "type": "completion"
   },
   {
    "code": "# TEST\nnp.all(np.isclose(s, np.array([25.09996044,  6.01314738,  3.41368064,  1.88452351])))",
    "id": "f1118f714c7648d6b4fc49843522b999",
    "idx": 16,
    "time": "2020-11-17T08:00:22.473Z",
    "type": "execution"
   },
   {
    "id": "f1118f714c7648d6b4fc49843522b999",
    "time": "2020-11-17T08:00:22.539Z",
    "type": "completion"
   },
   {
    "code": "# TEST\nu.shape == (150, 4)",
    "id": "2f3b801a83c444478a51f4f046e40386",
    "idx": 17,
    "time": "2020-11-17T08:00:22.906Z",
    "type": "execution"
   },
   {
    "id": "2f3b801a83c444478a51f4f046e40386",
    "time": "2020-11-17T08:00:22.985Z",
    "type": "completion"
   },
   {
    "code": "# TEST\nvt.shape == (4, 4)",
    "id": "51103816166346f899e6c59e68afe796",
    "idx": 18,
    "time": "2020-11-17T08:00:23.266Z",
    "type": "execution"
   },
   {
    "id": "51103816166346f899e6c59e68afe796",
    "time": "2020-11-17T08:00:23.333Z",
    "type": "completion"
   },
   {
    "code": "s",
    "id": "6e4143b1af9e44088211e86b21bc94e5",
    "idx": 20,
    "time": "2020-11-17T08:00:47.751Z",
    "type": "execution"
   },
   {
    "id": "6e4143b1af9e44088211e86b21bc94e5",
    "time": "2020-11-17T08:00:47.819Z",
    "type": "completion"
   },
   {
    "code": "total_variance = np.sum(np.square(s)) / iris_features.shape[0] # SOLUTION\nprint(\"total_variance: {:.3f} should approximately equal the sum of the feature variances: {:.3f}\"\n      .format(total_variance, np.sum(np.var(iris_features, axis=0))))",
    "id": "73ed1ee96bce49e18e828466d6348478",
    "idx": 20,
    "time": "2020-11-17T08:01:01.208Z",
    "type": "execution"
   },
   {
    "id": "73ed1ee96bce49e18e828466d6348478",
    "time": "2020-11-17T08:01:01.296Z",
    "type": "completion"
   },
   {
    "code": "total_variance = np.sum(np.square(s)) / iris_features.shape[0] # SOLUTION\nprint(\"total_variance: {:.3f} should approximately equal the sum of the feature variances: {:.3f}\"\n      .format(total_variance, np.sum(np.var(iris_features, axis=0))))",
    "id": "73ed1ee96bce49e18e828466d6348478",
    "idx": 20,
    "time": "2020-11-17T08:01:14.216Z",
    "type": "execution"
   },
   {
    "id": "73ed1ee96bce49e18e828466d6348478",
    "time": "2020-11-17T08:01:14.287Z",
    "type": "completion"
   },
   {
    "code": "# TEST\n4 < total_variance < 5",
    "id": "5be44e6aa83a4a1c9115dea88b0d6eba",
    "idx": 21,
    "time": "2020-11-17T08:01:14.445Z",
    "type": "execution"
   },
   {
    "id": "5be44e6aa83a4a1c9115dea88b0d6eba",
    "time": "2020-11-17T08:01:14.508Z",
    "type": "completion"
   },
   {
    "code": "# TEST\nnp.isclose(total_variance, np.sum(np.var(iris_features, axis=0)))",
    "id": "c1c287e2ca9448848b5e3589e27f3fa4",
    "idx": 22,
    "time": "2020-11-17T08:01:14.868Z",
    "type": "execution"
   },
   {
    "id": "c1c287e2ca9448848b5e3589e27f3fa4",
    "time": "2020-11-17T08:01:14.937Z",
    "type": "completion"
   },
   {
    "code": "s",
    "id": "a6fba2f7ffcb47c4b7473e0c93c5fe3a",
    "idx": 25,
    "time": "2020-11-17T08:01:46.011Z",
    "type": "execution"
   },
   {
    "id": "a6fba2f7ffcb47c4b7473e0c93c5fe3a",
    "time": "2020-11-17T08:01:46.082Z",
    "type": "completion"
   },
   {
    "code": "iris_2d = np.dot(features, vt[:2, :].T) # SOLUTION\nnp.sum(iris_2d[0])",
    "id": "b26e2cd87a9e4e838815c426c21c3939",
    "idx": 25,
    "time": "2020-11-17T08:04:38.041Z",
    "type": "execution"
   },
   {
    "id": "b26e2cd87a9e4e838815c426c21c3939",
    "time": "2020-11-17T08:04:38.112Z",
    "type": "completion"
   },
   {
    "code": "# TEST\niris_2d.shape == (150, 2)",
    "id": "8fb403634cf14d359905a2110f080d32",
    "idx": 26,
    "time": "2020-11-17T08:04:38.841Z",
    "type": "execution"
   },
   {
    "id": "8fb403634cf14d359905a2110f080d32",
    "time": "2020-11-17T08:04:38.899Z",
    "type": "completion"
   },
   {
    "code": "# TEST\n-3.01 < np.sum(iris_2d[0]) < -3.00",
    "id": "79dd4b30f9df4279b893ffd8ee48c6b1",
    "idx": 27,
    "time": "2020-11-17T08:04:39.258Z",
    "type": "execution"
   },
   {
    "id": "79dd4b30f9df4279b893ffd8ee48c6b1",
    "time": "2020-11-17T08:04:39.324Z",
    "type": "completion"
   },
   {
    "code": "# TEST\nnp.isclose(0, np.sum(iris_2d))",
    "id": "ad0148335d6048a480c25657607d3a89",
    "idx": 28,
    "time": "2020-11-17T08:04:39.548Z",
    "type": "execution"
   },
   {
    "id": "ad0148335d6048a480c25657607d3a89",
    "time": "2020-11-17T08:04:39.618Z",
    "type": "completion"
   },
   {
    "code": "plt.figure(figsize=(9, 6))\nplt.title(\"PC2 vs. PC1 for Iris Data\")\nplt.xlabel(\"Iris PC1\")\nplt.ylabel(\"Iris PC2\")\nsns.scatterplot(iris_2d[:, 0], iris_2d[:, 1], hue=iris_target);",
    "id": "657dbb86359444698c4f75b86a84f841",
    "idx": 30,
    "time": "2020-11-17T08:04:43.282Z",
    "type": "execution"
   },
   {
    "id": "657dbb86359444698c4f75b86a84f841",
    "time": "2020-11-17T08:04:43.716Z",
    "type": "completion"
   },
   {
    "code": "plt.figure(figsize=(9, 6))\nplt.title(\"PC2 vs. PC1 for Iris Data\", fontsize=18)\nplt.xlabel(\"Iris PC1\", fontsize=15)\nplt.ylabel(\"Iris PC2\", fontsize=15)\nsns.scatterplot(x=iris_2d[:, 0], y=iris_2d[:, 1], hue=iris_target);",
    "id": "657dbb86359444698c4f75b86a84f841",
    "idx": 30,
    "time": "2020-11-17T08:05:05.596Z",
    "type": "execution"
   },
   {
    "id": "657dbb86359444698c4f75b86a84f841",
    "time": "2020-11-17T08:05:06.032Z",
    "type": "completion"
   },
   {
    "code": "two_dim_variance = (np.sum(np.square(s[:2])) / iris_features.shape[0]) / total_variance # SOLUTION\ntwo_dim_variance",
    "id": "e58f1f46c06d40be9b60078c6793cbbc",
    "idx": 34,
    "time": "2020-11-17T08:07:32.395Z",
    "type": "execution"
   },
   {
    "id": "e58f1f46c06d40be9b60078c6793cbbc",
    "time": "2020-11-17T08:07:32.469Z",
    "type": "completion"
   },
   {
    "code": "two_dim_variance = (np.sum(np.square(s[:2])) / iris_features.shape[0]) / total_variance # SOLUTION\ntwo_dim_variance",
    "id": "e58f1f46c06d40be9b60078c6793cbbc",
    "idx": 34,
    "time": "2020-11-17T08:07:54.301Z",
    "type": "execution"
   },
   {
    "id": "e58f1f46c06d40be9b60078c6793cbbc",
    "time": "2020-11-17T08:07:54.363Z",
    "type": "completion"
   },
   {
    "code": "# TEST\n0.97 < two_dim_variance < 0.98",
    "id": "43bb9824d93b469eab2f015068373ac2",
    "idx": 35,
    "time": "2020-11-17T08:07:54.577Z",
    "type": "execution"
   },
   {
    "id": "43bb9824d93b469eab2f015068373ac2",
    "time": "2020-11-17T08:07:54.642Z",
    "type": "completion"
   },
   {
    "code": "# BEGIN SOLUTION\nplt.xticks([1, 2, 3, 4])\nplt.xlabel(\"Principal Component\")\nplt.ylabel(\"Variance (Component Scores)\")\nplt.title(\"Scree Plot of Iris Principal Components\")\nplt.plot([1, 2, 3, 4], np.square(s) / iris_features.shape[0]);\n# plt.savefig(\"scree.png\");\n# END SOLUTION",
    "id": "5df7fee31ac741048f80af151685191a",
    "idx": 38,
    "time": "2020-11-17T08:09:51.601Z",
    "type": "execution"
   },
   {
    "id": "5df7fee31ac741048f80af151685191a",
    "time": "2020-11-17T08:09:52.027Z",
    "type": "completion"
   },
   {
    "code": "# BEGIN SOLUTION\nplt.xticks([1, 2, 3, 4])\nplt.xlabel(\"Principal Component\")\nplt.ylabel(\"Variance (Component Scores)\")\nplt.title(\"Scree Plot of Iris Principal Components\")\nplt.plot([1, 2, 3, 4], np.square(s) / iris_features.shape[0]);\n# END SOLUTION",
    "id": "5df7fee31ac741048f80af151685191a",
    "idx": 38,
    "time": "2020-11-17T08:10:15.431Z",
    "type": "execution"
   },
   {
    "id": "5df7fee31ac741048f80af151685191a",
    "time": "2020-11-17T08:10:15.679Z",
    "type": "completion"
   }
  ],
  "kernelspec": {
   "display_name": "Python 3",
   "language": "python",
   "name": "python3"
  },
  "language_info": {
   "codemirror_mode": {
    "name": "ipython",
    "version": 3
   },
   "file_extension": ".py",
   "mimetype": "text/x-python",
   "name": "python",
   "nbconvert_exporter": "python",
   "pygments_lexer": "ipython3",
   "version": "3.8.6"
  }
 },
 "nbformat": 4,
 "nbformat_minor": 2
}
